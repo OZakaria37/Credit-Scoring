{
 "cells": [
  {
   "cell_type": "markdown",
   "id": "88637daa",
   "metadata": {},
   "source": [
    "### Cleaning Is mostly done, deal with strange values, large and negative numbers, then get ready for modeling"
   ]
  }
 ],
 "metadata": {
  "language_info": {
   "name": "python"
  }
 },
 "nbformat": 4,
 "nbformat_minor": 5
}
