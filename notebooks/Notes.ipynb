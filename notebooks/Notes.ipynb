{
 "cells": [
  {
   "cell_type": "markdown",
   "id": "88637daa",
   "metadata": {},
   "source": [
    "### Preliminary modeling done, add summary after for the EDA"
   ]
  }
 ],
 "metadata": {
  "language_info": {
   "name": "python"
  }
 },
 "nbformat": 4,
 "nbformat_minor": 5
}
