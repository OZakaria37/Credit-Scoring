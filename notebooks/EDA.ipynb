{
 "cells": [
  {
   "cell_type": "markdown",
   "id": "ddf8267d",
   "metadata": {},
   "source": [
    "# Imports and Reading"
   ]
  },
  {
   "cell_type": "code",
   "execution_count": 1,
   "id": "53e6677f",
   "metadata": {},
   "outputs": [],
   "source": [
    "import polars as pl\n",
    "import plotly.express as ex\n",
    "import re"
   ]
  },
  {
   "cell_type": "code",
   "execution_count": 2,
   "id": "469c54fd",
   "metadata": {},
   "outputs": [],
   "source": [
    "df = pl.read_csv(\"..\\\\data\\\\train.csv\", infer_schema_length=10000)"
   ]
  },
  {
   "cell_type": "code",
   "execution_count": 3,
   "id": "67a7b07c",
   "metadata": {},
   "outputs": [
    {
     "data": {
      "text/plain": [
       "polars.config.Config"
      ]
     },
     "execution_count": 3,
     "metadata": {},
     "output_type": "execute_result"
    }
   ],
   "source": [
    "pl.Config.set_tbl_cols(-1)"
   ]
  },
  {
   "cell_type": "markdown",
   "id": "a3eb063a",
   "metadata": {},
   "source": [
    "# Initial Checks"
   ]
  },
  {
   "cell_type": "code",
   "execution_count": 4,
   "id": "708222f8",
   "metadata": {},
   "outputs": [
    {
     "data": {
      "text/plain": [
       "(100000, 28)"
      ]
     },
     "execution_count": 4,
     "metadata": {},
     "output_type": "execute_result"
    }
   ],
   "source": [
    "df.shape"
   ]
  },
  {
   "cell_type": "code",
   "execution_count": 5,
   "id": "e25bd8ce",
   "metadata": {},
   "outputs": [
    {
     "data": {
      "text/plain": [
       "['ID',\n",
       " 'Customer_ID',\n",
       " 'Month',\n",
       " 'Name',\n",
       " 'Age',\n",
       " 'SSN',\n",
       " 'Occupation',\n",
       " 'Annual_Income',\n",
       " 'Monthly_Inhand_Salary',\n",
       " 'Num_Bank_Accounts',\n",
       " 'Num_Credit_Card',\n",
       " 'Interest_Rate',\n",
       " 'Num_of_Loan',\n",
       " 'Type_of_Loan',\n",
       " 'Delay_from_due_date',\n",
       " 'Num_of_Delayed_Payment',\n",
       " 'Changed_Credit_Limit',\n",
       " 'Num_Credit_Inquiries',\n",
       " 'Credit_Mix',\n",
       " 'Outstanding_Debt',\n",
       " 'Credit_Utilization_Ratio',\n",
       " 'Credit_History_Age',\n",
       " 'Payment_of_Min_Amount',\n",
       " 'Total_EMI_per_month',\n",
       " 'Amount_invested_monthly',\n",
       " 'Payment_Behaviour',\n",
       " 'Monthly_Balance',\n",
       " 'Credit_Score']"
      ]
     },
     "execution_count": 5,
     "metadata": {},
     "output_type": "execute_result"
    }
   ],
   "source": [
    "df.columns"
   ]
  },
  {
   "cell_type": "code",
   "execution_count": 6,
   "id": "3b05fca7",
   "metadata": {},
   "outputs": [
    {
     "data": {
      "text/html": [
       "<div><style>\n",
       ".dataframe > thead > tr,\n",
       ".dataframe > tbody > tr {\n",
       "  text-align: right;\n",
       "  white-space: pre-wrap;\n",
       "}\n",
       "</style>\n",
       "<small>shape: (5, 28)</small><table border=\"1\" class=\"dataframe\"><thead><tr><th>ID</th><th>Customer_ID</th><th>Month</th><th>Name</th><th>Age</th><th>SSN</th><th>Occupation</th><th>Annual_Income</th><th>Monthly_Inhand_Salary</th><th>Num_Bank_Accounts</th><th>Num_Credit_Card</th><th>Interest_Rate</th><th>Num_of_Loan</th><th>Type_of_Loan</th><th>Delay_from_due_date</th><th>Num_of_Delayed_Payment</th><th>Changed_Credit_Limit</th><th>Num_Credit_Inquiries</th><th>Credit_Mix</th><th>Outstanding_Debt</th><th>Credit_Utilization_Ratio</th><th>Credit_History_Age</th><th>Payment_of_Min_Amount</th><th>Total_EMI_per_month</th><th>Amount_invested_monthly</th><th>Payment_Behaviour</th><th>Monthly_Balance</th><th>Credit_Score</th></tr><tr><td>str</td><td>str</td><td>str</td><td>str</td><td>str</td><td>str</td><td>str</td><td>str</td><td>f64</td><td>i64</td><td>i64</td><td>i64</td><td>str</td><td>str</td><td>i64</td><td>str</td><td>str</td><td>f64</td><td>str</td><td>str</td><td>f64</td><td>str</td><td>str</td><td>f64</td><td>str</td><td>str</td><td>str</td><td>str</td></tr></thead><tbody><tr><td>&quot;0x1602&quot;</td><td>&quot;CUS_0xd40&quot;</td><td>&quot;January&quot;</td><td>&quot;Aaron Maashoh&quot;</td><td>&quot;23&quot;</td><td>&quot;821-00-0265&quot;</td><td>&quot;Scientist&quot;</td><td>&quot;19114.12&quot;</td><td>1824.843333</td><td>3</td><td>4</td><td>3</td><td>&quot;4&quot;</td><td>&quot;Auto Loan, Credit-Builder Loan…</td><td>3</td><td>&quot;7&quot;</td><td>&quot;11.27&quot;</td><td>4.0</td><td>&quot;_&quot;</td><td>&quot;809.98&quot;</td><td>26.82262</td><td>&quot;22 Years and 1 Months&quot;</td><td>&quot;No&quot;</td><td>49.574949</td><td>&quot;80.41529543900253&quot;</td><td>&quot;High_spent_Small_value_payment…</td><td>&quot;312.49408867943663&quot;</td><td>&quot;Good&quot;</td></tr><tr><td>&quot;0x1603&quot;</td><td>&quot;CUS_0xd40&quot;</td><td>&quot;February&quot;</td><td>&quot;Aaron Maashoh&quot;</td><td>&quot;23&quot;</td><td>&quot;821-00-0265&quot;</td><td>&quot;Scientist&quot;</td><td>&quot;19114.12&quot;</td><td>null</td><td>3</td><td>4</td><td>3</td><td>&quot;4&quot;</td><td>&quot;Auto Loan, Credit-Builder Loan…</td><td>-1</td><td>null</td><td>&quot;11.27&quot;</td><td>4.0</td><td>&quot;Good&quot;</td><td>&quot;809.98&quot;</td><td>31.94496</td><td>&quot;NA&quot;</td><td>&quot;No&quot;</td><td>49.574949</td><td>&quot;118.28022162236736&quot;</td><td>&quot;Low_spent_Large_value_payments&quot;</td><td>&quot;284.62916249607184&quot;</td><td>&quot;Good&quot;</td></tr><tr><td>&quot;0x1604&quot;</td><td>&quot;CUS_0xd40&quot;</td><td>&quot;March&quot;</td><td>&quot;Aaron Maashoh&quot;</td><td>&quot;-500&quot;</td><td>&quot;821-00-0265&quot;</td><td>&quot;Scientist&quot;</td><td>&quot;19114.12&quot;</td><td>null</td><td>3</td><td>4</td><td>3</td><td>&quot;4&quot;</td><td>&quot;Auto Loan, Credit-Builder Loan…</td><td>3</td><td>&quot;7&quot;</td><td>&quot;_&quot;</td><td>4.0</td><td>&quot;Good&quot;</td><td>&quot;809.98&quot;</td><td>28.609352</td><td>&quot;22 Years and 3 Months&quot;</td><td>&quot;No&quot;</td><td>49.574949</td><td>&quot;81.699521264648&quot;</td><td>&quot;Low_spent_Medium_value_payment…</td><td>&quot;331.2098628537912&quot;</td><td>&quot;Good&quot;</td></tr><tr><td>&quot;0x1605&quot;</td><td>&quot;CUS_0xd40&quot;</td><td>&quot;April&quot;</td><td>&quot;Aaron Maashoh&quot;</td><td>&quot;23&quot;</td><td>&quot;821-00-0265&quot;</td><td>&quot;Scientist&quot;</td><td>&quot;19114.12&quot;</td><td>null</td><td>3</td><td>4</td><td>3</td><td>&quot;4&quot;</td><td>&quot;Auto Loan, Credit-Builder Loan…</td><td>5</td><td>&quot;4&quot;</td><td>&quot;6.27&quot;</td><td>4.0</td><td>&quot;Good&quot;</td><td>&quot;809.98&quot;</td><td>31.377862</td><td>&quot;22 Years and 4 Months&quot;</td><td>&quot;No&quot;</td><td>49.574949</td><td>&quot;199.4580743910713&quot;</td><td>&quot;Low_spent_Small_value_payments&quot;</td><td>&quot;223.45130972736786&quot;</td><td>&quot;Good&quot;</td></tr><tr><td>&quot;0x1606&quot;</td><td>&quot;CUS_0xd40&quot;</td><td>&quot;May&quot;</td><td>&quot;Aaron Maashoh&quot;</td><td>&quot;23&quot;</td><td>&quot;821-00-0265&quot;</td><td>&quot;Scientist&quot;</td><td>&quot;19114.12&quot;</td><td>1824.843333</td><td>3</td><td>4</td><td>3</td><td>&quot;4&quot;</td><td>&quot;Auto Loan, Credit-Builder Loan…</td><td>6</td><td>null</td><td>&quot;11.27&quot;</td><td>4.0</td><td>&quot;Good&quot;</td><td>&quot;809.98&quot;</td><td>24.797347</td><td>&quot;22 Years and 5 Months&quot;</td><td>&quot;No&quot;</td><td>49.574949</td><td>&quot;41.420153086217326&quot;</td><td>&quot;High_spent_Medium_value_paymen…</td><td>&quot;341.48923103222177&quot;</td><td>&quot;Good&quot;</td></tr></tbody></table></div>"
      ],
      "text/plain": [
       "shape: (5, 28)\n",
       "┌─────┬─────┬─────┬─────┬─────┬─────┬─────┬─────┬─────┬─────┬─────┬─────┬─────┬─────┬─────┬─────┬─────┬─────┬─────┬─────┬─────┬─────┬─────┬─────┬─────┬─────┬─────┬─────┐\n",
       "│ ID  ┆ Cus ┆ Mon ┆ Nam ┆ Age ┆ SSN ┆ Occ ┆ Ann ┆ Mon ┆ Num ┆ Num ┆ Int ┆ Num ┆ Typ ┆ Del ┆ Num ┆ Cha ┆ Num ┆ Cre ┆ Out ┆ Cre ┆ Cre ┆ Pay ┆ Tot ┆ Amo ┆ Pay ┆ Mon ┆ Cre │\n",
       "│ --- ┆ tom ┆ th  ┆ e   ┆ --- ┆ --- ┆ upa ┆ ual ┆ thl ┆ _Ba ┆ _Cr ┆ ere ┆ _of ┆ e_o ┆ ay_ ┆ _of ┆ nge ┆ _Cr ┆ dit ┆ sta ┆ dit ┆ dit ┆ men ┆ al_ ┆ unt ┆ men ┆ thl ┆ dit │\n",
       "│ str ┆ er_ ┆ --- ┆ --- ┆ str ┆ str ┆ tio ┆ _In ┆ y_I ┆ nk_ ┆ edi ┆ st_ ┆ _Lo ┆ f_L ┆ fro ┆ _De ┆ d_C ┆ edi ┆ _Mi ┆ ndi ┆ _Ut ┆ _Hi ┆ t_o ┆ EMI ┆ _in ┆ t_B ┆ y_B ┆ _Sc │\n",
       "│     ┆ ID  ┆ str ┆ str ┆     ┆     ┆ n   ┆ com ┆ nha ┆ Acc ┆ t_C ┆ Rat ┆ an  ┆ oan ┆ m_d ┆ lay ┆ red ┆ t_I ┆ x   ┆ ng_ ┆ ili ┆ sto ┆ f_M ┆ _pe ┆ ves ┆ eha ┆ ala ┆ ore │\n",
       "│     ┆ --- ┆     ┆     ┆     ┆     ┆ --- ┆ e   ┆ nd_ ┆ oun ┆ ard ┆ e   ┆ --- ┆ --- ┆ ue_ ┆ ed_ ┆ it_ ┆ nqu ┆ --- ┆ Deb ┆ zat ┆ ry_ ┆ in_ ┆ r_m ┆ ted ┆ vio ┆ nce ┆ --- │\n",
       "│     ┆ str ┆     ┆     ┆     ┆     ┆ str ┆ --- ┆ Sal ┆ ts  ┆ --- ┆ --- ┆ str ┆ str ┆ dat ┆ Pay ┆ Lim ┆ iri ┆ str ┆ t   ┆ ion ┆ Age ┆ Amo ┆ ont ┆ _mo ┆ ur  ┆ --- ┆ str │\n",
       "│     ┆     ┆     ┆     ┆     ┆     ┆     ┆ str ┆ ary ┆ --- ┆ i64 ┆ i64 ┆     ┆     ┆ e   ┆ men ┆ it  ┆ es  ┆     ┆ --- ┆ _Ra ┆ --- ┆ unt ┆ h   ┆ nth ┆ --- ┆ str ┆     │\n",
       "│     ┆     ┆     ┆     ┆     ┆     ┆     ┆     ┆ --- ┆ i64 ┆     ┆     ┆     ┆     ┆ --- ┆ t   ┆ --- ┆ --- ┆     ┆ str ┆ tio ┆ str ┆ --- ┆ --- ┆ ly  ┆ str ┆     ┆     │\n",
       "│     ┆     ┆     ┆     ┆     ┆     ┆     ┆     ┆ f64 ┆     ┆     ┆     ┆     ┆     ┆ i64 ┆ --- ┆ str ┆ f64 ┆     ┆     ┆ --- ┆     ┆ str ┆ f64 ┆ --- ┆     ┆     ┆     │\n",
       "│     ┆     ┆     ┆     ┆     ┆     ┆     ┆     ┆     ┆     ┆     ┆     ┆     ┆     ┆     ┆ str ┆     ┆     ┆     ┆     ┆ f64 ┆     ┆     ┆     ┆ str ┆     ┆     ┆     │\n",
       "╞═════╪═════╪═════╪═════╪═════╪═════╪═════╪═════╪═════╪═════╪═════╪═════╪═════╪═════╪═════╪═════╪═════╪═════╪═════╪═════╪═════╪═════╪═════╪═════╪═════╪═════╪═════╪═════╡\n",
       "│ 0x1 ┆ CUS ┆ Jan ┆ Aar ┆ 23  ┆ 821 ┆ Sci ┆ 191 ┆ 182 ┆ 3   ┆ 4   ┆ 3   ┆ 4   ┆ Aut ┆ 3   ┆ 7   ┆ 11. ┆ 4.0 ┆ _   ┆ 809 ┆ 26. ┆ 22  ┆ No  ┆ 49. ┆ 80. ┆ Hig ┆ 312 ┆ Goo │\n",
       "│ 602 ┆ _0x ┆ uar ┆ on  ┆     ┆ -00 ┆ ent ┆ 14. ┆ 4.8 ┆     ┆     ┆     ┆     ┆ o   ┆     ┆     ┆ 27  ┆     ┆     ┆ .98 ┆ 822 ┆ Yea ┆     ┆ 574 ┆ 415 ┆ h_s ┆ .49 ┆ d   │\n",
       "│     ┆ d40 ┆ y   ┆ Maa ┆     ┆ -02 ┆ ist ┆ 12  ┆ 433 ┆     ┆     ┆     ┆     ┆ Loa ┆     ┆     ┆     ┆     ┆     ┆     ┆ 62  ┆ rs  ┆     ┆ 949 ┆ 295 ┆ pen ┆ 408 ┆     │\n",
       "│     ┆     ┆     ┆ sho ┆     ┆ 65  ┆     ┆     ┆ 33  ┆     ┆     ┆     ┆     ┆ n,  ┆     ┆     ┆     ┆     ┆     ┆     ┆     ┆ and ┆     ┆     ┆ 439 ┆ t_S ┆ 867 ┆     │\n",
       "│     ┆     ┆     ┆ h   ┆     ┆     ┆     ┆     ┆     ┆     ┆     ┆     ┆     ┆ Cre ┆     ┆     ┆     ┆     ┆     ┆     ┆     ┆ 1   ┆     ┆     ┆ 002 ┆ mal ┆ 943 ┆     │\n",
       "│     ┆     ┆     ┆     ┆     ┆     ┆     ┆     ┆     ┆     ┆     ┆     ┆     ┆ dit ┆     ┆     ┆     ┆     ┆     ┆     ┆     ┆ Mon ┆     ┆     ┆ 53  ┆ l_v ┆ 663 ┆     │\n",
       "│     ┆     ┆     ┆     ┆     ┆     ┆     ┆     ┆     ┆     ┆     ┆     ┆     ┆ -Bu ┆     ┆     ┆     ┆     ┆     ┆     ┆     ┆ ths ┆     ┆     ┆     ┆ alu ┆     ┆     │\n",
       "│     ┆     ┆     ┆     ┆     ┆     ┆     ┆     ┆     ┆     ┆     ┆     ┆     ┆ ild ┆     ┆     ┆     ┆     ┆     ┆     ┆     ┆     ┆     ┆     ┆     ┆ e_p ┆     ┆     │\n",
       "│     ┆     ┆     ┆     ┆     ┆     ┆     ┆     ┆     ┆     ┆     ┆     ┆     ┆ er  ┆     ┆     ┆     ┆     ┆     ┆     ┆     ┆     ┆     ┆     ┆     ┆ aym ┆     ┆     │\n",
       "│     ┆     ┆     ┆     ┆     ┆     ┆     ┆     ┆     ┆     ┆     ┆     ┆     ┆ Loa ┆     ┆     ┆     ┆     ┆     ┆     ┆     ┆     ┆     ┆     ┆     ┆ ent ┆     ┆     │\n",
       "│     ┆     ┆     ┆     ┆     ┆     ┆     ┆     ┆     ┆     ┆     ┆     ┆     ┆ n…  ┆     ┆     ┆     ┆     ┆     ┆     ┆     ┆     ┆     ┆     ┆     ┆ …   ┆     ┆     │\n",
       "│ 0x1 ┆ CUS ┆ Feb ┆ Aar ┆ 23  ┆ 821 ┆ Sci ┆ 191 ┆ nul ┆ 3   ┆ 4   ┆ 3   ┆ 4   ┆ Aut ┆ -1  ┆ nul ┆ 11. ┆ 4.0 ┆ Goo ┆ 809 ┆ 31. ┆ NA  ┆ No  ┆ 49. ┆ 118 ┆ Low ┆ 284 ┆ Goo │\n",
       "│ 603 ┆ _0x ┆ rua ┆ on  ┆     ┆ -00 ┆ ent ┆ 14. ┆ l   ┆     ┆     ┆     ┆     ┆ o   ┆     ┆ l   ┆ 27  ┆     ┆ d   ┆ .98 ┆ 944 ┆     ┆     ┆ 574 ┆ .28 ┆ _sp ┆ .62 ┆ d   │\n",
       "│     ┆ d40 ┆ ry  ┆ Maa ┆     ┆ -02 ┆ ist ┆ 12  ┆     ┆     ┆     ┆     ┆     ┆ Loa ┆     ┆     ┆     ┆     ┆     ┆     ┆ 96  ┆     ┆     ┆ 949 ┆ 022 ┆ ent ┆ 916 ┆     │\n",
       "│     ┆     ┆     ┆ sho ┆     ┆ 65  ┆     ┆     ┆     ┆     ┆     ┆     ┆     ┆ n,  ┆     ┆     ┆     ┆     ┆     ┆     ┆     ┆     ┆     ┆     ┆ 162 ┆ _La ┆ 249 ┆     │\n",
       "│     ┆     ┆     ┆ h   ┆     ┆     ┆     ┆     ┆     ┆     ┆     ┆     ┆     ┆ Cre ┆     ┆     ┆     ┆     ┆     ┆     ┆     ┆     ┆     ┆     ┆ 236 ┆ rge ┆ 607 ┆     │\n",
       "│     ┆     ┆     ┆     ┆     ┆     ┆     ┆     ┆     ┆     ┆     ┆     ┆     ┆ dit ┆     ┆     ┆     ┆     ┆     ┆     ┆     ┆     ┆     ┆     ┆ 736 ┆ _va ┆ 184 ┆     │\n",
       "│     ┆     ┆     ┆     ┆     ┆     ┆     ┆     ┆     ┆     ┆     ┆     ┆     ┆ -Bu ┆     ┆     ┆     ┆     ┆     ┆     ┆     ┆     ┆     ┆     ┆     ┆ lue ┆     ┆     │\n",
       "│     ┆     ┆     ┆     ┆     ┆     ┆     ┆     ┆     ┆     ┆     ┆     ┆     ┆ ild ┆     ┆     ┆     ┆     ┆     ┆     ┆     ┆     ┆     ┆     ┆     ┆ _pa ┆     ┆     │\n",
       "│     ┆     ┆     ┆     ┆     ┆     ┆     ┆     ┆     ┆     ┆     ┆     ┆     ┆ er  ┆     ┆     ┆     ┆     ┆     ┆     ┆     ┆     ┆     ┆     ┆     ┆ yme ┆     ┆     │\n",
       "│     ┆     ┆     ┆     ┆     ┆     ┆     ┆     ┆     ┆     ┆     ┆     ┆     ┆ Loa ┆     ┆     ┆     ┆     ┆     ┆     ┆     ┆     ┆     ┆     ┆     ┆ nts ┆     ┆     │\n",
       "│     ┆     ┆     ┆     ┆     ┆     ┆     ┆     ┆     ┆     ┆     ┆     ┆     ┆ n…  ┆     ┆     ┆     ┆     ┆     ┆     ┆     ┆     ┆     ┆     ┆     ┆     ┆     ┆     │\n",
       "│ 0x1 ┆ CUS ┆ Mar ┆ Aar ┆ -50 ┆ 821 ┆ Sci ┆ 191 ┆ nul ┆ 3   ┆ 4   ┆ 3   ┆ 4   ┆ Aut ┆ 3   ┆ 7   ┆ _   ┆ 4.0 ┆ Goo ┆ 809 ┆ 28. ┆ 22  ┆ No  ┆ 49. ┆ 81. ┆ Low ┆ 331 ┆ Goo │\n",
       "│ 604 ┆ _0x ┆ ch  ┆ on  ┆ 0   ┆ -00 ┆ ent ┆ 14. ┆ l   ┆     ┆     ┆     ┆     ┆ o   ┆     ┆     ┆     ┆     ┆ d   ┆ .98 ┆ 609 ┆ Yea ┆     ┆ 574 ┆ 699 ┆ _sp ┆ .20 ┆ d   │\n",
       "│     ┆ d40 ┆     ┆ Maa ┆     ┆ -02 ┆ ist ┆ 12  ┆     ┆     ┆     ┆     ┆     ┆ Loa ┆     ┆     ┆     ┆     ┆     ┆     ┆ 352 ┆ rs  ┆     ┆ 949 ┆ 521 ┆ ent ┆ 986 ┆     │\n",
       "│     ┆     ┆     ┆ sho ┆     ┆ 65  ┆     ┆     ┆     ┆     ┆     ┆     ┆     ┆ n,  ┆     ┆     ┆     ┆     ┆     ┆     ┆     ┆ and ┆     ┆     ┆ 264 ┆ _Me ┆ 285 ┆     │\n",
       "│     ┆     ┆     ┆ h   ┆     ┆     ┆     ┆     ┆     ┆     ┆     ┆     ┆     ┆ Cre ┆     ┆     ┆     ┆     ┆     ┆     ┆     ┆ 3   ┆     ┆     ┆ 648 ┆ diu ┆ 379 ┆     │\n",
       "│     ┆     ┆     ┆     ┆     ┆     ┆     ┆     ┆     ┆     ┆     ┆     ┆     ┆ dit ┆     ┆     ┆     ┆     ┆     ┆     ┆     ┆ Mon ┆     ┆     ┆     ┆ m_v ┆ 12  ┆     │\n",
       "│     ┆     ┆     ┆     ┆     ┆     ┆     ┆     ┆     ┆     ┆     ┆     ┆     ┆ -Bu ┆     ┆     ┆     ┆     ┆     ┆     ┆     ┆ ths ┆     ┆     ┆     ┆ alu ┆     ┆     │\n",
       "│     ┆     ┆     ┆     ┆     ┆     ┆     ┆     ┆     ┆     ┆     ┆     ┆     ┆ ild ┆     ┆     ┆     ┆     ┆     ┆     ┆     ┆     ┆     ┆     ┆     ┆ e_p ┆     ┆     │\n",
       "│     ┆     ┆     ┆     ┆     ┆     ┆     ┆     ┆     ┆     ┆     ┆     ┆     ┆ er  ┆     ┆     ┆     ┆     ┆     ┆     ┆     ┆     ┆     ┆     ┆     ┆ aym ┆     ┆     │\n",
       "│     ┆     ┆     ┆     ┆     ┆     ┆     ┆     ┆     ┆     ┆     ┆     ┆     ┆ Loa ┆     ┆     ┆     ┆     ┆     ┆     ┆     ┆     ┆     ┆     ┆     ┆ ent ┆     ┆     │\n",
       "│     ┆     ┆     ┆     ┆     ┆     ┆     ┆     ┆     ┆     ┆     ┆     ┆     ┆ n…  ┆     ┆     ┆     ┆     ┆     ┆     ┆     ┆     ┆     ┆     ┆     ┆ …   ┆     ┆     │\n",
       "│ 0x1 ┆ CUS ┆ Apr ┆ Aar ┆ 23  ┆ 821 ┆ Sci ┆ 191 ┆ nul ┆ 3   ┆ 4   ┆ 3   ┆ 4   ┆ Aut ┆ 5   ┆ 4   ┆ 6.2 ┆ 4.0 ┆ Goo ┆ 809 ┆ 31. ┆ 22  ┆ No  ┆ 49. ┆ 199 ┆ Low ┆ 223 ┆ Goo │\n",
       "│ 605 ┆ _0x ┆ il  ┆ on  ┆     ┆ -00 ┆ ent ┆ 14. ┆ l   ┆     ┆     ┆     ┆     ┆ o   ┆     ┆     ┆ 7   ┆     ┆ d   ┆ .98 ┆ 377 ┆ Yea ┆     ┆ 574 ┆ .45 ┆ _sp ┆ .45 ┆ d   │\n",
       "│     ┆ d40 ┆     ┆ Maa ┆     ┆ -02 ┆ ist ┆ 12  ┆     ┆     ┆     ┆     ┆     ┆ Loa ┆     ┆     ┆     ┆     ┆     ┆     ┆ 862 ┆ rs  ┆     ┆ 949 ┆ 807 ┆ ent ┆ 130 ┆     │\n",
       "│     ┆     ┆     ┆ sho ┆     ┆ 65  ┆     ┆     ┆     ┆     ┆     ┆     ┆     ┆ n,  ┆     ┆     ┆     ┆     ┆     ┆     ┆     ┆ and ┆     ┆     ┆ 439 ┆ _Sm ┆ 972 ┆     │\n",
       "│     ┆     ┆     ┆ h   ┆     ┆     ┆     ┆     ┆     ┆     ┆     ┆     ┆     ┆ Cre ┆     ┆     ┆     ┆     ┆     ┆     ┆     ┆ 4   ┆     ┆     ┆ 107 ┆ all ┆ 736 ┆     │\n",
       "│     ┆     ┆     ┆     ┆     ┆     ┆     ┆     ┆     ┆     ┆     ┆     ┆     ┆ dit ┆     ┆     ┆     ┆     ┆     ┆     ┆     ┆ Mon ┆     ┆     ┆ 13  ┆ _va ┆ 786 ┆     │\n",
       "│     ┆     ┆     ┆     ┆     ┆     ┆     ┆     ┆     ┆     ┆     ┆     ┆     ┆ -Bu ┆     ┆     ┆     ┆     ┆     ┆     ┆     ┆ ths ┆     ┆     ┆     ┆ lue ┆     ┆     │\n",
       "│     ┆     ┆     ┆     ┆     ┆     ┆     ┆     ┆     ┆     ┆     ┆     ┆     ┆ ild ┆     ┆     ┆     ┆     ┆     ┆     ┆     ┆     ┆     ┆     ┆     ┆ _pa ┆     ┆     │\n",
       "│     ┆     ┆     ┆     ┆     ┆     ┆     ┆     ┆     ┆     ┆     ┆     ┆     ┆ er  ┆     ┆     ┆     ┆     ┆     ┆     ┆     ┆     ┆     ┆     ┆     ┆ yme ┆     ┆     │\n",
       "│     ┆     ┆     ┆     ┆     ┆     ┆     ┆     ┆     ┆     ┆     ┆     ┆     ┆ Loa ┆     ┆     ┆     ┆     ┆     ┆     ┆     ┆     ┆     ┆     ┆     ┆ nts ┆     ┆     │\n",
       "│     ┆     ┆     ┆     ┆     ┆     ┆     ┆     ┆     ┆     ┆     ┆     ┆     ┆ n…  ┆     ┆     ┆     ┆     ┆     ┆     ┆     ┆     ┆     ┆     ┆     ┆     ┆     ┆     │\n",
       "│ 0x1 ┆ CUS ┆ May ┆ Aar ┆ 23  ┆ 821 ┆ Sci ┆ 191 ┆ 182 ┆ 3   ┆ 4   ┆ 3   ┆ 4   ┆ Aut ┆ 6   ┆ nul ┆ 11. ┆ 4.0 ┆ Goo ┆ 809 ┆ 24. ┆ 22  ┆ No  ┆ 49. ┆ 41. ┆ Hig ┆ 341 ┆ Goo │\n",
       "│ 606 ┆ _0x ┆     ┆ on  ┆     ┆ -00 ┆ ent ┆ 14. ┆ 4.8 ┆     ┆     ┆     ┆     ┆ o   ┆     ┆ l   ┆ 27  ┆     ┆ d   ┆ .98 ┆ 797 ┆ Yea ┆     ┆ 574 ┆ 420 ┆ h_s ┆ .48 ┆ d   │\n",
       "│     ┆ d40 ┆     ┆ Maa ┆     ┆ -02 ┆ ist ┆ 12  ┆ 433 ┆     ┆     ┆     ┆     ┆ Loa ┆     ┆     ┆     ┆     ┆     ┆     ┆ 347 ┆ rs  ┆     ┆ 949 ┆ 153 ┆ pen ┆ 923 ┆     │\n",
       "│     ┆     ┆     ┆ sho ┆     ┆ 65  ┆     ┆     ┆ 33  ┆     ┆     ┆     ┆     ┆ n,  ┆     ┆     ┆     ┆     ┆     ┆     ┆     ┆ and ┆     ┆     ┆ 086 ┆ t_M ┆ 103 ┆     │\n",
       "│     ┆     ┆     ┆ h   ┆     ┆     ┆     ┆     ┆     ┆     ┆     ┆     ┆     ┆ Cre ┆     ┆     ┆     ┆     ┆     ┆     ┆     ┆ 5   ┆     ┆     ┆ 217 ┆ edi ┆ 222 ┆     │\n",
       "│     ┆     ┆     ┆     ┆     ┆     ┆     ┆     ┆     ┆     ┆     ┆     ┆     ┆ dit ┆     ┆     ┆     ┆     ┆     ┆     ┆     ┆ Mon ┆     ┆     ┆ 326 ┆ um_ ┆ 177 ┆     │\n",
       "│     ┆     ┆     ┆     ┆     ┆     ┆     ┆     ┆     ┆     ┆     ┆     ┆     ┆ -Bu ┆     ┆     ┆     ┆     ┆     ┆     ┆     ┆ ths ┆     ┆     ┆     ┆ val ┆     ┆     │\n",
       "│     ┆     ┆     ┆     ┆     ┆     ┆     ┆     ┆     ┆     ┆     ┆     ┆     ┆ ild ┆     ┆     ┆     ┆     ┆     ┆     ┆     ┆     ┆     ┆     ┆     ┆ ue_ ┆     ┆     │\n",
       "│     ┆     ┆     ┆     ┆     ┆     ┆     ┆     ┆     ┆     ┆     ┆     ┆     ┆ er  ┆     ┆     ┆     ┆     ┆     ┆     ┆     ┆     ┆     ┆     ┆     ┆ pay ┆     ┆     │\n",
       "│     ┆     ┆     ┆     ┆     ┆     ┆     ┆     ┆     ┆     ┆     ┆     ┆     ┆ Loa ┆     ┆     ┆     ┆     ┆     ┆     ┆     ┆     ┆     ┆     ┆     ┆ men ┆     ┆     │\n",
       "│     ┆     ┆     ┆     ┆     ┆     ┆     ┆     ┆     ┆     ┆     ┆     ┆     ┆ n…  ┆     ┆     ┆     ┆     ┆     ┆     ┆     ┆     ┆     ┆     ┆     ┆ …   ┆     ┆     │\n",
       "└─────┴─────┴─────┴─────┴─────┴─────┴─────┴─────┴─────┴─────┴─────┴─────┴─────┴─────┴─────┴─────┴─────┴─────┴─────┴─────┴─────┴─────┴─────┴─────┴─────┴─────┴─────┴─────┘"
      ]
     },
     "execution_count": 6,
     "metadata": {},
     "output_type": "execute_result"
    }
   ],
   "source": [
    "df.head()"
   ]
  },
  {
   "cell_type": "code",
   "execution_count": 7,
   "id": "2094cd2f",
   "metadata": {},
   "outputs": [
    {
     "data": {
      "text/html": [
       "<div><style>\n",
       ".dataframe > thead > tr,\n",
       ".dataframe > tbody > tr {\n",
       "  text-align: right;\n",
       "  white-space: pre-wrap;\n",
       "}\n",
       "</style>\n",
       "<small>shape: (9, 29)</small><table border=\"1\" class=\"dataframe\"><thead><tr><th>statistic</th><th>ID</th><th>Customer_ID</th><th>Month</th><th>Name</th><th>Age</th><th>SSN</th><th>Occupation</th><th>Annual_Income</th><th>Monthly_Inhand_Salary</th><th>Num_Bank_Accounts</th><th>Num_Credit_Card</th><th>Interest_Rate</th><th>Num_of_Loan</th><th>Type_of_Loan</th><th>Delay_from_due_date</th><th>Num_of_Delayed_Payment</th><th>Changed_Credit_Limit</th><th>Num_Credit_Inquiries</th><th>Credit_Mix</th><th>Outstanding_Debt</th><th>Credit_Utilization_Ratio</th><th>Credit_History_Age</th><th>Payment_of_Min_Amount</th><th>Total_EMI_per_month</th><th>Amount_invested_monthly</th><th>Payment_Behaviour</th><th>Monthly_Balance</th><th>Credit_Score</th></tr><tr><td>str</td><td>str</td><td>str</td><td>str</td><td>str</td><td>str</td><td>str</td><td>str</td><td>str</td><td>f64</td><td>f64</td><td>f64</td><td>f64</td><td>str</td><td>str</td><td>f64</td><td>str</td><td>str</td><td>f64</td><td>str</td><td>str</td><td>f64</td><td>str</td><td>str</td><td>f64</td><td>str</td><td>str</td><td>str</td><td>str</td></tr></thead><tbody><tr><td>&quot;count&quot;</td><td>&quot;100000&quot;</td><td>&quot;100000&quot;</td><td>&quot;100000&quot;</td><td>&quot;90015&quot;</td><td>&quot;100000&quot;</td><td>&quot;100000&quot;</td><td>&quot;100000&quot;</td><td>&quot;100000&quot;</td><td>84998.0</td><td>100000.0</td><td>100000.0</td><td>100000.0</td><td>&quot;100000&quot;</td><td>&quot;88592&quot;</td><td>100000.0</td><td>&quot;92998&quot;</td><td>&quot;100000&quot;</td><td>98035.0</td><td>&quot;100000&quot;</td><td>&quot;100000&quot;</td><td>100000.0</td><td>&quot;100000&quot;</td><td>&quot;100000&quot;</td><td>100000.0</td><td>&quot;95521&quot;</td><td>&quot;100000&quot;</td><td>&quot;98800&quot;</td><td>&quot;100000&quot;</td></tr><tr><td>&quot;null_count&quot;</td><td>&quot;0&quot;</td><td>&quot;0&quot;</td><td>&quot;0&quot;</td><td>&quot;9985&quot;</td><td>&quot;0&quot;</td><td>&quot;0&quot;</td><td>&quot;0&quot;</td><td>&quot;0&quot;</td><td>15002.0</td><td>0.0</td><td>0.0</td><td>0.0</td><td>&quot;0&quot;</td><td>&quot;11408&quot;</td><td>0.0</td><td>&quot;7002&quot;</td><td>&quot;0&quot;</td><td>1965.0</td><td>&quot;0&quot;</td><td>&quot;0&quot;</td><td>0.0</td><td>&quot;0&quot;</td><td>&quot;0&quot;</td><td>0.0</td><td>&quot;4479&quot;</td><td>&quot;0&quot;</td><td>&quot;1200&quot;</td><td>&quot;0&quot;</td></tr><tr><td>&quot;mean&quot;</td><td>null</td><td>null</td><td>null</td><td>null</td><td>null</td><td>null</td><td>null</td><td>null</td><td>4194.17085</td><td>17.09128</td><td>22.47443</td><td>72.46604</td><td>null</td><td>null</td><td>21.06878</td><td>null</td><td>null</td><td>27.754251</td><td>null</td><td>null</td><td>32.285173</td><td>null</td><td>null</td><td>1403.118217</td><td>null</td><td>null</td><td>null</td><td>null</td></tr><tr><td>&quot;std&quot;</td><td>null</td><td>null</td><td>null</td><td>null</td><td>null</td><td>null</td><td>null</td><td>null</td><td>3183.686167</td><td>117.404834</td><td>129.05741</td><td>466.422621</td><td>null</td><td>null</td><td>14.860104</td><td>null</td><td>null</td><td>193.177339</td><td>null</td><td>null</td><td>5.116875</td><td>null</td><td>null</td><td>8306.04127</td><td>null</td><td>null</td><td>null</td><td>null</td></tr><tr><td>&quot;min&quot;</td><td>&quot;0x10002&quot;</td><td>&quot;CUS_0x1000&quot;</td><td>&quot;April&quot;</td><td>&quot; Mattr&quot;</td><td>&quot;-500&quot;</td><td>&quot;#F%$D@*&amp;8&quot;</td><td>&quot;Accountant&quot;</td><td>&quot;10001727.0&quot;</td><td>303.645417</td><td>-1.0</td><td>0.0</td><td>1.0</td><td>&quot;-100&quot;</td><td>&quot;Auto Loan&quot;</td><td>-5.0</td><td>&quot;-1&quot;</td><td>&quot;-0.009999999999999787&quot;</td><td>0.0</td><td>&quot;Bad&quot;</td><td>&quot;0.23&quot;</td><td>20.0</td><td>&quot;0 Years and 1 Months&quot;</td><td>&quot;NM&quot;</td><td>0.0</td><td>&quot;0.0&quot;</td><td>&quot;!@9#%8&quot;</td><td>&quot;0.007759664775335295&quot;</td><td>&quot;Good&quot;</td></tr><tr><td>&quot;25%&quot;</td><td>null</td><td>null</td><td>null</td><td>null</td><td>null</td><td>null</td><td>null</td><td>null</td><td>1625.558333</td><td>3.0</td><td>4.0</td><td>8.0</td><td>null</td><td>null</td><td>10.0</td><td>null</td><td>null</td><td>3.0</td><td>null</td><td>null</td><td>28.052568</td><td>null</td><td>null</td><td>30.30666</td><td>null</td><td>null</td><td>null</td><td>null</td></tr><tr><td>&quot;50%&quot;</td><td>null</td><td>null</td><td>null</td><td>null</td><td>null</td><td>null</td><td>null</td><td>null</td><td>3093.745</td><td>6.0</td><td>5.0</td><td>13.0</td><td>null</td><td>null</td><td>18.0</td><td>null</td><td>null</td><td>6.0</td><td>null</td><td>null</td><td>32.305891</td><td>null</td><td>null</td><td>69.252263</td><td>null</td><td>null</td><td>null</td><td>null</td></tr><tr><td>&quot;75%&quot;</td><td>null</td><td>null</td><td>null</td><td>null</td><td>null</td><td>null</td><td>null</td><td>null</td><td>5957.448333</td><td>7.0</td><td>7.0</td><td>20.0</td><td>null</td><td>null</td><td>28.0</td><td>null</td><td>null</td><td>9.0</td><td>null</td><td>null</td><td>36.496612</td><td>null</td><td>null</td><td>161.224249</td><td>null</td><td>null</td><td>null</td><td>null</td></tr><tr><td>&quot;max&quot;</td><td>&quot;0xfffd&quot;</td><td>&quot;CUS_0xffd&quot;</td><td>&quot;May&quot;</td><td>&quot;yv&quot;</td><td>&quot;995&quot;</td><td>&quot;999-99-3421&quot;</td><td>&quot;_______&quot;</td><td>&quot;99995.22&quot;</td><td>15204.633333</td><td>1798.0</td><td>1499.0</td><td>5797.0</td><td>&quot;9_&quot;</td><td>&quot;Student Loan, and Student Loan&quot;</td><td>67.0</td><td>&quot;9_&quot;</td><td>&quot;_&quot;</td><td>2597.0</td><td>&quot;_&quot;</td><td>&quot;999.48&quot;</td><td>50.0</td><td>&quot;NA&quot;</td><td>&quot;Yes&quot;</td><td>82331.0</td><td>&quot;__10000__&quot;</td><td>&quot;Low_spent_Small_value_payments&quot;</td><td>&quot;__-333333333333333333333333333…</td><td>&quot;Standard&quot;</td></tr></tbody></table></div>"
      ],
      "text/plain": [
       "shape: (9, 29)\n",
       "┌─────┬─────┬─────┬─────┬─────┬─────┬─────┬─────┬─────┬─────┬─────┬─────┬─────┬─────┬─────┬─────┬─────┬─────┬─────┬─────┬─────┬─────┬─────┬─────┬─────┬─────┬─────┬─────┬─────┐\n",
       "│ sta ┆ ID  ┆ Cus ┆ Mon ┆ Nam ┆ Age ┆ SSN ┆ Occ ┆ Ann ┆ Mon ┆ Num ┆ Num ┆ Int ┆ Num ┆ Typ ┆ Del ┆ Num ┆ Cha ┆ Num ┆ Cre ┆ Out ┆ Cre ┆ Cre ┆ Pay ┆ Tot ┆ Amo ┆ Pay ┆ Mon ┆ Cre │\n",
       "│ tis ┆ --- ┆ tom ┆ th  ┆ e   ┆ --- ┆ --- ┆ upa ┆ ual ┆ thl ┆ _Ba ┆ _Cr ┆ ere ┆ _of ┆ e_o ┆ ay_ ┆ _of ┆ nge ┆ _Cr ┆ dit ┆ sta ┆ dit ┆ dit ┆ men ┆ al_ ┆ unt ┆ men ┆ thl ┆ dit │\n",
       "│ tic ┆ str ┆ er_ ┆ --- ┆ --- ┆ str ┆ str ┆ tio ┆ _In ┆ y_I ┆ nk_ ┆ edi ┆ st_ ┆ _Lo ┆ f_L ┆ fro ┆ _De ┆ d_C ┆ edi ┆ _Mi ┆ ndi ┆ _Ut ┆ _Hi ┆ t_o ┆ EMI ┆ _in ┆ t_B ┆ y_B ┆ _Sc │\n",
       "│ --- ┆     ┆ ID  ┆ str ┆ str ┆     ┆     ┆ n   ┆ com ┆ nha ┆ Acc ┆ t_C ┆ Rat ┆ an  ┆ oan ┆ m_d ┆ lay ┆ red ┆ t_I ┆ x   ┆ ng_ ┆ ili ┆ sto ┆ f_M ┆ _pe ┆ ves ┆ eha ┆ ala ┆ ore │\n",
       "│ str ┆     ┆ --- ┆     ┆     ┆     ┆     ┆ --- ┆ e   ┆ nd_ ┆ oun ┆ ard ┆ e   ┆ --- ┆ --- ┆ ue_ ┆ ed_ ┆ it_ ┆ nqu ┆ --- ┆ Deb ┆ zat ┆ ry_ ┆ in_ ┆ r_m ┆ ted ┆ vio ┆ nce ┆ --- │\n",
       "│     ┆     ┆ str ┆     ┆     ┆     ┆     ┆ str ┆ --- ┆ Sal ┆ ts  ┆ --- ┆ --- ┆ str ┆ str ┆ dat ┆ Pay ┆ Lim ┆ iri ┆ str ┆ t   ┆ ion ┆ Age ┆ Amo ┆ ont ┆ _mo ┆ ur  ┆ --- ┆ str │\n",
       "│     ┆     ┆     ┆     ┆     ┆     ┆     ┆     ┆ str ┆ ary ┆ --- ┆ f64 ┆ f64 ┆     ┆     ┆ e   ┆ men ┆ it  ┆ es  ┆     ┆ --- ┆ _Ra ┆ --- ┆ unt ┆ h   ┆ nth ┆ --- ┆ str ┆     │\n",
       "│     ┆     ┆     ┆     ┆     ┆     ┆     ┆     ┆     ┆ --- ┆ f64 ┆     ┆     ┆     ┆     ┆ --- ┆ t   ┆ --- ┆ --- ┆     ┆ str ┆ tio ┆ str ┆ --- ┆ --- ┆ ly  ┆ str ┆     ┆     │\n",
       "│     ┆     ┆     ┆     ┆     ┆     ┆     ┆     ┆     ┆ f64 ┆     ┆     ┆     ┆     ┆     ┆ f64 ┆ --- ┆ str ┆ f64 ┆     ┆     ┆ --- ┆     ┆ str ┆ f64 ┆ --- ┆     ┆     ┆     │\n",
       "│     ┆     ┆     ┆     ┆     ┆     ┆     ┆     ┆     ┆     ┆     ┆     ┆     ┆     ┆     ┆     ┆ str ┆     ┆     ┆     ┆     ┆ f64 ┆     ┆     ┆     ┆ str ┆     ┆     ┆     │\n",
       "╞═════╪═════╪═════╪═════╪═════╪═════╪═════╪═════╪═════╪═════╪═════╪═════╪═════╪═════╪═════╪═════╪═════╪═════╪═════╪═════╪═════╪═════╪═════╪═════╪═════╪═════╪═════╪═════╪═════╡\n",
       "│ cou ┆ 100 ┆ 100 ┆ 100 ┆ 900 ┆ 100 ┆ 100 ┆ 100 ┆ 100 ┆ 849 ┆ 100 ┆ 100 ┆ 100 ┆ 100 ┆ 885 ┆ 100 ┆ 929 ┆ 100 ┆ 980 ┆ 100 ┆ 100 ┆ 100 ┆ 100 ┆ 100 ┆ 100 ┆ 955 ┆ 100 ┆ 988 ┆ 100 │\n",
       "│ nt  ┆ 000 ┆ 000 ┆ 000 ┆ 15  ┆ 000 ┆ 000 ┆ 000 ┆ 000 ┆ 98. ┆ 000 ┆ 000 ┆ 000 ┆ 000 ┆ 92  ┆ 000 ┆ 98  ┆ 000 ┆ 35. ┆ 000 ┆ 000 ┆ 000 ┆ 000 ┆ 000 ┆ 000 ┆ 21  ┆ 000 ┆ 00  ┆ 000 │\n",
       "│     ┆     ┆     ┆     ┆     ┆     ┆     ┆     ┆     ┆ 0   ┆ .0  ┆ .0  ┆ .0  ┆     ┆     ┆ .0  ┆     ┆     ┆ 0   ┆     ┆     ┆ .0  ┆     ┆     ┆ .0  ┆     ┆     ┆     ┆     │\n",
       "│ nul ┆ 0   ┆ 0   ┆ 0   ┆ 998 ┆ 0   ┆ 0   ┆ 0   ┆ 0   ┆ 150 ┆ 0.0 ┆ 0.0 ┆ 0.0 ┆ 0   ┆ 114 ┆ 0.0 ┆ 700 ┆ 0   ┆ 196 ┆ 0   ┆ 0   ┆ 0.0 ┆ 0   ┆ 0   ┆ 0.0 ┆ 447 ┆ 0   ┆ 120 ┆ 0   │\n",
       "│ l_c ┆     ┆     ┆     ┆ 5   ┆     ┆     ┆     ┆     ┆ 02. ┆     ┆     ┆     ┆     ┆ 08  ┆     ┆ 2   ┆     ┆ 5.0 ┆     ┆     ┆     ┆     ┆     ┆     ┆ 9   ┆     ┆ 0   ┆     │\n",
       "│ oun ┆     ┆     ┆     ┆     ┆     ┆     ┆     ┆     ┆ 0   ┆     ┆     ┆     ┆     ┆     ┆     ┆     ┆     ┆     ┆     ┆     ┆     ┆     ┆     ┆     ┆     ┆     ┆     ┆     │\n",
       "│ t   ┆     ┆     ┆     ┆     ┆     ┆     ┆     ┆     ┆     ┆     ┆     ┆     ┆     ┆     ┆     ┆     ┆     ┆     ┆     ┆     ┆     ┆     ┆     ┆     ┆     ┆     ┆     ┆     │\n",
       "│ mea ┆ nul ┆ nul ┆ nul ┆ nul ┆ nul ┆ nul ┆ nul ┆ nul ┆ 419 ┆ 17. ┆ 22. ┆ 72. ┆ nul ┆ nul ┆ 21. ┆ nul ┆ nul ┆ 27. ┆ nul ┆ nul ┆ 32. ┆ nul ┆ nul ┆ 140 ┆ nul ┆ nul ┆ nul ┆ nul │\n",
       "│ n   ┆ l   ┆ l   ┆ l   ┆ l   ┆ l   ┆ l   ┆ l   ┆ l   ┆ 4.1 ┆ 091 ┆ 474 ┆ 466 ┆ l   ┆ l   ┆ 068 ┆ l   ┆ l   ┆ 754 ┆ l   ┆ l   ┆ 285 ┆ l   ┆ l   ┆ 3.1 ┆ l   ┆ l   ┆ l   ┆ l   │\n",
       "│     ┆     ┆     ┆     ┆     ┆     ┆     ┆     ┆     ┆ 708 ┆ 28  ┆ 43  ┆ 04  ┆     ┆     ┆ 78  ┆     ┆     ┆ 251 ┆     ┆     ┆ 173 ┆     ┆     ┆ 182 ┆     ┆     ┆     ┆     │\n",
       "│     ┆     ┆     ┆     ┆     ┆     ┆     ┆     ┆     ┆ 5   ┆     ┆     ┆     ┆     ┆     ┆     ┆     ┆     ┆     ┆     ┆     ┆     ┆     ┆     ┆ 17  ┆     ┆     ┆     ┆     │\n",
       "│ std ┆ nul ┆ nul ┆ nul ┆ nul ┆ nul ┆ nul ┆ nul ┆ nul ┆ 318 ┆ 117 ┆ 129 ┆ 466 ┆ nul ┆ nul ┆ 14. ┆ nul ┆ nul ┆ 193 ┆ nul ┆ nul ┆ 5.1 ┆ nul ┆ nul ┆ 830 ┆ nul ┆ nul ┆ nul ┆ nul │\n",
       "│     ┆ l   ┆ l   ┆ l   ┆ l   ┆ l   ┆ l   ┆ l   ┆ l   ┆ 3.6 ┆ .40 ┆ .05 ┆ .42 ┆ l   ┆ l   ┆ 860 ┆ l   ┆ l   ┆ .17 ┆ l   ┆ l   ┆ 168 ┆ l   ┆ l   ┆ 6.0 ┆ l   ┆ l   ┆ l   ┆ l   │\n",
       "│     ┆     ┆     ┆     ┆     ┆     ┆     ┆     ┆     ┆ 861 ┆ 483 ┆ 741 ┆ 262 ┆     ┆     ┆ 104 ┆     ┆     ┆ 733 ┆     ┆     ┆ 75  ┆     ┆     ┆ 412 ┆     ┆     ┆     ┆     │\n",
       "│     ┆     ┆     ┆     ┆     ┆     ┆     ┆     ┆     ┆ 67  ┆ 4   ┆     ┆ 1   ┆     ┆     ┆     ┆     ┆     ┆ 9   ┆     ┆     ┆     ┆     ┆     ┆ 7   ┆     ┆     ┆     ┆     │\n",
       "│ min ┆ 0x1 ┆ CUS ┆ Apr ┆ Mat ┆ -50 ┆ #F% ┆ Acc ┆ 100 ┆ 303 ┆ -1. ┆ 0.0 ┆ 1.0 ┆ -10 ┆ Aut ┆ -5. ┆ -1  ┆ -0. ┆ 0.0 ┆ Bad ┆ 0.2 ┆ 20. ┆ 0   ┆ NM  ┆ 0.0 ┆ 0.0 ┆ !@9 ┆ 0.0 ┆ Goo │\n",
       "│     ┆ 000 ┆ _0x ┆ il  ┆ tr  ┆ 0   ┆ $D@ ┆ oun ┆ 017 ┆ .64 ┆ 0   ┆     ┆     ┆ 0   ┆ o   ┆ 0   ┆     ┆ 009 ┆     ┆     ┆ 3   ┆ 0   ┆ Yea ┆     ┆     ┆     ┆ #%8 ┆ 077 ┆ d   │\n",
       "│     ┆ 2   ┆ 100 ┆     ┆     ┆     ┆ *&8 ┆ tan ┆ 27. ┆ 541 ┆     ┆     ┆     ┆     ┆ Loa ┆     ┆     ┆ 999 ┆     ┆     ┆     ┆     ┆ rs  ┆     ┆     ┆     ┆     ┆ 596 ┆     │\n",
       "│     ┆     ┆ 0   ┆     ┆     ┆     ┆     ┆ t   ┆ 0   ┆ 7   ┆     ┆     ┆     ┆     ┆ n   ┆     ┆     ┆ 999 ┆     ┆     ┆     ┆     ┆ and ┆     ┆     ┆     ┆     ┆ 647 ┆     │\n",
       "│     ┆     ┆     ┆     ┆     ┆     ┆     ┆     ┆     ┆     ┆     ┆     ┆     ┆     ┆     ┆     ┆     ┆ 999 ┆     ┆     ┆     ┆     ┆ 1   ┆     ┆     ┆     ┆     ┆ 753 ┆     │\n",
       "│     ┆     ┆     ┆     ┆     ┆     ┆     ┆     ┆     ┆     ┆     ┆     ┆     ┆     ┆     ┆     ┆     ┆ 999 ┆     ┆     ┆     ┆     ┆ Mon ┆     ┆     ┆     ┆     ┆ 352 ┆     │\n",
       "│     ┆     ┆     ┆     ┆     ┆     ┆     ┆     ┆     ┆     ┆     ┆     ┆     ┆     ┆     ┆     ┆     ┆ 787 ┆     ┆     ┆     ┆     ┆ ths ┆     ┆     ┆     ┆     ┆ 95  ┆     │\n",
       "│ 25% ┆ nul ┆ nul ┆ nul ┆ nul ┆ nul ┆ nul ┆ nul ┆ nul ┆ 162 ┆ 3.0 ┆ 4.0 ┆ 8.0 ┆ nul ┆ nul ┆ 10. ┆ nul ┆ nul ┆ 3.0 ┆ nul ┆ nul ┆ 28. ┆ nul ┆ nul ┆ 30. ┆ nul ┆ nul ┆ nul ┆ nul │\n",
       "│     ┆ l   ┆ l   ┆ l   ┆ l   ┆ l   ┆ l   ┆ l   ┆ l   ┆ 5.5 ┆     ┆     ┆     ┆ l   ┆ l   ┆ 0   ┆ l   ┆ l   ┆     ┆ l   ┆ l   ┆ 052 ┆ l   ┆ l   ┆ 306 ┆ l   ┆ l   ┆ l   ┆ l   │\n",
       "│     ┆     ┆     ┆     ┆     ┆     ┆     ┆     ┆     ┆ 583 ┆     ┆     ┆     ┆     ┆     ┆     ┆     ┆     ┆     ┆     ┆     ┆ 568 ┆     ┆     ┆ 66  ┆     ┆     ┆     ┆     │\n",
       "│     ┆     ┆     ┆     ┆     ┆     ┆     ┆     ┆     ┆ 33  ┆     ┆     ┆     ┆     ┆     ┆     ┆     ┆     ┆     ┆     ┆     ┆     ┆     ┆     ┆     ┆     ┆     ┆     ┆     │\n",
       "│ 50% ┆ nul ┆ nul ┆ nul ┆ nul ┆ nul ┆ nul ┆ nul ┆ nul ┆ 309 ┆ 6.0 ┆ 5.0 ┆ 13. ┆ nul ┆ nul ┆ 18. ┆ nul ┆ nul ┆ 6.0 ┆ nul ┆ nul ┆ 32. ┆ nul ┆ nul ┆ 69. ┆ nul ┆ nul ┆ nul ┆ nul │\n",
       "│     ┆ l   ┆ l   ┆ l   ┆ l   ┆ l   ┆ l   ┆ l   ┆ l   ┆ 3.7 ┆     ┆     ┆ 0   ┆ l   ┆ l   ┆ 0   ┆ l   ┆ l   ┆     ┆ l   ┆ l   ┆ 305 ┆ l   ┆ l   ┆ 252 ┆ l   ┆ l   ┆ l   ┆ l   │\n",
       "│     ┆     ┆     ┆     ┆     ┆     ┆     ┆     ┆     ┆ 45  ┆     ┆     ┆     ┆     ┆     ┆     ┆     ┆     ┆     ┆     ┆     ┆ 891 ┆     ┆     ┆ 263 ┆     ┆     ┆     ┆     │\n",
       "│ 75% ┆ nul ┆ nul ┆ nul ┆ nul ┆ nul ┆ nul ┆ nul ┆ nul ┆ 595 ┆ 7.0 ┆ 7.0 ┆ 20. ┆ nul ┆ nul ┆ 28. ┆ nul ┆ nul ┆ 9.0 ┆ nul ┆ nul ┆ 36. ┆ nul ┆ nul ┆ 161 ┆ nul ┆ nul ┆ nul ┆ nul │\n",
       "│     ┆ l   ┆ l   ┆ l   ┆ l   ┆ l   ┆ l   ┆ l   ┆ l   ┆ 7.4 ┆     ┆     ┆ 0   ┆ l   ┆ l   ┆ 0   ┆ l   ┆ l   ┆     ┆ l   ┆ l   ┆ 496 ┆ l   ┆ l   ┆ .22 ┆ l   ┆ l   ┆ l   ┆ l   │\n",
       "│     ┆     ┆     ┆     ┆     ┆     ┆     ┆     ┆     ┆ 483 ┆     ┆     ┆     ┆     ┆     ┆     ┆     ┆     ┆     ┆     ┆     ┆ 612 ┆     ┆     ┆ 424 ┆     ┆     ┆     ┆     │\n",
       "│     ┆     ┆     ┆     ┆     ┆     ┆     ┆     ┆     ┆ 33  ┆     ┆     ┆     ┆     ┆     ┆     ┆     ┆     ┆     ┆     ┆     ┆     ┆     ┆     ┆ 9   ┆     ┆     ┆     ┆     │\n",
       "│ max ┆ 0xf ┆ CUS ┆ May ┆ yv  ┆ 995 ┆ 999 ┆ ___ ┆ 999 ┆ 152 ┆ 179 ┆ 149 ┆ 579 ┆ 9_  ┆ Stu ┆ 67. ┆ 9_  ┆ _   ┆ 259 ┆ _   ┆ 999 ┆ 50. ┆ NA  ┆ Yes ┆ 823 ┆ __1 ┆ Low ┆ __- ┆ Sta │\n",
       "│     ┆ ffd ┆ _0x ┆     ┆     ┆     ┆ -99 ┆ ___ ┆ 95. ┆ 04. ┆ 8.0 ┆ 9.0 ┆ 7.0 ┆     ┆ den ┆ 0   ┆     ┆     ┆ 7.0 ┆     ┆ .48 ┆ 0   ┆     ┆     ┆ 31. ┆ 000 ┆ _sp ┆ 333 ┆ nda │\n",
       "│     ┆     ┆ ffd ┆     ┆     ┆     ┆ -34 ┆ _   ┆ 22  ┆ 633 ┆     ┆     ┆     ┆     ┆ t   ┆     ┆     ┆     ┆     ┆     ┆     ┆     ┆     ┆     ┆ 0   ┆ 0__ ┆ ent ┆ 333 ┆ rd  │\n",
       "│     ┆     ┆     ┆     ┆     ┆     ┆ 21  ┆     ┆     ┆ 333 ┆     ┆     ┆     ┆     ┆ Loa ┆     ┆     ┆     ┆     ┆     ┆     ┆     ┆     ┆     ┆     ┆     ┆ _Sm ┆ 333 ┆     │\n",
       "│     ┆     ┆     ┆     ┆     ┆     ┆     ┆     ┆     ┆     ┆     ┆     ┆     ┆     ┆ n,  ┆     ┆     ┆     ┆     ┆     ┆     ┆     ┆     ┆     ┆     ┆     ┆ all ┆ 333 ┆     │\n",
       "│     ┆     ┆     ┆     ┆     ┆     ┆     ┆     ┆     ┆     ┆     ┆     ┆     ┆     ┆ and ┆     ┆     ┆     ┆     ┆     ┆     ┆     ┆     ┆     ┆     ┆     ┆ _va ┆ 333 ┆     │\n",
       "│     ┆     ┆     ┆     ┆     ┆     ┆     ┆     ┆     ┆     ┆     ┆     ┆     ┆     ┆ Stu ┆     ┆     ┆     ┆     ┆     ┆     ┆     ┆     ┆     ┆     ┆     ┆ lue ┆ 333 ┆     │\n",
       "│     ┆     ┆     ┆     ┆     ┆     ┆     ┆     ┆     ┆     ┆     ┆     ┆     ┆     ┆ den ┆     ┆     ┆     ┆     ┆     ┆     ┆     ┆     ┆     ┆     ┆     ┆ _pa ┆ 333 ┆     │\n",
       "│     ┆     ┆     ┆     ┆     ┆     ┆     ┆     ┆     ┆     ┆     ┆     ┆     ┆     ┆ t   ┆     ┆     ┆     ┆     ┆     ┆     ┆     ┆     ┆     ┆     ┆     ┆ yme ┆ 333 ┆     │\n",
       "│     ┆     ┆     ┆     ┆     ┆     ┆     ┆     ┆     ┆     ┆     ┆     ┆     ┆     ┆ Loa ┆     ┆     ┆     ┆     ┆     ┆     ┆     ┆     ┆     ┆     ┆     ┆ nts ┆ 333 ┆     │\n",
       "│     ┆     ┆     ┆     ┆     ┆     ┆     ┆     ┆     ┆     ┆     ┆     ┆     ┆     ┆ n   ┆     ┆     ┆     ┆     ┆     ┆     ┆     ┆     ┆     ┆     ┆     ┆     ┆ …   ┆     │\n",
       "└─────┴─────┴─────┴─────┴─────┴─────┴─────┴─────┴─────┴─────┴─────┴─────┴─────┴─────┴─────┴─────┴─────┴─────┴─────┴─────┴─────┴─────┴─────┴─────┴─────┴─────┴─────┴─────┴─────┘"
      ]
     },
     "execution_count": 7,
     "metadata": {},
     "output_type": "execute_result"
    }
   ],
   "source": [
    "df.describe()"
   ]
  },
  {
   "cell_type": "markdown",
   "id": "2d8e7fe6",
   "metadata": {},
   "source": [
    "# Data Cleaning"
   ]
  },
  {
   "cell_type": "markdown",
   "id": "6a650eab",
   "metadata": {},
   "source": [
    "### Setup"
   ]
  },
  {
   "cell_type": "code",
   "execution_count": 10,
   "id": "9e5f5521",
   "metadata": {},
   "outputs": [],
   "source": [
    "# Transform the credit history age from a sentence to a number of months\n",
    "pattern = re.compile(r\"(?P<years>\\d+) Years and (?P<months>\\d+) Months\")\n",
    "def history_to_months(history):\n",
    "\n",
    "    if history is None:\n",
    "        return None\n",
    "    \n",
    "    match = pattern.match(history)\n",
    "\n",
    "    if not match:\n",
    "        return None\n",
    "    \n",
    "    years = int(match.group(\"years\"))\n",
    "    months = int(match.group(\"months\"))\n",
    "    \n",
    "    return (years * 12) + months"
   ]
  },
  {
   "cell_type": "code",
   "execution_count": 11,
   "id": "5c402e1d",
   "metadata": {},
   "outputs": [
    {
     "data": {
      "text/plain": [
       "['Debt Consolidation Loan',\n",
       " 'Not Specified',\n",
       " 'Mortgage Loan',\n",
       " 'Personal Loan',\n",
       " 'Auto Loan',\n",
       " 'Payday Loan',\n",
       " 'Home Equity Loan',\n",
       " 'Student Loan',\n",
       " 'Credit-Builder Loan']"
      ]
     },
     "execution_count": 11,
     "metadata": {},
     "output_type": "execute_result"
    }
   ],
   "source": [
    "# Create a list of all individual loan types for encoding later\n",
    "loan_types = (df\n",
    "    .select(pl.col(\"Type_of_Loan\").str.replace_all(r\"\\band\\b\\s*\", \"\"))  # clean \"and \"\n",
    "    .select(pl.col(\"Type_of_Loan\").str.split(\",\"))                      # split into lists\n",
    "    .explode(\"Type_of_Loan\")                                            # flatten lists into rows\n",
    "    .select(pl.col(\"Type_of_Loan\").str.strip_chars())                   # strip spaces\n",
    "    .filter(pl.col(\"Type_of_Loan\") != \"\")                               # drop empties\n",
    "    .unique()\n",
    "    .to_series()\n",
    "    .to_list()\n",
    ")\n",
    "\n",
    "loan_types"
   ]
  },
  {
   "cell_type": "markdown",
   "id": "a0773743",
   "metadata": {},
   "source": [
    "### Fix Incorrect Values"
   ]
  },
  {
   "cell_type": "code",
   "execution_count": 12,
   "id": "c7970e3c",
   "metadata": {},
   "outputs": [],
   "source": [
    "# remove the underscore character, and cast to int\n",
    "df = df.with_columns([\n",
    "    pl.col(pl.String).str.strip_chars(\"_\"),\n",
    "])\n",
    "\n",
    "df = df.with_columns([\n",
    "    pl.col(pl.String).replace([\"\", \"_\", \"!@9#%8\"], None),\n",
    "])\n",
    "\n",
    "df = df.with_columns([\n",
    "    pl.col(\"Age\").cast(pl.Float64),\n",
    "    pl.col(\"Annual_Income\").cast(pl.Float64),\n",
    "    pl.col(\"Num_of_Loan\").cast(pl.Float64),\n",
    "    pl.col(\"Num_of_Delayed_Payment\").cast(pl.Float64),\n",
    "    pl.col(\"Changed_Credit_Limit\").cast(pl.Float64),\n",
    "    pl.col(\"Outstanding_Debt\").cast(pl.Float64),\n",
    "    pl.col(\"Amount_invested_monthly\").cast(pl.Float64),\n",
    "    pl.col(\"Monthly_Balance\").cast(pl.Float64),    \n",
    "\n",
    "    # Transform the credit history age to the equivalent number of months\n",
    "    pl.col(\"Credit_History_Age\")\n",
    "    .map_elements(history_to_months, return_dtype=pl.Float64),\n",
    "])\n",
    "\n",
    "df = df.with_columns([\n",
    "    pl.when((pl.col(\"Age\") < 18) | (pl.col(\"Age\") > 100))\n",
    "    .then(None)\n",
    "    .otherwise(pl.col(\"Age\"))\n",
    "    .alias(\"Age\"),\n",
    "])\n",
    "\n",
    "# Remove Negative Values to be imputed later\n",
    "df = df.with_columns([\n",
    "    pl.col(pl.Int64).map_elements(lambda x: None if x < 0 else x, return_dtype=pl.Int64),\n",
    "    pl.col(pl.Float64).map_elements(lambda x: None if x < 0 else x, return_dtype=pl.Float64),\n",
    "])"
   ]
  },
  {
   "cell_type": "code",
   "execution_count": null,
   "id": "1eea7aa9",
   "metadata": {},
   "outputs": [],
   "source": [
    "numeric_cols = [col for col, dtype in zip(df.columns, df.dtypes)\n",
    "                if dtype in [pl.Int64, pl.Float64]]\n",
    "\n",
    "# Computing per-customer median\n",
    "medians = df.group_by(\"Customer_ID\").agg([\n",
    "    pl.col(col).median().alias(f\"{col}_median\") for col in numeric_cols\n",
    "\n",
    "])\n",
    "\n",
    "df = df.join(medians, on=\"Customer_ID\", how=\"left\")\n",
    "\n",
    "# Computing absolute deviation from median\n",
    "for col in numeric_cols:\n",
    "\n",
    "    df = df.with_columns(\n",
    "        (pl.col(col) - pl.col(f\"{col}_median\")).abs().alias(f\"{col}_abs_dev\")\n",
    "    )\n",
    "\n",
    "# Computing MAD per customer\n",
    "mad = df.group_by(\"Customer_ID\").agg([\n",
    "    pl.col(f\"{col}_abs_dev\").median().alias(f\"{col}_mad\") for col in numeric_cols\n",
    "])\n",
    "\n",
    "df = df.join(mad, on=\"Customer_ID\", how=\"left\")\n",
    "\n",
    "# Replacing outliers with None to impute later based on the MAD since IQR failed HARD\n",
    "for col in numeric_cols:\n",
    "\n",
    "    df = df.with_columns([\n",
    "        pl.when((pl.col(col) < (pl.col(f\"{col}_median\") - 3 * pl.col(f\"{col}_mad\"))) | \n",
    "                (pl.col(col) > (pl.col(f\"{col}_median\") + 3 * pl.col(f\"{col}_mad\"))))\n",
    "          .then(None)\n",
    "          .otherwise(pl.col(col))\n",
    "          .alias(col)\n",
    "    ])"
   ]
  },
  {
   "cell_type": "markdown",
   "id": "1eb95924",
   "metadata": {},
   "source": [
    "### Fill Nulls"
   ]
  },
  {
   "cell_type": "code",
   "execution_count": 15,
   "id": "eab53ac2",
   "metadata": {},
   "outputs": [],
   "source": [
    "# Impute Null values in these columns found after exploring the data\n",
    "num_cols_to_impute = numeric_cols\n",
    "cat_cols_to_impute = [\"Occupation\", \"Type_of_Loan\", \"Credit_Mix\", \"Payment_Behaviour\"]"
   ]
  },
  {
   "cell_type": "code",
   "execution_count": 16,
   "id": "45aad907",
   "metadata": {},
   "outputs": [],
   "source": [
    "cat_imputes = [\n",
    "    df.group_by(\"Customer_ID\")\n",
    "      .agg(\n",
    "          pl.col(col).drop_nulls().mode().first().alias(f\"{col}_mode\")\n",
    "      )\n",
    "    for col in cat_cols_to_impute\n",
    "]"
   ]
  },
  {
   "cell_type": "code",
   "execution_count": 17,
   "id": "a1e0f90b",
   "metadata": {},
   "outputs": [],
   "source": [
    "for impute in cat_imputes:\n",
    "    df = df.join(impute, on=\"Customer_ID\", how=\"left\", suffix=\"_mode\")\n",
    "\n",
    "df = df.with_columns(\n",
    "   pl.coalesce([pl.col(col), pl.col(f\"{col}_median\")]).alias(col)\n",
    "    for col in num_cols_to_impute\n",
    ")\n",
    "\n",
    "df = df.with_columns([\n",
    "    pl.coalesce([pl.col(col), pl.col(f\"{col}_mode\")]).alias(col)\n",
    "    for col in cat_cols_to_impute\n",
    "])"
   ]
  },
  {
   "cell_type": "code",
   "execution_count": 18,
   "id": "cc200125",
   "metadata": {},
   "outputs": [],
   "source": [
    "# Calculate the median age per occupation to fill empty values\n",
    "median_age_per_occ = (\n",
    "    df.group_by(\"Occupation\")\n",
    "    .agg(pl.col(\"Age\").median().alias(\"median_age_per_occ\"))\n",
    ")\n",
    "\n",
    "# Join medians back to original df\n",
    "df = df.join(median_age_per_occ, on=\"Occupation\", how=\"left\")\n",
    "\n",
    "df = df.with_columns([\n",
    "    # Impute using the median age per occupation \n",
    "    # Coalesce did not work fully for some reason\n",
    "    pl.coalesce([pl.col(\"Age\"), pl.col(\"median_age_per_occ\")])\n",
    "    .cast(pl.Float64)\n",
    "    .alias(\"Age\"),\n",
    "\n",
    "    # Impute using the Annual Income to calculate an approximate of the monthly salary\n",
    "    pl.when(pl.col(\"Monthly_Inhand_Salary\").is_null())\n",
    "    .then(pl.col(\"Annual_Income\") / 12)\n",
    "    .otherwise(pl.col(\"Monthly_Inhand_Salary\"))\n",
    "    .alias(\"Monthly_Inhand_Salary\"), \n",
    "])"
   ]
  },
  {
   "cell_type": "code",
   "execution_count": 19,
   "id": "62333346",
   "metadata": {},
   "outputs": [],
   "source": [
    "# For people with no Loans, the type of loan is None, filling them will help with encoding\n",
    "df = df.with_columns([\n",
    "    pl.col(\"Type_of_Loan\").fill_null(\"\")\n",
    "])"
   ]
  },
  {
   "cell_type": "markdown",
   "id": "8bfa35d2",
   "metadata": {},
   "source": [
    "### Multi-Hot Encoding"
   ]
  },
  {
   "cell_type": "code",
   "execution_count": 20,
   "id": "6b23de96",
   "metadata": {},
   "outputs": [],
   "source": [
    "# Multi-Hot encoding the Type of Loan\n",
    "df = df.with_columns([\n",
    "    pl.col(\"Type_of_Loan\")\n",
    "      .str.contains(rf\"\\b{loan}\\b\")\n",
    "      .cast(pl.Int8)\n",
    "      .alias(f\"Loan_{loan.replace('-', '').replace(' ', '_')}\")\n",
    "    for loan in loan_types\n",
    "])"
   ]
  },
  {
   "cell_type": "markdown",
   "id": "0dad7f37",
   "metadata": {},
   "source": [
    "### Dropping Unneeded columns"
   ]
  },
  {
   "cell_type": "code",
   "execution_count": null,
   "id": "2a737570",
   "metadata": {},
   "outputs": [],
   "source": [
    "# # Drop the ID columns since theyre no longer needed, type of loan since its been encoded, and any temporary cols created\n",
    "cols_to_drop = [\"ID\", \"Customer_ID\", \"Name\", \"SSN\", \"Type_of_Loan\", \"median_age_per_occ\"]\n",
    "# cols_to_drop = [\"Type_of_Loan\", \"median_age_per_occ\"]\n",
    "\n",
    "# drop the automatically generated columns\n",
    "for col in num_cols_to_impute:\n",
    "    cols_to_drop.append(f\"{col}_median\")\n",
    "    cols_to_drop.append(f\"{col}_mad\")\n",
    "for col in cat_cols_to_impute:\n",
    "    cols_to_drop.append(f\"{col}_mode\")\n",
    "\n",
    "df = df.drop(cols_to_drop)"
   ]
  },
  {
   "cell_type": "markdown",
   "id": "d57747d8",
   "metadata": {},
   "source": [
    "# Exploration"
   ]
  },
  {
   "cell_type": "code",
   "execution_count": 10,
   "id": "c2bf6001",
   "metadata": {},
   "outputs": [
    {
     "data": {
      "text/html": [
       "<div><style>\n",
       ".dataframe > thead > tr,\n",
       ".dataframe > tbody > tr {\n",
       "  text-align: right;\n",
       "  white-space: pre-wrap;\n",
       "}\n",
       "</style>\n",
       "<small>shape: (9, 29)</small><table border=\"1\" class=\"dataframe\"><thead><tr><th>statistic</th><th>ID</th><th>Customer_ID</th><th>Month</th><th>Name</th><th>Age</th><th>SSN</th><th>Occupation</th><th>Annual_Income</th><th>Monthly_Inhand_Salary</th><th>Num_Bank_Accounts</th><th>Num_Credit_Card</th><th>Interest_Rate</th><th>Num_of_Loan</th><th>Type_of_Loan</th><th>Delay_from_due_date</th><th>Num_of_Delayed_Payment</th><th>Changed_Credit_Limit</th><th>Num_Credit_Inquiries</th><th>Credit_Mix</th><th>Outstanding_Debt</th><th>Credit_Utilization_Ratio</th><th>Credit_History_Age</th><th>Payment_of_Min_Amount</th><th>Total_EMI_per_month</th><th>Amount_invested_monthly</th><th>Payment_Behaviour</th><th>Monthly_Balance</th><th>Credit_Score</th></tr><tr><td>str</td><td>str</td><td>str</td><td>str</td><td>str</td><td>str</td><td>str</td><td>str</td><td>str</td><td>f64</td><td>f64</td><td>f64</td><td>f64</td><td>str</td><td>str</td><td>f64</td><td>str</td><td>str</td><td>f64</td><td>str</td><td>str</td><td>f64</td><td>str</td><td>str</td><td>f64</td><td>str</td><td>str</td><td>str</td><td>str</td></tr></thead><tbody><tr><td>&quot;count&quot;</td><td>&quot;100000&quot;</td><td>&quot;100000&quot;</td><td>&quot;100000&quot;</td><td>&quot;90015&quot;</td><td>&quot;100000&quot;</td><td>&quot;100000&quot;</td><td>&quot;100000&quot;</td><td>&quot;100000&quot;</td><td>84998.0</td><td>100000.0</td><td>100000.0</td><td>100000.0</td><td>&quot;100000&quot;</td><td>&quot;88592&quot;</td><td>100000.0</td><td>&quot;92998&quot;</td><td>&quot;100000&quot;</td><td>98035.0</td><td>&quot;100000&quot;</td><td>&quot;100000&quot;</td><td>100000.0</td><td>&quot;100000&quot;</td><td>&quot;100000&quot;</td><td>100000.0</td><td>&quot;95521&quot;</td><td>&quot;100000&quot;</td><td>&quot;98800&quot;</td><td>&quot;100000&quot;</td></tr><tr><td>&quot;null_count&quot;</td><td>&quot;0&quot;</td><td>&quot;0&quot;</td><td>&quot;0&quot;</td><td>&quot;9985&quot;</td><td>&quot;0&quot;</td><td>&quot;0&quot;</td><td>&quot;0&quot;</td><td>&quot;0&quot;</td><td>15002.0</td><td>0.0</td><td>0.0</td><td>0.0</td><td>&quot;0&quot;</td><td>&quot;11408&quot;</td><td>0.0</td><td>&quot;7002&quot;</td><td>&quot;0&quot;</td><td>1965.0</td><td>&quot;0&quot;</td><td>&quot;0&quot;</td><td>0.0</td><td>&quot;0&quot;</td><td>&quot;0&quot;</td><td>0.0</td><td>&quot;4479&quot;</td><td>&quot;0&quot;</td><td>&quot;1200&quot;</td><td>&quot;0&quot;</td></tr><tr><td>&quot;mean&quot;</td><td>null</td><td>null</td><td>null</td><td>null</td><td>null</td><td>null</td><td>null</td><td>null</td><td>4194.17085</td><td>17.09128</td><td>22.47443</td><td>72.46604</td><td>null</td><td>null</td><td>21.06878</td><td>null</td><td>null</td><td>27.754251</td><td>null</td><td>null</td><td>32.285173</td><td>null</td><td>null</td><td>1403.118217</td><td>null</td><td>null</td><td>null</td><td>null</td></tr><tr><td>&quot;std&quot;</td><td>null</td><td>null</td><td>null</td><td>null</td><td>null</td><td>null</td><td>null</td><td>null</td><td>3183.686167</td><td>117.404834</td><td>129.05741</td><td>466.422621</td><td>null</td><td>null</td><td>14.860104</td><td>null</td><td>null</td><td>193.177339</td><td>null</td><td>null</td><td>5.116875</td><td>null</td><td>null</td><td>8306.04127</td><td>null</td><td>null</td><td>null</td><td>null</td></tr><tr><td>&quot;min&quot;</td><td>&quot;0x10002&quot;</td><td>&quot;CUS_0x1000&quot;</td><td>&quot;April&quot;</td><td>&quot; Mattr&quot;</td><td>&quot;-500&quot;</td><td>&quot;#F%$D@*&amp;8&quot;</td><td>&quot;Accountant&quot;</td><td>&quot;10001727.0&quot;</td><td>303.645417</td><td>-1.0</td><td>0.0</td><td>1.0</td><td>&quot;-100&quot;</td><td>&quot;Auto Loan&quot;</td><td>-5.0</td><td>&quot;-1&quot;</td><td>&quot;-0.009999999999999787&quot;</td><td>0.0</td><td>&quot;Bad&quot;</td><td>&quot;0.23&quot;</td><td>20.0</td><td>&quot;0 Years and 1 Months&quot;</td><td>&quot;NM&quot;</td><td>0.0</td><td>&quot;0.0&quot;</td><td>&quot;!@9#%8&quot;</td><td>&quot;0.007759664775335295&quot;</td><td>&quot;Good&quot;</td></tr><tr><td>&quot;25%&quot;</td><td>null</td><td>null</td><td>null</td><td>null</td><td>null</td><td>null</td><td>null</td><td>null</td><td>1625.558333</td><td>3.0</td><td>4.0</td><td>8.0</td><td>null</td><td>null</td><td>10.0</td><td>null</td><td>null</td><td>3.0</td><td>null</td><td>null</td><td>28.052568</td><td>null</td><td>null</td><td>30.30666</td><td>null</td><td>null</td><td>null</td><td>null</td></tr><tr><td>&quot;50%&quot;</td><td>null</td><td>null</td><td>null</td><td>null</td><td>null</td><td>null</td><td>null</td><td>null</td><td>3093.745</td><td>6.0</td><td>5.0</td><td>13.0</td><td>null</td><td>null</td><td>18.0</td><td>null</td><td>null</td><td>6.0</td><td>null</td><td>null</td><td>32.305891</td><td>null</td><td>null</td><td>69.252263</td><td>null</td><td>null</td><td>null</td><td>null</td></tr><tr><td>&quot;75%&quot;</td><td>null</td><td>null</td><td>null</td><td>null</td><td>null</td><td>null</td><td>null</td><td>null</td><td>5957.448333</td><td>7.0</td><td>7.0</td><td>20.0</td><td>null</td><td>null</td><td>28.0</td><td>null</td><td>null</td><td>9.0</td><td>null</td><td>null</td><td>36.496612</td><td>null</td><td>null</td><td>161.224249</td><td>null</td><td>null</td><td>null</td><td>null</td></tr><tr><td>&quot;max&quot;</td><td>&quot;0xfffd&quot;</td><td>&quot;CUS_0xffd&quot;</td><td>&quot;May&quot;</td><td>&quot;yv&quot;</td><td>&quot;995&quot;</td><td>&quot;999-99-3421&quot;</td><td>&quot;_______&quot;</td><td>&quot;99995.22&quot;</td><td>15204.633333</td><td>1798.0</td><td>1499.0</td><td>5797.0</td><td>&quot;9_&quot;</td><td>&quot;Student Loan, and Student Loan&quot;</td><td>67.0</td><td>&quot;9_&quot;</td><td>&quot;_&quot;</td><td>2597.0</td><td>&quot;_&quot;</td><td>&quot;999.48&quot;</td><td>50.0</td><td>&quot;NA&quot;</td><td>&quot;Yes&quot;</td><td>82331.0</td><td>&quot;__10000__&quot;</td><td>&quot;Low_spent_Small_value_payments&quot;</td><td>&quot;__-333333333333333333333333333…</td><td>&quot;Standard&quot;</td></tr></tbody></table></div>"
      ],
      "text/plain": [
       "shape: (9, 29)\n",
       "┌─────┬─────┬─────┬─────┬─────┬─────┬─────┬─────┬─────┬─────┬─────┬─────┬─────┬─────┬─────┬─────┬─────┬─────┬─────┬─────┬─────┬─────┬─────┬─────┬─────┬─────┬─────┬─────┬─────┐\n",
       "│ sta ┆ ID  ┆ Cus ┆ Mon ┆ Nam ┆ Age ┆ SSN ┆ Occ ┆ Ann ┆ Mon ┆ Num ┆ Num ┆ Int ┆ Num ┆ Typ ┆ Del ┆ Num ┆ Cha ┆ Num ┆ Cre ┆ Out ┆ Cre ┆ Cre ┆ Pay ┆ Tot ┆ Amo ┆ Pay ┆ Mon ┆ Cre │\n",
       "│ tis ┆ --- ┆ tom ┆ th  ┆ e   ┆ --- ┆ --- ┆ upa ┆ ual ┆ thl ┆ _Ba ┆ _Cr ┆ ere ┆ _of ┆ e_o ┆ ay_ ┆ _of ┆ nge ┆ _Cr ┆ dit ┆ sta ┆ dit ┆ dit ┆ men ┆ al_ ┆ unt ┆ men ┆ thl ┆ dit │\n",
       "│ tic ┆ str ┆ er_ ┆ --- ┆ --- ┆ str ┆ str ┆ tio ┆ _In ┆ y_I ┆ nk_ ┆ edi ┆ st_ ┆ _Lo ┆ f_L ┆ fro ┆ _De ┆ d_C ┆ edi ┆ _Mi ┆ ndi ┆ _Ut ┆ _Hi ┆ t_o ┆ EMI ┆ _in ┆ t_B ┆ y_B ┆ _Sc │\n",
       "│ --- ┆     ┆ ID  ┆ str ┆ str ┆     ┆     ┆ n   ┆ com ┆ nha ┆ Acc ┆ t_C ┆ Rat ┆ an  ┆ oan ┆ m_d ┆ lay ┆ red ┆ t_I ┆ x   ┆ ng_ ┆ ili ┆ sto ┆ f_M ┆ _pe ┆ ves ┆ eha ┆ ala ┆ ore │\n",
       "│ str ┆     ┆ --- ┆     ┆     ┆     ┆     ┆ --- ┆ e   ┆ nd_ ┆ oun ┆ ard ┆ e   ┆ --- ┆ --- ┆ ue_ ┆ ed_ ┆ it_ ┆ nqu ┆ --- ┆ Deb ┆ zat ┆ ry_ ┆ in_ ┆ r_m ┆ ted ┆ vio ┆ nce ┆ --- │\n",
       "│     ┆     ┆ str ┆     ┆     ┆     ┆     ┆ str ┆ --- ┆ Sal ┆ ts  ┆ --- ┆ --- ┆ str ┆ str ┆ dat ┆ Pay ┆ Lim ┆ iri ┆ str ┆ t   ┆ ion ┆ Age ┆ Amo ┆ ont ┆ _mo ┆ ur  ┆ --- ┆ str │\n",
       "│     ┆     ┆     ┆     ┆     ┆     ┆     ┆     ┆ str ┆ ary ┆ --- ┆ f64 ┆ f64 ┆     ┆     ┆ e   ┆ men ┆ it  ┆ es  ┆     ┆ --- ┆ _Ra ┆ --- ┆ unt ┆ h   ┆ nth ┆ --- ┆ str ┆     │\n",
       "│     ┆     ┆     ┆     ┆     ┆     ┆     ┆     ┆     ┆ --- ┆ f64 ┆     ┆     ┆     ┆     ┆ --- ┆ t   ┆ --- ┆ --- ┆     ┆ str ┆ tio ┆ str ┆ --- ┆ --- ┆ ly  ┆ str ┆     ┆     │\n",
       "│     ┆     ┆     ┆     ┆     ┆     ┆     ┆     ┆     ┆ f64 ┆     ┆     ┆     ┆     ┆     ┆ f64 ┆ --- ┆ str ┆ f64 ┆     ┆     ┆ --- ┆     ┆ str ┆ f64 ┆ --- ┆     ┆     ┆     │\n",
       "│     ┆     ┆     ┆     ┆     ┆     ┆     ┆     ┆     ┆     ┆     ┆     ┆     ┆     ┆     ┆     ┆ str ┆     ┆     ┆     ┆     ┆ f64 ┆     ┆     ┆     ┆ str ┆     ┆     ┆     │\n",
       "╞═════╪═════╪═════╪═════╪═════╪═════╪═════╪═════╪═════╪═════╪═════╪═════╪═════╪═════╪═════╪═════╪═════╪═════╪═════╪═════╪═════╪═════╪═════╪═════╪═════╪═════╪═════╪═════╪═════╡\n",
       "│ cou ┆ 100 ┆ 100 ┆ 100 ┆ 900 ┆ 100 ┆ 100 ┆ 100 ┆ 100 ┆ 849 ┆ 100 ┆ 100 ┆ 100 ┆ 100 ┆ 885 ┆ 100 ┆ 929 ┆ 100 ┆ 980 ┆ 100 ┆ 100 ┆ 100 ┆ 100 ┆ 100 ┆ 100 ┆ 955 ┆ 100 ┆ 988 ┆ 100 │\n",
       "│ nt  ┆ 000 ┆ 000 ┆ 000 ┆ 15  ┆ 000 ┆ 000 ┆ 000 ┆ 000 ┆ 98. ┆ 000 ┆ 000 ┆ 000 ┆ 000 ┆ 92  ┆ 000 ┆ 98  ┆ 000 ┆ 35. ┆ 000 ┆ 000 ┆ 000 ┆ 000 ┆ 000 ┆ 000 ┆ 21  ┆ 000 ┆ 00  ┆ 000 │\n",
       "│     ┆     ┆     ┆     ┆     ┆     ┆     ┆     ┆     ┆ 0   ┆ .0  ┆ .0  ┆ .0  ┆     ┆     ┆ .0  ┆     ┆     ┆ 0   ┆     ┆     ┆ .0  ┆     ┆     ┆ .0  ┆     ┆     ┆     ┆     │\n",
       "│ nul ┆ 0   ┆ 0   ┆ 0   ┆ 998 ┆ 0   ┆ 0   ┆ 0   ┆ 0   ┆ 150 ┆ 0.0 ┆ 0.0 ┆ 0.0 ┆ 0   ┆ 114 ┆ 0.0 ┆ 700 ┆ 0   ┆ 196 ┆ 0   ┆ 0   ┆ 0.0 ┆ 0   ┆ 0   ┆ 0.0 ┆ 447 ┆ 0   ┆ 120 ┆ 0   │\n",
       "│ l_c ┆     ┆     ┆     ┆ 5   ┆     ┆     ┆     ┆     ┆ 02. ┆     ┆     ┆     ┆     ┆ 08  ┆     ┆ 2   ┆     ┆ 5.0 ┆     ┆     ┆     ┆     ┆     ┆     ┆ 9   ┆     ┆ 0   ┆     │\n",
       "│ oun ┆     ┆     ┆     ┆     ┆     ┆     ┆     ┆     ┆ 0   ┆     ┆     ┆     ┆     ┆     ┆     ┆     ┆     ┆     ┆     ┆     ┆     ┆     ┆     ┆     ┆     ┆     ┆     ┆     │\n",
       "│ t   ┆     ┆     ┆     ┆     ┆     ┆     ┆     ┆     ┆     ┆     ┆     ┆     ┆     ┆     ┆     ┆     ┆     ┆     ┆     ┆     ┆     ┆     ┆     ┆     ┆     ┆     ┆     ┆     │\n",
       "│ mea ┆ nul ┆ nul ┆ nul ┆ nul ┆ nul ┆ nul ┆ nul ┆ nul ┆ 419 ┆ 17. ┆ 22. ┆ 72. ┆ nul ┆ nul ┆ 21. ┆ nul ┆ nul ┆ 27. ┆ nul ┆ nul ┆ 32. ┆ nul ┆ nul ┆ 140 ┆ nul ┆ nul ┆ nul ┆ nul │\n",
       "│ n   ┆ l   ┆ l   ┆ l   ┆ l   ┆ l   ┆ l   ┆ l   ┆ l   ┆ 4.1 ┆ 091 ┆ 474 ┆ 466 ┆ l   ┆ l   ┆ 068 ┆ l   ┆ l   ┆ 754 ┆ l   ┆ l   ┆ 285 ┆ l   ┆ l   ┆ 3.1 ┆ l   ┆ l   ┆ l   ┆ l   │\n",
       "│     ┆     ┆     ┆     ┆     ┆     ┆     ┆     ┆     ┆ 708 ┆ 28  ┆ 43  ┆ 04  ┆     ┆     ┆ 78  ┆     ┆     ┆ 251 ┆     ┆     ┆ 173 ┆     ┆     ┆ 182 ┆     ┆     ┆     ┆     │\n",
       "│     ┆     ┆     ┆     ┆     ┆     ┆     ┆     ┆     ┆ 5   ┆     ┆     ┆     ┆     ┆     ┆     ┆     ┆     ┆     ┆     ┆     ┆     ┆     ┆     ┆ 17  ┆     ┆     ┆     ┆     │\n",
       "│ std ┆ nul ┆ nul ┆ nul ┆ nul ┆ nul ┆ nul ┆ nul ┆ nul ┆ 318 ┆ 117 ┆ 129 ┆ 466 ┆ nul ┆ nul ┆ 14. ┆ nul ┆ nul ┆ 193 ┆ nul ┆ nul ┆ 5.1 ┆ nul ┆ nul ┆ 830 ┆ nul ┆ nul ┆ nul ┆ nul │\n",
       "│     ┆ l   ┆ l   ┆ l   ┆ l   ┆ l   ┆ l   ┆ l   ┆ l   ┆ 3.6 ┆ .40 ┆ .05 ┆ .42 ┆ l   ┆ l   ┆ 860 ┆ l   ┆ l   ┆ .17 ┆ l   ┆ l   ┆ 168 ┆ l   ┆ l   ┆ 6.0 ┆ l   ┆ l   ┆ l   ┆ l   │\n",
       "│     ┆     ┆     ┆     ┆     ┆     ┆     ┆     ┆     ┆ 861 ┆ 483 ┆ 741 ┆ 262 ┆     ┆     ┆ 104 ┆     ┆     ┆ 733 ┆     ┆     ┆ 75  ┆     ┆     ┆ 412 ┆     ┆     ┆     ┆     │\n",
       "│     ┆     ┆     ┆     ┆     ┆     ┆     ┆     ┆     ┆ 67  ┆ 4   ┆     ┆ 1   ┆     ┆     ┆     ┆     ┆     ┆ 9   ┆     ┆     ┆     ┆     ┆     ┆ 7   ┆     ┆     ┆     ┆     │\n",
       "│ min ┆ 0x1 ┆ CUS ┆ Apr ┆ Mat ┆ -50 ┆ #F% ┆ Acc ┆ 100 ┆ 303 ┆ -1. ┆ 0.0 ┆ 1.0 ┆ -10 ┆ Aut ┆ -5. ┆ -1  ┆ -0. ┆ 0.0 ┆ Bad ┆ 0.2 ┆ 20. ┆ 0   ┆ NM  ┆ 0.0 ┆ 0.0 ┆ !@9 ┆ 0.0 ┆ Goo │\n",
       "│     ┆ 000 ┆ _0x ┆ il  ┆ tr  ┆ 0   ┆ $D@ ┆ oun ┆ 017 ┆ .64 ┆ 0   ┆     ┆     ┆ 0   ┆ o   ┆ 0   ┆     ┆ 009 ┆     ┆     ┆ 3   ┆ 0   ┆ Yea ┆     ┆     ┆     ┆ #%8 ┆ 077 ┆ d   │\n",
       "│     ┆ 2   ┆ 100 ┆     ┆     ┆     ┆ *&8 ┆ tan ┆ 27. ┆ 541 ┆     ┆     ┆     ┆     ┆ Loa ┆     ┆     ┆ 999 ┆     ┆     ┆     ┆     ┆ rs  ┆     ┆     ┆     ┆     ┆ 596 ┆     │\n",
       "│     ┆     ┆ 0   ┆     ┆     ┆     ┆     ┆ t   ┆ 0   ┆ 7   ┆     ┆     ┆     ┆     ┆ n   ┆     ┆     ┆ 999 ┆     ┆     ┆     ┆     ┆ and ┆     ┆     ┆     ┆     ┆ 647 ┆     │\n",
       "│     ┆     ┆     ┆     ┆     ┆     ┆     ┆     ┆     ┆     ┆     ┆     ┆     ┆     ┆     ┆     ┆     ┆ 999 ┆     ┆     ┆     ┆     ┆ 1   ┆     ┆     ┆     ┆     ┆ 753 ┆     │\n",
       "│     ┆     ┆     ┆     ┆     ┆     ┆     ┆     ┆     ┆     ┆     ┆     ┆     ┆     ┆     ┆     ┆     ┆ 999 ┆     ┆     ┆     ┆     ┆ Mon ┆     ┆     ┆     ┆     ┆ 352 ┆     │\n",
       "│     ┆     ┆     ┆     ┆     ┆     ┆     ┆     ┆     ┆     ┆     ┆     ┆     ┆     ┆     ┆     ┆     ┆ 787 ┆     ┆     ┆     ┆     ┆ ths ┆     ┆     ┆     ┆     ┆ 95  ┆     │\n",
       "│ 25% ┆ nul ┆ nul ┆ nul ┆ nul ┆ nul ┆ nul ┆ nul ┆ nul ┆ 162 ┆ 3.0 ┆ 4.0 ┆ 8.0 ┆ nul ┆ nul ┆ 10. ┆ nul ┆ nul ┆ 3.0 ┆ nul ┆ nul ┆ 28. ┆ nul ┆ nul ┆ 30. ┆ nul ┆ nul ┆ nul ┆ nul │\n",
       "│     ┆ l   ┆ l   ┆ l   ┆ l   ┆ l   ┆ l   ┆ l   ┆ l   ┆ 5.5 ┆     ┆     ┆     ┆ l   ┆ l   ┆ 0   ┆ l   ┆ l   ┆     ┆ l   ┆ l   ┆ 052 ┆ l   ┆ l   ┆ 306 ┆ l   ┆ l   ┆ l   ┆ l   │\n",
       "│     ┆     ┆     ┆     ┆     ┆     ┆     ┆     ┆     ┆ 583 ┆     ┆     ┆     ┆     ┆     ┆     ┆     ┆     ┆     ┆     ┆     ┆ 568 ┆     ┆     ┆ 66  ┆     ┆     ┆     ┆     │\n",
       "│     ┆     ┆     ┆     ┆     ┆     ┆     ┆     ┆     ┆ 33  ┆     ┆     ┆     ┆     ┆     ┆     ┆     ┆     ┆     ┆     ┆     ┆     ┆     ┆     ┆     ┆     ┆     ┆     ┆     │\n",
       "│ 50% ┆ nul ┆ nul ┆ nul ┆ nul ┆ nul ┆ nul ┆ nul ┆ nul ┆ 309 ┆ 6.0 ┆ 5.0 ┆ 13. ┆ nul ┆ nul ┆ 18. ┆ nul ┆ nul ┆ 6.0 ┆ nul ┆ nul ┆ 32. ┆ nul ┆ nul ┆ 69. ┆ nul ┆ nul ┆ nul ┆ nul │\n",
       "│     ┆ l   ┆ l   ┆ l   ┆ l   ┆ l   ┆ l   ┆ l   ┆ l   ┆ 3.7 ┆     ┆     ┆ 0   ┆ l   ┆ l   ┆ 0   ┆ l   ┆ l   ┆     ┆ l   ┆ l   ┆ 305 ┆ l   ┆ l   ┆ 252 ┆ l   ┆ l   ┆ l   ┆ l   │\n",
       "│     ┆     ┆     ┆     ┆     ┆     ┆     ┆     ┆     ┆ 45  ┆     ┆     ┆     ┆     ┆     ┆     ┆     ┆     ┆     ┆     ┆     ┆ 891 ┆     ┆     ┆ 263 ┆     ┆     ┆     ┆     │\n",
       "│ 75% ┆ nul ┆ nul ┆ nul ┆ nul ┆ nul ┆ nul ┆ nul ┆ nul ┆ 595 ┆ 7.0 ┆ 7.0 ┆ 20. ┆ nul ┆ nul ┆ 28. ┆ nul ┆ nul ┆ 9.0 ┆ nul ┆ nul ┆ 36. ┆ nul ┆ nul ┆ 161 ┆ nul ┆ nul ┆ nul ┆ nul │\n",
       "│     ┆ l   ┆ l   ┆ l   ┆ l   ┆ l   ┆ l   ┆ l   ┆ l   ┆ 7.4 ┆     ┆     ┆ 0   ┆ l   ┆ l   ┆ 0   ┆ l   ┆ l   ┆     ┆ l   ┆ l   ┆ 496 ┆ l   ┆ l   ┆ .22 ┆ l   ┆ l   ┆ l   ┆ l   │\n",
       "│     ┆     ┆     ┆     ┆     ┆     ┆     ┆     ┆     ┆ 483 ┆     ┆     ┆     ┆     ┆     ┆     ┆     ┆     ┆     ┆     ┆     ┆ 612 ┆     ┆     ┆ 424 ┆     ┆     ┆     ┆     │\n",
       "│     ┆     ┆     ┆     ┆     ┆     ┆     ┆     ┆     ┆ 33  ┆     ┆     ┆     ┆     ┆     ┆     ┆     ┆     ┆     ┆     ┆     ┆     ┆     ┆     ┆ 9   ┆     ┆     ┆     ┆     │\n",
       "│ max ┆ 0xf ┆ CUS ┆ May ┆ yv  ┆ 995 ┆ 999 ┆ ___ ┆ 999 ┆ 152 ┆ 179 ┆ 149 ┆ 579 ┆ 9_  ┆ Stu ┆ 67. ┆ 9_  ┆ _   ┆ 259 ┆ _   ┆ 999 ┆ 50. ┆ NA  ┆ Yes ┆ 823 ┆ __1 ┆ Low ┆ __- ┆ Sta │\n",
       "│     ┆ ffd ┆ _0x ┆     ┆     ┆     ┆ -99 ┆ ___ ┆ 95. ┆ 04. ┆ 8.0 ┆ 9.0 ┆ 7.0 ┆     ┆ den ┆ 0   ┆     ┆     ┆ 7.0 ┆     ┆ .48 ┆ 0   ┆     ┆     ┆ 31. ┆ 000 ┆ _sp ┆ 333 ┆ nda │\n",
       "│     ┆     ┆ ffd ┆     ┆     ┆     ┆ -34 ┆ _   ┆ 22  ┆ 633 ┆     ┆     ┆     ┆     ┆ t   ┆     ┆     ┆     ┆     ┆     ┆     ┆     ┆     ┆     ┆ 0   ┆ 0__ ┆ ent ┆ 333 ┆ rd  │\n",
       "│     ┆     ┆     ┆     ┆     ┆     ┆ 21  ┆     ┆     ┆ 333 ┆     ┆     ┆     ┆     ┆ Loa ┆     ┆     ┆     ┆     ┆     ┆     ┆     ┆     ┆     ┆     ┆     ┆ _Sm ┆ 333 ┆     │\n",
       "│     ┆     ┆     ┆     ┆     ┆     ┆     ┆     ┆     ┆     ┆     ┆     ┆     ┆     ┆ n,  ┆     ┆     ┆     ┆     ┆     ┆     ┆     ┆     ┆     ┆     ┆     ┆ all ┆ 333 ┆     │\n",
       "│     ┆     ┆     ┆     ┆     ┆     ┆     ┆     ┆     ┆     ┆     ┆     ┆     ┆     ┆ and ┆     ┆     ┆     ┆     ┆     ┆     ┆     ┆     ┆     ┆     ┆     ┆ _va ┆ 333 ┆     │\n",
       "│     ┆     ┆     ┆     ┆     ┆     ┆     ┆     ┆     ┆     ┆     ┆     ┆     ┆     ┆ Stu ┆     ┆     ┆     ┆     ┆     ┆     ┆     ┆     ┆     ┆     ┆     ┆ lue ┆ 333 ┆     │\n",
       "│     ┆     ┆     ┆     ┆     ┆     ┆     ┆     ┆     ┆     ┆     ┆     ┆     ┆     ┆ den ┆     ┆     ┆     ┆     ┆     ┆     ┆     ┆     ┆     ┆     ┆     ┆ _pa ┆ 333 ┆     │\n",
       "│     ┆     ┆     ┆     ┆     ┆     ┆     ┆     ┆     ┆     ┆     ┆     ┆     ┆     ┆ t   ┆     ┆     ┆     ┆     ┆     ┆     ┆     ┆     ┆     ┆     ┆     ┆ yme ┆ 333 ┆     │\n",
       "│     ┆     ┆     ┆     ┆     ┆     ┆     ┆     ┆     ┆     ┆     ┆     ┆     ┆     ┆ Loa ┆     ┆     ┆     ┆     ┆     ┆     ┆     ┆     ┆     ┆     ┆     ┆ nts ┆ 333 ┆     │\n",
       "│     ┆     ┆     ┆     ┆     ┆     ┆     ┆     ┆     ┆     ┆     ┆     ┆     ┆     ┆ n   ┆     ┆     ┆     ┆     ┆     ┆     ┆     ┆     ┆     ┆     ┆     ┆     ┆ …   ┆     │\n",
       "└─────┴─────┴─────┴─────┴─────┴─────┴─────┴─────┴─────┴─────┴─────┴─────┴─────┴─────┴─────┴─────┴─────┴─────┴─────┴─────┴─────┴─────┴─────┴─────┴─────┴─────┴─────┴─────┴─────┘"
      ]
     },
     "execution_count": 10,
     "metadata": {},
     "output_type": "execute_result"
    }
   ],
   "source": [
    "df.describe()"
   ]
  }
 ],
 "metadata": {
  "kernelspec": {
   "display_name": "Python 3",
   "language": "python",
   "name": "python3"
  },
  "language_info": {
   "codemirror_mode": {
    "name": "ipython",
    "version": 3
   },
   "file_extension": ".py",
   "mimetype": "text/x-python",
   "name": "python",
   "nbconvert_exporter": "python",
   "pygments_lexer": "ipython3",
   "version": "3.13.5"
  }
 },
 "nbformat": 4,
 "nbformat_minor": 5
}
