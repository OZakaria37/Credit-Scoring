{
 "cells": [
  {
   "cell_type": "markdown",
   "id": "ddf8267d",
   "metadata": {},
   "source": [
    "# Imports and Reading"
   ]
  },
  {
   "cell_type": "code",
   "execution_count": 1,
   "id": "53e6677f",
   "metadata": {},
   "outputs": [],
   "source": [
    "import polars as pl\n",
    "import plotly.express as ex\n",
    "import re"
   ]
  },
  {
   "cell_type": "code",
   "execution_count": 2,
   "id": "469c54fd",
   "metadata": {},
   "outputs": [],
   "source": [
    "df = pl.read_csv(\"..\\\\data\\\\train.csv\", infer_schema_length=10000)"
   ]
  },
  {
   "cell_type": "code",
   "execution_count": 3,
   "id": "67a7b07c",
   "metadata": {},
   "outputs": [
    {
     "data": {
      "text/plain": [
       "polars.config.Config"
      ]
     },
     "execution_count": 3,
     "metadata": {},
     "output_type": "execute_result"
    }
   ],
   "source": [
    "pl.Config.set_tbl_cols(-1)"
   ]
  },
  {
   "cell_type": "markdown",
   "id": "a3eb063a",
   "metadata": {},
   "source": [
    "# Initial Checks"
   ]
  },
  {
   "cell_type": "code",
   "execution_count": 4,
   "id": "708222f8",
   "metadata": {},
   "outputs": [
    {
     "data": {
      "text/plain": [
       "(100000, 28)"
      ]
     },
     "execution_count": 4,
     "metadata": {},
     "output_type": "execute_result"
    }
   ],
   "source": [
    "df.shape"
   ]
  },
  {
   "cell_type": "code",
   "execution_count": 5,
   "id": "e25bd8ce",
   "metadata": {},
   "outputs": [
    {
     "data": {
      "text/plain": [
       "['ID',\n",
       " 'Customer_ID',\n",
       " 'Month',\n",
       " 'Name',\n",
       " 'Age',\n",
       " 'SSN',\n",
       " 'Occupation',\n",
       " 'Annual_Income',\n",
       " 'Monthly_Inhand_Salary',\n",
       " 'Num_Bank_Accounts',\n",
       " 'Num_Credit_Card',\n",
       " 'Interest_Rate',\n",
       " 'Num_of_Loan',\n",
       " 'Type_of_Loan',\n",
       " 'Delay_from_due_date',\n",
       " 'Num_of_Delayed_Payment',\n",
       " 'Changed_Credit_Limit',\n",
       " 'Num_Credit_Inquiries',\n",
       " 'Credit_Mix',\n",
       " 'Outstanding_Debt',\n",
       " 'Credit_Utilization_Ratio',\n",
       " 'Credit_History_Age',\n",
       " 'Payment_of_Min_Amount',\n",
       " 'Total_EMI_per_month',\n",
       " 'Amount_invested_monthly',\n",
       " 'Payment_Behaviour',\n",
       " 'Monthly_Balance',\n",
       " 'Credit_Score']"
      ]
     },
     "execution_count": 5,
     "metadata": {},
     "output_type": "execute_result"
    }
   ],
   "source": [
    "df.columns"
   ]
  },
  {
   "cell_type": "code",
   "execution_count": 6,
   "id": "3b05fca7",
   "metadata": {},
   "outputs": [
    {
     "data": {
      "text/html": [
       "<div><style>\n",
       ".dataframe > thead > tr,\n",
       ".dataframe > tbody > tr {\n",
       "  text-align: right;\n",
       "  white-space: pre-wrap;\n",
       "}\n",
       "</style>\n",
       "<small>shape: (5, 28)</small><table border=\"1\" class=\"dataframe\"><thead><tr><th>ID</th><th>Customer_ID</th><th>Month</th><th>Name</th><th>Age</th><th>SSN</th><th>Occupation</th><th>Annual_Income</th><th>Monthly_Inhand_Salary</th><th>Num_Bank_Accounts</th><th>Num_Credit_Card</th><th>Interest_Rate</th><th>Num_of_Loan</th><th>Type_of_Loan</th><th>Delay_from_due_date</th><th>Num_of_Delayed_Payment</th><th>Changed_Credit_Limit</th><th>Num_Credit_Inquiries</th><th>Credit_Mix</th><th>Outstanding_Debt</th><th>Credit_Utilization_Ratio</th><th>Credit_History_Age</th><th>Payment_of_Min_Amount</th><th>Total_EMI_per_month</th><th>Amount_invested_monthly</th><th>Payment_Behaviour</th><th>Monthly_Balance</th><th>Credit_Score</th></tr><tr><td>str</td><td>str</td><td>str</td><td>str</td><td>str</td><td>str</td><td>str</td><td>str</td><td>f64</td><td>i64</td><td>i64</td><td>i64</td><td>str</td><td>str</td><td>i64</td><td>str</td><td>str</td><td>f64</td><td>str</td><td>str</td><td>f64</td><td>str</td><td>str</td><td>f64</td><td>str</td><td>str</td><td>str</td><td>str</td></tr></thead><tbody><tr><td>&quot;0x1602&quot;</td><td>&quot;CUS_0xd40&quot;</td><td>&quot;January&quot;</td><td>&quot;Aaron Maashoh&quot;</td><td>&quot;23&quot;</td><td>&quot;821-00-0265&quot;</td><td>&quot;Scientist&quot;</td><td>&quot;19114.12&quot;</td><td>1824.843333</td><td>3</td><td>4</td><td>3</td><td>&quot;4&quot;</td><td>&quot;Auto Loan, Credit-Builder Loan…</td><td>3</td><td>&quot;7&quot;</td><td>&quot;11.27&quot;</td><td>4.0</td><td>&quot;_&quot;</td><td>&quot;809.98&quot;</td><td>26.82262</td><td>&quot;22 Years and 1 Months&quot;</td><td>&quot;No&quot;</td><td>49.574949</td><td>&quot;80.41529543900253&quot;</td><td>&quot;High_spent_Small_value_payment…</td><td>&quot;312.49408867943663&quot;</td><td>&quot;Good&quot;</td></tr><tr><td>&quot;0x1603&quot;</td><td>&quot;CUS_0xd40&quot;</td><td>&quot;February&quot;</td><td>&quot;Aaron Maashoh&quot;</td><td>&quot;23&quot;</td><td>&quot;821-00-0265&quot;</td><td>&quot;Scientist&quot;</td><td>&quot;19114.12&quot;</td><td>null</td><td>3</td><td>4</td><td>3</td><td>&quot;4&quot;</td><td>&quot;Auto Loan, Credit-Builder Loan…</td><td>-1</td><td>null</td><td>&quot;11.27&quot;</td><td>4.0</td><td>&quot;Good&quot;</td><td>&quot;809.98&quot;</td><td>31.94496</td><td>&quot;NA&quot;</td><td>&quot;No&quot;</td><td>49.574949</td><td>&quot;118.28022162236736&quot;</td><td>&quot;Low_spent_Large_value_payments&quot;</td><td>&quot;284.62916249607184&quot;</td><td>&quot;Good&quot;</td></tr><tr><td>&quot;0x1604&quot;</td><td>&quot;CUS_0xd40&quot;</td><td>&quot;March&quot;</td><td>&quot;Aaron Maashoh&quot;</td><td>&quot;-500&quot;</td><td>&quot;821-00-0265&quot;</td><td>&quot;Scientist&quot;</td><td>&quot;19114.12&quot;</td><td>null</td><td>3</td><td>4</td><td>3</td><td>&quot;4&quot;</td><td>&quot;Auto Loan, Credit-Builder Loan…</td><td>3</td><td>&quot;7&quot;</td><td>&quot;_&quot;</td><td>4.0</td><td>&quot;Good&quot;</td><td>&quot;809.98&quot;</td><td>28.609352</td><td>&quot;22 Years and 3 Months&quot;</td><td>&quot;No&quot;</td><td>49.574949</td><td>&quot;81.699521264648&quot;</td><td>&quot;Low_spent_Medium_value_payment…</td><td>&quot;331.2098628537912&quot;</td><td>&quot;Good&quot;</td></tr><tr><td>&quot;0x1605&quot;</td><td>&quot;CUS_0xd40&quot;</td><td>&quot;April&quot;</td><td>&quot;Aaron Maashoh&quot;</td><td>&quot;23&quot;</td><td>&quot;821-00-0265&quot;</td><td>&quot;Scientist&quot;</td><td>&quot;19114.12&quot;</td><td>null</td><td>3</td><td>4</td><td>3</td><td>&quot;4&quot;</td><td>&quot;Auto Loan, Credit-Builder Loan…</td><td>5</td><td>&quot;4&quot;</td><td>&quot;6.27&quot;</td><td>4.0</td><td>&quot;Good&quot;</td><td>&quot;809.98&quot;</td><td>31.377862</td><td>&quot;22 Years and 4 Months&quot;</td><td>&quot;No&quot;</td><td>49.574949</td><td>&quot;199.4580743910713&quot;</td><td>&quot;Low_spent_Small_value_payments&quot;</td><td>&quot;223.45130972736786&quot;</td><td>&quot;Good&quot;</td></tr><tr><td>&quot;0x1606&quot;</td><td>&quot;CUS_0xd40&quot;</td><td>&quot;May&quot;</td><td>&quot;Aaron Maashoh&quot;</td><td>&quot;23&quot;</td><td>&quot;821-00-0265&quot;</td><td>&quot;Scientist&quot;</td><td>&quot;19114.12&quot;</td><td>1824.843333</td><td>3</td><td>4</td><td>3</td><td>&quot;4&quot;</td><td>&quot;Auto Loan, Credit-Builder Loan…</td><td>6</td><td>null</td><td>&quot;11.27&quot;</td><td>4.0</td><td>&quot;Good&quot;</td><td>&quot;809.98&quot;</td><td>24.797347</td><td>&quot;22 Years and 5 Months&quot;</td><td>&quot;No&quot;</td><td>49.574949</td><td>&quot;41.420153086217326&quot;</td><td>&quot;High_spent_Medium_value_paymen…</td><td>&quot;341.48923103222177&quot;</td><td>&quot;Good&quot;</td></tr></tbody></table></div>"
      ],
      "text/plain": [
       "shape: (5, 28)\n",
       "┌─────┬─────┬─────┬─────┬─────┬─────┬─────┬─────┬─────┬─────┬─────┬─────┬─────┬─────┬─────┬─────┬─────┬─────┬─────┬─────┬─────┬─────┬─────┬─────┬─────┬─────┬─────┬─────┐\n",
       "│ ID  ┆ Cus ┆ Mon ┆ Nam ┆ Age ┆ SSN ┆ Occ ┆ Ann ┆ Mon ┆ Num ┆ Num ┆ Int ┆ Num ┆ Typ ┆ Del ┆ Num ┆ Cha ┆ Num ┆ Cre ┆ Out ┆ Cre ┆ Cre ┆ Pay ┆ Tot ┆ Amo ┆ Pay ┆ Mon ┆ Cre │\n",
       "│ --- ┆ tom ┆ th  ┆ e   ┆ --- ┆ --- ┆ upa ┆ ual ┆ thl ┆ _Ba ┆ _Cr ┆ ere ┆ _of ┆ e_o ┆ ay_ ┆ _of ┆ nge ┆ _Cr ┆ dit ┆ sta ┆ dit ┆ dit ┆ men ┆ al_ ┆ unt ┆ men ┆ thl ┆ dit │\n",
       "│ str ┆ er_ ┆ --- ┆ --- ┆ str ┆ str ┆ tio ┆ _In ┆ y_I ┆ nk_ ┆ edi ┆ st_ ┆ _Lo ┆ f_L ┆ fro ┆ _De ┆ d_C ┆ edi ┆ _Mi ┆ ndi ┆ _Ut ┆ _Hi ┆ t_o ┆ EMI ┆ _in ┆ t_B ┆ y_B ┆ _Sc │\n",
       "│     ┆ ID  ┆ str ┆ str ┆     ┆     ┆ n   ┆ com ┆ nha ┆ Acc ┆ t_C ┆ Rat ┆ an  ┆ oan ┆ m_d ┆ lay ┆ red ┆ t_I ┆ x   ┆ ng_ ┆ ili ┆ sto ┆ f_M ┆ _pe ┆ ves ┆ eha ┆ ala ┆ ore │\n",
       "│     ┆ --- ┆     ┆     ┆     ┆     ┆ --- ┆ e   ┆ nd_ ┆ oun ┆ ard ┆ e   ┆ --- ┆ --- ┆ ue_ ┆ ed_ ┆ it_ ┆ nqu ┆ --- ┆ Deb ┆ zat ┆ ry_ ┆ in_ ┆ r_m ┆ ted ┆ vio ┆ nce ┆ --- │\n",
       "│     ┆ str ┆     ┆     ┆     ┆     ┆ str ┆ --- ┆ Sal ┆ ts  ┆ --- ┆ --- ┆ str ┆ str ┆ dat ┆ Pay ┆ Lim ┆ iri ┆ str ┆ t   ┆ ion ┆ Age ┆ Amo ┆ ont ┆ _mo ┆ ur  ┆ --- ┆ str │\n",
       "│     ┆     ┆     ┆     ┆     ┆     ┆     ┆ str ┆ ary ┆ --- ┆ i64 ┆ i64 ┆     ┆     ┆ e   ┆ men ┆ it  ┆ es  ┆     ┆ --- ┆ _Ra ┆ --- ┆ unt ┆ h   ┆ nth ┆ --- ┆ str ┆     │\n",
       "│     ┆     ┆     ┆     ┆     ┆     ┆     ┆     ┆ --- ┆ i64 ┆     ┆     ┆     ┆     ┆ --- ┆ t   ┆ --- ┆ --- ┆     ┆ str ┆ tio ┆ str ┆ --- ┆ --- ┆ ly  ┆ str ┆     ┆     │\n",
       "│     ┆     ┆     ┆     ┆     ┆     ┆     ┆     ┆ f64 ┆     ┆     ┆     ┆     ┆     ┆ i64 ┆ --- ┆ str ┆ f64 ┆     ┆     ┆ --- ┆     ┆ str ┆ f64 ┆ --- ┆     ┆     ┆     │\n",
       "│     ┆     ┆     ┆     ┆     ┆     ┆     ┆     ┆     ┆     ┆     ┆     ┆     ┆     ┆     ┆ str ┆     ┆     ┆     ┆     ┆ f64 ┆     ┆     ┆     ┆ str ┆     ┆     ┆     │\n",
       "╞═════╪═════╪═════╪═════╪═════╪═════╪═════╪═════╪═════╪═════╪═════╪═════╪═════╪═════╪═════╪═════╪═════╪═════╪═════╪═════╪═════╪═════╪═════╪═════╪═════╪═════╪═════╪═════╡\n",
       "│ 0x1 ┆ CUS ┆ Jan ┆ Aar ┆ 23  ┆ 821 ┆ Sci ┆ 191 ┆ 182 ┆ 3   ┆ 4   ┆ 3   ┆ 4   ┆ Aut ┆ 3   ┆ 7   ┆ 11. ┆ 4.0 ┆ _   ┆ 809 ┆ 26. ┆ 22  ┆ No  ┆ 49. ┆ 80. ┆ Hig ┆ 312 ┆ Goo │\n",
       "│ 602 ┆ _0x ┆ uar ┆ on  ┆     ┆ -00 ┆ ent ┆ 14. ┆ 4.8 ┆     ┆     ┆     ┆     ┆ o   ┆     ┆     ┆ 27  ┆     ┆     ┆ .98 ┆ 822 ┆ Yea ┆     ┆ 574 ┆ 415 ┆ h_s ┆ .49 ┆ d   │\n",
       "│     ┆ d40 ┆ y   ┆ Maa ┆     ┆ -02 ┆ ist ┆ 12  ┆ 433 ┆     ┆     ┆     ┆     ┆ Loa ┆     ┆     ┆     ┆     ┆     ┆     ┆ 62  ┆ rs  ┆     ┆ 949 ┆ 295 ┆ pen ┆ 408 ┆     │\n",
       "│     ┆     ┆     ┆ sho ┆     ┆ 65  ┆     ┆     ┆ 33  ┆     ┆     ┆     ┆     ┆ n,  ┆     ┆     ┆     ┆     ┆     ┆     ┆     ┆ and ┆     ┆     ┆ 439 ┆ t_S ┆ 867 ┆     │\n",
       "│     ┆     ┆     ┆ h   ┆     ┆     ┆     ┆     ┆     ┆     ┆     ┆     ┆     ┆ Cre ┆     ┆     ┆     ┆     ┆     ┆     ┆     ┆ 1   ┆     ┆     ┆ 002 ┆ mal ┆ 943 ┆     │\n",
       "│     ┆     ┆     ┆     ┆     ┆     ┆     ┆     ┆     ┆     ┆     ┆     ┆     ┆ dit ┆     ┆     ┆     ┆     ┆     ┆     ┆     ┆ Mon ┆     ┆     ┆ 53  ┆ l_v ┆ 663 ┆     │\n",
       "│     ┆     ┆     ┆     ┆     ┆     ┆     ┆     ┆     ┆     ┆     ┆     ┆     ┆ -Bu ┆     ┆     ┆     ┆     ┆     ┆     ┆     ┆ ths ┆     ┆     ┆     ┆ alu ┆     ┆     │\n",
       "│     ┆     ┆     ┆     ┆     ┆     ┆     ┆     ┆     ┆     ┆     ┆     ┆     ┆ ild ┆     ┆     ┆     ┆     ┆     ┆     ┆     ┆     ┆     ┆     ┆     ┆ e_p ┆     ┆     │\n",
       "│     ┆     ┆     ┆     ┆     ┆     ┆     ┆     ┆     ┆     ┆     ┆     ┆     ┆ er  ┆     ┆     ┆     ┆     ┆     ┆     ┆     ┆     ┆     ┆     ┆     ┆ aym ┆     ┆     │\n",
       "│     ┆     ┆     ┆     ┆     ┆     ┆     ┆     ┆     ┆     ┆     ┆     ┆     ┆ Loa ┆     ┆     ┆     ┆     ┆     ┆     ┆     ┆     ┆     ┆     ┆     ┆ ent ┆     ┆     │\n",
       "│     ┆     ┆     ┆     ┆     ┆     ┆     ┆     ┆     ┆     ┆     ┆     ┆     ┆ n…  ┆     ┆     ┆     ┆     ┆     ┆     ┆     ┆     ┆     ┆     ┆     ┆ …   ┆     ┆     │\n",
       "│ 0x1 ┆ CUS ┆ Feb ┆ Aar ┆ 23  ┆ 821 ┆ Sci ┆ 191 ┆ nul ┆ 3   ┆ 4   ┆ 3   ┆ 4   ┆ Aut ┆ -1  ┆ nul ┆ 11. ┆ 4.0 ┆ Goo ┆ 809 ┆ 31. ┆ NA  ┆ No  ┆ 49. ┆ 118 ┆ Low ┆ 284 ┆ Goo │\n",
       "│ 603 ┆ _0x ┆ rua ┆ on  ┆     ┆ -00 ┆ ent ┆ 14. ┆ l   ┆     ┆     ┆     ┆     ┆ o   ┆     ┆ l   ┆ 27  ┆     ┆ d   ┆ .98 ┆ 944 ┆     ┆     ┆ 574 ┆ .28 ┆ _sp ┆ .62 ┆ d   │\n",
       "│     ┆ d40 ┆ ry  ┆ Maa ┆     ┆ -02 ┆ ist ┆ 12  ┆     ┆     ┆     ┆     ┆     ┆ Loa ┆     ┆     ┆     ┆     ┆     ┆     ┆ 96  ┆     ┆     ┆ 949 ┆ 022 ┆ ent ┆ 916 ┆     │\n",
       "│     ┆     ┆     ┆ sho ┆     ┆ 65  ┆     ┆     ┆     ┆     ┆     ┆     ┆     ┆ n,  ┆     ┆     ┆     ┆     ┆     ┆     ┆     ┆     ┆     ┆     ┆ 162 ┆ _La ┆ 249 ┆     │\n",
       "│     ┆     ┆     ┆ h   ┆     ┆     ┆     ┆     ┆     ┆     ┆     ┆     ┆     ┆ Cre ┆     ┆     ┆     ┆     ┆     ┆     ┆     ┆     ┆     ┆     ┆ 236 ┆ rge ┆ 607 ┆     │\n",
       "│     ┆     ┆     ┆     ┆     ┆     ┆     ┆     ┆     ┆     ┆     ┆     ┆     ┆ dit ┆     ┆     ┆     ┆     ┆     ┆     ┆     ┆     ┆     ┆     ┆ 736 ┆ _va ┆ 184 ┆     │\n",
       "│     ┆     ┆     ┆     ┆     ┆     ┆     ┆     ┆     ┆     ┆     ┆     ┆     ┆ -Bu ┆     ┆     ┆     ┆     ┆     ┆     ┆     ┆     ┆     ┆     ┆     ┆ lue ┆     ┆     │\n",
       "│     ┆     ┆     ┆     ┆     ┆     ┆     ┆     ┆     ┆     ┆     ┆     ┆     ┆ ild ┆     ┆     ┆     ┆     ┆     ┆     ┆     ┆     ┆     ┆     ┆     ┆ _pa ┆     ┆     │\n",
       "│     ┆     ┆     ┆     ┆     ┆     ┆     ┆     ┆     ┆     ┆     ┆     ┆     ┆ er  ┆     ┆     ┆     ┆     ┆     ┆     ┆     ┆     ┆     ┆     ┆     ┆ yme ┆     ┆     │\n",
       "│     ┆     ┆     ┆     ┆     ┆     ┆     ┆     ┆     ┆     ┆     ┆     ┆     ┆ Loa ┆     ┆     ┆     ┆     ┆     ┆     ┆     ┆     ┆     ┆     ┆     ┆ nts ┆     ┆     │\n",
       "│     ┆     ┆     ┆     ┆     ┆     ┆     ┆     ┆     ┆     ┆     ┆     ┆     ┆ n…  ┆     ┆     ┆     ┆     ┆     ┆     ┆     ┆     ┆     ┆     ┆     ┆     ┆     ┆     │\n",
       "│ 0x1 ┆ CUS ┆ Mar ┆ Aar ┆ -50 ┆ 821 ┆ Sci ┆ 191 ┆ nul ┆ 3   ┆ 4   ┆ 3   ┆ 4   ┆ Aut ┆ 3   ┆ 7   ┆ _   ┆ 4.0 ┆ Goo ┆ 809 ┆ 28. ┆ 22  ┆ No  ┆ 49. ┆ 81. ┆ Low ┆ 331 ┆ Goo │\n",
       "│ 604 ┆ _0x ┆ ch  ┆ on  ┆ 0   ┆ -00 ┆ ent ┆ 14. ┆ l   ┆     ┆     ┆     ┆     ┆ o   ┆     ┆     ┆     ┆     ┆ d   ┆ .98 ┆ 609 ┆ Yea ┆     ┆ 574 ┆ 699 ┆ _sp ┆ .20 ┆ d   │\n",
       "│     ┆ d40 ┆     ┆ Maa ┆     ┆ -02 ┆ ist ┆ 12  ┆     ┆     ┆     ┆     ┆     ┆ Loa ┆     ┆     ┆     ┆     ┆     ┆     ┆ 352 ┆ rs  ┆     ┆ 949 ┆ 521 ┆ ent ┆ 986 ┆     │\n",
       "│     ┆     ┆     ┆ sho ┆     ┆ 65  ┆     ┆     ┆     ┆     ┆     ┆     ┆     ┆ n,  ┆     ┆     ┆     ┆     ┆     ┆     ┆     ┆ and ┆     ┆     ┆ 264 ┆ _Me ┆ 285 ┆     │\n",
       "│     ┆     ┆     ┆ h   ┆     ┆     ┆     ┆     ┆     ┆     ┆     ┆     ┆     ┆ Cre ┆     ┆     ┆     ┆     ┆     ┆     ┆     ┆ 3   ┆     ┆     ┆ 648 ┆ diu ┆ 379 ┆     │\n",
       "│     ┆     ┆     ┆     ┆     ┆     ┆     ┆     ┆     ┆     ┆     ┆     ┆     ┆ dit ┆     ┆     ┆     ┆     ┆     ┆     ┆     ┆ Mon ┆     ┆     ┆     ┆ m_v ┆ 12  ┆     │\n",
       "│     ┆     ┆     ┆     ┆     ┆     ┆     ┆     ┆     ┆     ┆     ┆     ┆     ┆ -Bu ┆     ┆     ┆     ┆     ┆     ┆     ┆     ┆ ths ┆     ┆     ┆     ┆ alu ┆     ┆     │\n",
       "│     ┆     ┆     ┆     ┆     ┆     ┆     ┆     ┆     ┆     ┆     ┆     ┆     ┆ ild ┆     ┆     ┆     ┆     ┆     ┆     ┆     ┆     ┆     ┆     ┆     ┆ e_p ┆     ┆     │\n",
       "│     ┆     ┆     ┆     ┆     ┆     ┆     ┆     ┆     ┆     ┆     ┆     ┆     ┆ er  ┆     ┆     ┆     ┆     ┆     ┆     ┆     ┆     ┆     ┆     ┆     ┆ aym ┆     ┆     │\n",
       "│     ┆     ┆     ┆     ┆     ┆     ┆     ┆     ┆     ┆     ┆     ┆     ┆     ┆ Loa ┆     ┆     ┆     ┆     ┆     ┆     ┆     ┆     ┆     ┆     ┆     ┆ ent ┆     ┆     │\n",
       "│     ┆     ┆     ┆     ┆     ┆     ┆     ┆     ┆     ┆     ┆     ┆     ┆     ┆ n…  ┆     ┆     ┆     ┆     ┆     ┆     ┆     ┆     ┆     ┆     ┆     ┆ …   ┆     ┆     │\n",
       "│ 0x1 ┆ CUS ┆ Apr ┆ Aar ┆ 23  ┆ 821 ┆ Sci ┆ 191 ┆ nul ┆ 3   ┆ 4   ┆ 3   ┆ 4   ┆ Aut ┆ 5   ┆ 4   ┆ 6.2 ┆ 4.0 ┆ Goo ┆ 809 ┆ 31. ┆ 22  ┆ No  ┆ 49. ┆ 199 ┆ Low ┆ 223 ┆ Goo │\n",
       "│ 605 ┆ _0x ┆ il  ┆ on  ┆     ┆ -00 ┆ ent ┆ 14. ┆ l   ┆     ┆     ┆     ┆     ┆ o   ┆     ┆     ┆ 7   ┆     ┆ d   ┆ .98 ┆ 377 ┆ Yea ┆     ┆ 574 ┆ .45 ┆ _sp ┆ .45 ┆ d   │\n",
       "│     ┆ d40 ┆     ┆ Maa ┆     ┆ -02 ┆ ist ┆ 12  ┆     ┆     ┆     ┆     ┆     ┆ Loa ┆     ┆     ┆     ┆     ┆     ┆     ┆ 862 ┆ rs  ┆     ┆ 949 ┆ 807 ┆ ent ┆ 130 ┆     │\n",
       "│     ┆     ┆     ┆ sho ┆     ┆ 65  ┆     ┆     ┆     ┆     ┆     ┆     ┆     ┆ n,  ┆     ┆     ┆     ┆     ┆     ┆     ┆     ┆ and ┆     ┆     ┆ 439 ┆ _Sm ┆ 972 ┆     │\n",
       "│     ┆     ┆     ┆ h   ┆     ┆     ┆     ┆     ┆     ┆     ┆     ┆     ┆     ┆ Cre ┆     ┆     ┆     ┆     ┆     ┆     ┆     ┆ 4   ┆     ┆     ┆ 107 ┆ all ┆ 736 ┆     │\n",
       "│     ┆     ┆     ┆     ┆     ┆     ┆     ┆     ┆     ┆     ┆     ┆     ┆     ┆ dit ┆     ┆     ┆     ┆     ┆     ┆     ┆     ┆ Mon ┆     ┆     ┆ 13  ┆ _va ┆ 786 ┆     │\n",
       "│     ┆     ┆     ┆     ┆     ┆     ┆     ┆     ┆     ┆     ┆     ┆     ┆     ┆ -Bu ┆     ┆     ┆     ┆     ┆     ┆     ┆     ┆ ths ┆     ┆     ┆     ┆ lue ┆     ┆     │\n",
       "│     ┆     ┆     ┆     ┆     ┆     ┆     ┆     ┆     ┆     ┆     ┆     ┆     ┆ ild ┆     ┆     ┆     ┆     ┆     ┆     ┆     ┆     ┆     ┆     ┆     ┆ _pa ┆     ┆     │\n",
       "│     ┆     ┆     ┆     ┆     ┆     ┆     ┆     ┆     ┆     ┆     ┆     ┆     ┆ er  ┆     ┆     ┆     ┆     ┆     ┆     ┆     ┆     ┆     ┆     ┆     ┆ yme ┆     ┆     │\n",
       "│     ┆     ┆     ┆     ┆     ┆     ┆     ┆     ┆     ┆     ┆     ┆     ┆     ┆ Loa ┆     ┆     ┆     ┆     ┆     ┆     ┆     ┆     ┆     ┆     ┆     ┆ nts ┆     ┆     │\n",
       "│     ┆     ┆     ┆     ┆     ┆     ┆     ┆     ┆     ┆     ┆     ┆     ┆     ┆ n…  ┆     ┆     ┆     ┆     ┆     ┆     ┆     ┆     ┆     ┆     ┆     ┆     ┆     ┆     │\n",
       "│ 0x1 ┆ CUS ┆ May ┆ Aar ┆ 23  ┆ 821 ┆ Sci ┆ 191 ┆ 182 ┆ 3   ┆ 4   ┆ 3   ┆ 4   ┆ Aut ┆ 6   ┆ nul ┆ 11. ┆ 4.0 ┆ Goo ┆ 809 ┆ 24. ┆ 22  ┆ No  ┆ 49. ┆ 41. ┆ Hig ┆ 341 ┆ Goo │\n",
       "│ 606 ┆ _0x ┆     ┆ on  ┆     ┆ -00 ┆ ent ┆ 14. ┆ 4.8 ┆     ┆     ┆     ┆     ┆ o   ┆     ┆ l   ┆ 27  ┆     ┆ d   ┆ .98 ┆ 797 ┆ Yea ┆     ┆ 574 ┆ 420 ┆ h_s ┆ .48 ┆ d   │\n",
       "│     ┆ d40 ┆     ┆ Maa ┆     ┆ -02 ┆ ist ┆ 12  ┆ 433 ┆     ┆     ┆     ┆     ┆ Loa ┆     ┆     ┆     ┆     ┆     ┆     ┆ 347 ┆ rs  ┆     ┆ 949 ┆ 153 ┆ pen ┆ 923 ┆     │\n",
       "│     ┆     ┆     ┆ sho ┆     ┆ 65  ┆     ┆     ┆ 33  ┆     ┆     ┆     ┆     ┆ n,  ┆     ┆     ┆     ┆     ┆     ┆     ┆     ┆ and ┆     ┆     ┆ 086 ┆ t_M ┆ 103 ┆     │\n",
       "│     ┆     ┆     ┆ h   ┆     ┆     ┆     ┆     ┆     ┆     ┆     ┆     ┆     ┆ Cre ┆     ┆     ┆     ┆     ┆     ┆     ┆     ┆ 5   ┆     ┆     ┆ 217 ┆ edi ┆ 222 ┆     │\n",
       "│     ┆     ┆     ┆     ┆     ┆     ┆     ┆     ┆     ┆     ┆     ┆     ┆     ┆ dit ┆     ┆     ┆     ┆     ┆     ┆     ┆     ┆ Mon ┆     ┆     ┆ 326 ┆ um_ ┆ 177 ┆     │\n",
       "│     ┆     ┆     ┆     ┆     ┆     ┆     ┆     ┆     ┆     ┆     ┆     ┆     ┆ -Bu ┆     ┆     ┆     ┆     ┆     ┆     ┆     ┆ ths ┆     ┆     ┆     ┆ val ┆     ┆     │\n",
       "│     ┆     ┆     ┆     ┆     ┆     ┆     ┆     ┆     ┆     ┆     ┆     ┆     ┆ ild ┆     ┆     ┆     ┆     ┆     ┆     ┆     ┆     ┆     ┆     ┆     ┆ ue_ ┆     ┆     │\n",
       "│     ┆     ┆     ┆     ┆     ┆     ┆     ┆     ┆     ┆     ┆     ┆     ┆     ┆ er  ┆     ┆     ┆     ┆     ┆     ┆     ┆     ┆     ┆     ┆     ┆     ┆ pay ┆     ┆     │\n",
       "│     ┆     ┆     ┆     ┆     ┆     ┆     ┆     ┆     ┆     ┆     ┆     ┆     ┆ Loa ┆     ┆     ┆     ┆     ┆     ┆     ┆     ┆     ┆     ┆     ┆     ┆ men ┆     ┆     │\n",
       "│     ┆     ┆     ┆     ┆     ┆     ┆     ┆     ┆     ┆     ┆     ┆     ┆     ┆ n…  ┆     ┆     ┆     ┆     ┆     ┆     ┆     ┆     ┆     ┆     ┆     ┆ …   ┆     ┆     │\n",
       "└─────┴─────┴─────┴─────┴─────┴─────┴─────┴─────┴─────┴─────┴─────┴─────┴─────┴─────┴─────┴─────┴─────┴─────┴─────┴─────┴─────┴─────┴─────┴─────┴─────┴─────┴─────┴─────┘"
      ]
     },
     "execution_count": 6,
     "metadata": {},
     "output_type": "execute_result"
    }
   ],
   "source": [
    "df.head()"
   ]
  },
  {
   "cell_type": "code",
   "execution_count": 19,
   "id": "2094cd2f",
   "metadata": {},
   "outputs": [
    {
     "data": {
      "text/html": [
       "<div><style>\n",
       ".dataframe > thead > tr,\n",
       ".dataframe > tbody > tr {\n",
       "  text-align: right;\n",
       "  white-space: pre-wrap;\n",
       "}\n",
       "</style>\n",
       "<small>shape: (9, 49)</small><table border=\"1\" class=\"dataframe\"><thead><tr><th>statistic</th><th>ID</th><th>Customer_ID</th><th>Month</th><th>Name</th><th>Age</th><th>SSN</th><th>Occupation</th><th>Annual_Income</th><th>Monthly_Inhand_Salary</th><th>Num_Bank_Accounts</th><th>Num_Credit_Card</th><th>Interest_Rate</th><th>Num_of_Loan</th><th>Type_of_Loan</th><th>Delay_from_due_date</th><th>Num_of_Delayed_Payment</th><th>Changed_Credit_Limit</th><th>Num_Credit_Inquiries</th><th>Credit_Mix</th><th>Outstanding_Debt</th><th>Credit_Utilization_Ratio</th><th>Credit_History_Age</th><th>Payment_of_Min_Amount</th><th>Total_EMI_per_month</th><th>Amount_invested_monthly</th><th>Payment_Behaviour</th><th>Monthly_Balance</th><th>Credit_Score</th><th>Num_of_Delayed_Payment_median</th><th>Changed_Credit_Limit_median</th><th>Num_Credit_Inquiries_median</th><th>Credit_History_Age_median</th><th>Amount_invested_monthly_median</th><th>Monthly_Balance_median</th><th>Occupation_mode</th><th>Type_of_Loan_mode</th><th>Credit_Mix_mode</th><th>Payment_Behaviour_mode</th><th>median_age_per_occ</th><th>Loan_Home_Equity_Loan</th><th>Loan_Debt_Consolidation_Loan</th><th>Loan_CreditBuilder_Loan</th><th>Loan_Personal_Loan</th><th>Loan_Auto_Loan</th><th>Loan_Student_Loan</th><th>Loan_Mortgage_Loan</th><th>Loan_Not_Specified</th><th>Loan_Payday_Loan</th></tr><tr><td>str</td><td>str</td><td>str</td><td>str</td><td>str</td><td>f64</td><td>str</td><td>str</td><td>f64</td><td>f64</td><td>f64</td><td>f64</td><td>f64</td><td>f64</td><td>str</td><td>f64</td><td>f64</td><td>f64</td><td>f64</td><td>str</td><td>f64</td><td>f64</td><td>f64</td><td>str</td><td>f64</td><td>f64</td><td>str</td><td>f64</td><td>str</td><td>f64</td><td>f64</td><td>f64</td><td>f64</td><td>f64</td><td>f64</td><td>str</td><td>str</td><td>str</td><td>str</td><td>f64</td><td>f64</td><td>f64</td><td>f64</td><td>f64</td><td>f64</td><td>f64</td><td>f64</td><td>f64</td><td>f64</td></tr></thead><tbody><tr><td>&quot;count&quot;</td><td>&quot;100000&quot;</td><td>&quot;100000&quot;</td><td>&quot;100000&quot;</td><td>&quot;90015&quot;</td><td>100000.0</td><td>&quot;100000&quot;</td><td>&quot;100000&quot;</td><td>100000.0</td><td>100000.0</td><td>100000.0</td><td>100000.0</td><td>100000.0</td><td>100000.0</td><td>&quot;100000&quot;</td><td>100000.0</td><td>100000.0</td><td>100000.0</td><td>100000.0</td><td>&quot;100000&quot;</td><td>100000.0</td><td>100000.0</td><td>100000.0</td><td>&quot;100000&quot;</td><td>100000.0</td><td>100000.0</td><td>&quot;100000&quot;</td><td>100000.0</td><td>&quot;100000&quot;</td><td>100000.0</td><td>100000.0</td><td>100000.0</td><td>100000.0</td><td>100000.0</td><td>100000.0</td><td>&quot;100000&quot;</td><td>&quot;88592&quot;</td><td>&quot;100000&quot;</td><td>&quot;100000&quot;</td><td>100000.0</td><td>100000.0</td><td>100000.0</td><td>100000.0</td><td>100000.0</td><td>100000.0</td><td>100000.0</td><td>100000.0</td><td>100000.0</td><td>100000.0</td></tr><tr><td>&quot;null_count&quot;</td><td>&quot;0&quot;</td><td>&quot;0&quot;</td><td>&quot;0&quot;</td><td>&quot;9985&quot;</td><td>0.0</td><td>&quot;0&quot;</td><td>&quot;0&quot;</td><td>0.0</td><td>0.0</td><td>0.0</td><td>0.0</td><td>0.0</td><td>0.0</td><td>&quot;0&quot;</td><td>0.0</td><td>0.0</td><td>0.0</td><td>0.0</td><td>&quot;0&quot;</td><td>0.0</td><td>0.0</td><td>0.0</td><td>&quot;0&quot;</td><td>0.0</td><td>0.0</td><td>&quot;0&quot;</td><td>0.0</td><td>&quot;0&quot;</td><td>0.0</td><td>0.0</td><td>0.0</td><td>0.0</td><td>0.0</td><td>0.0</td><td>&quot;0&quot;</td><td>&quot;11408&quot;</td><td>&quot;0&quot;</td><td>&quot;0&quot;</td><td>0.0</td><td>0.0</td><td>0.0</td><td>0.0</td><td>0.0</td><td>0.0</td><td>0.0</td><td>0.0</td><td>0.0</td><td>0.0</td></tr><tr><td>&quot;mean&quot;</td><td>null</td><td>null</td><td>null</td><td>null</td><td>34.38197</td><td>null</td><td>null</td><td>176415.701298</td><td>5743.258611</td><td>17.09128</td><td>22.47443</td><td>72.46604</td><td>3.00996</td><td>null</td><td>21.06878</td><td>29.6938</td><td>10.389113</td><td>27.32185</td><td>null</td><td>1426.220376</td><td>32.285173</td><td>221.20593</td><td>null</td><td>1403.118217</td><td>617.25761</td><td>null</td><td>-3.0000e22</td><td>null</td><td>13.3176</td><td>10.396023</td><td>5.7946</td><td>221.20648</td><td>182.30088</td><td>424.691712</td><td>null</td><td>null</td><td>null</td><td>null</td><td>33.86704</td><td>0.314</td><td>0.3104</td><td>0.31728</td><td>0.31104</td><td>0.3056</td><td>0.3104</td><td>0.3136</td><td>0.3168</td><td>0.31944</td></tr><tr><td>&quot;std&quot;</td><td>null</td><td>null</td><td>null</td><td>null</td><td>9.686743</td><td>null</td><td>null</td><td>1.4296e6</td><td>45814.694657</td><td>117.404834</td><td>129.05741</td><td>466.422621</td><td>62.647879</td><td>null</td><td>14.860104</td><td>218.027042</td><td>6.783421</td><td>191.295092</td><td>null</td><td>1155.129026</td><td>5.116875</td><td>99.678342</td><td>null</td><td>8306.04127</td><td>1999.677146</td><td>null</td><td>3.1622e24</td><td>null</td><td>6.188967</td><td>6.509921</td><td>3.831618</td><td>99.655997</td><td>168.255408</td><td>195.642343</td><td>null</td><td>null</td><td>null</td><td>null</td><td>0.339533</td><td>0.464119</td><td>0.46266</td><td>0.46542</td><td>0.462921</td><td>0.460663</td><td>0.46266</td><td>0.463958</td><td>0.465231</td><td>0.466262</td></tr><tr><td>&quot;min&quot;</td><td>&quot;0x10002&quot;</td><td>&quot;CUS_0x1000&quot;</td><td>&quot;April&quot;</td><td>&quot; Mattr&quot;</td><td>18.0</td><td>&quot;#F%$D@*&amp;8&quot;</td><td>&quot;Accountant&quot;</td><td>7005.93</td><td>303.645417</td><td>-1.0</td><td>0.0</td><td>1.0</td><td>-100.0</td><td>&quot;&quot;</td><td>-5.0</td><td>-3.0</td><td>-6.49</td><td>0.0</td><td>&quot;Bad&quot;</td><td>0.23</td><td>20.0</td><td>1.0</td><td>&quot;NM&quot;</td><td>0.0</td><td>0.0</td><td>&quot;High_spent_Large_value_payment…</td><td>-3.3333e26</td><td>&quot;Good&quot;</td><td>-1.5</td><td>-0.16</td><td>0.0</td><td>4.5</td><td>10.659493</td><td>81.381619</td><td>&quot;Accountant&quot;</td><td>&quot;Auto Loan&quot;</td><td>&quot;Bad&quot;</td><td>&quot;High_spent_Large_value_payment…</td><td>33.0</td><td>0.0</td><td>0.0</td><td>0.0</td><td>0.0</td><td>0.0</td><td>0.0</td><td>0.0</td><td>0.0</td><td>0.0</td></tr><tr><td>&quot;25%&quot;</td><td>null</td><td>null</td><td>null</td><td>null</td><td>27.0</td><td>null</td><td>null</td><td>19457.5</td><td>1625.793333</td><td>3.0</td><td>4.0</td><td>8.0</td><td>1.0</td><td>null</td><td>10.0</td><td>9.0</td><td>5.34</td><td>3.0</td><td>null</td><td>566.08</td><td>28.052568</td><td>144.5</td><td>null</td><td>30.30666</td><td>75.356436</td><td>null</td><td>270.308307</td><td>null</td><td>9.0</td><td>5.5</td><td>3.0</td><td>144.5</td><td>91.362276</td><td>290.387556</td><td>null</td><td>null</td><td>null</td><td>null</td><td>34.0</td><td>0.0</td><td>0.0</td><td>0.0</td><td>0.0</td><td>0.0</td><td>0.0</td><td>0.0</td><td>0.0</td><td>0.0</td></tr><tr><td>&quot;50%&quot;</td><td>null</td><td>null</td><td>null</td><td>null</td><td>34.0</td><td>null</td><td>null</td><td>37578.61</td><td>3101.658457</td><td>6.0</td><td>5.0</td><td>13.0</td><td>3.0</td><td>null</td><td>18.0</td><td>14.0</td><td>9.4</td><td>6.0</td><td>null</td><td>1166.23</td><td>32.305891</td><td>219.0</td><td>null</td><td>69.252263</td><td>136.174921</td><td>null</td><td>337.255526</td><td>null</td><td>14.0</td><td>9.35</td><td>5.0</td><td>219.0</td><td>139.058803</td><td>353.772696</td><td>null</td><td>null</td><td>null</td><td>null</td><td>34.0</td><td>0.0</td><td>0.0</td><td>0.0</td><td>0.0</td><td>0.0</td><td>0.0</td><td>0.0</td><td>0.0</td><td>0.0</td></tr><tr><td>&quot;75%&quot;</td><td>null</td><td>null</td><td>null</td><td>null</td><td>41.0</td><td>null</td><td>null</td><td>72790.92</td><td>5971.776667</td><td>7.0</td><td>7.0</td><td>20.0</td><td>5.0</td><td>null</td><td>28.0</td><td>18.0</td><td>14.85</td><td>9.0</td><td>null</td><td>1945.68</td><td>36.496612</td><td>302.0</td><td>null</td><td>161.224249</td><td>263.227684</td><td>null</td><td>471.916569</td><td>null</td><td>18.0</td><td>14.66</td><td>8.5</td><td>301.5</td><td>227.224304</td><td>495.631555</td><td>null</td><td>null</td><td>null</td><td>null</td><td>34.0</td><td>1.0</td><td>1.0</td><td>1.0</td><td>1.0</td><td>1.0</td><td>1.0</td><td>1.0</td><td>1.0</td><td>1.0</td></tr><tr><td>&quot;max&quot;</td><td>&quot;0xfffd&quot;</td><td>&quot;CUS_0xffd&quot;</td><td>&quot;May&quot;</td><td>&quot;yv&quot;</td><td>100.0</td><td>&quot;999-99-3421&quot;</td><td>&quot;Writer&quot;</td><td>2.4198062e7</td><td>1.9904e6</td><td>1798.0</td><td>1499.0</td><td>5797.0</td><td>1496.0</td><td>&quot;Student Loan, and Student Loan&quot;</td><td>67.0</td><td>4397.0</td><td>36.97</td><td>2597.0</td><td>&quot;Standard&quot;</td><td>4998.07</td><td>50.0</td><td>404.0</td><td>&quot;Yes&quot;</td><td>82331.0</td><td>10000.0</td><td>&quot;Low_spent_Small_value_payments&quot;</td><td>1602.040519</td><td>&quot;Standard&quot;</td><td>26.5</td><td>29.98</td><td>17.0</td><td>401.0</td><td>10000.0</td><td>1427.797464</td><td>&quot;Writer&quot;</td><td>&quot;Student Loan, and Student Loan&quot;</td><td>&quot;Standard&quot;</td><td>&quot;Low_spent_Small_value_payments&quot;</td><td>34.0</td><td>1.0</td><td>1.0</td><td>1.0</td><td>1.0</td><td>1.0</td><td>1.0</td><td>1.0</td><td>1.0</td><td>1.0</td></tr></tbody></table></div>"
      ],
      "text/plain": [
       "shape: (9, 49)\n",
       "┌─────┬─────┬─────┬─────┬─────┬─────┬─────┬─────┬─────┬─────┬─────┬─────┬─────┬─────┬─────┬─────┬─────┬─────┬─────┬─────┬─────┬─────┬─────┬─────┬─────┬─────┬─────┬─────┬─────┬─────┬─────┬─────┬─────┬─────┬─────┬─────┬─────┬─────┬─────┬─────┬─────┬─────┬─────┬─────┬─────┬─────┬─────┬─────┬─────┐\n",
       "│ sta ┆ ID  ┆ Cus ┆ Mon ┆ Nam ┆ Age ┆ SSN ┆ Occ ┆ Ann ┆ Mon ┆ Num ┆ Num ┆ Int ┆ Num ┆ Typ ┆ Del ┆ Num ┆ Cha ┆ Num ┆ Cre ┆ Out ┆ Cre ┆ Cre ┆ Pay ┆ Tot ┆ Amo ┆ Pay ┆ Mon ┆ Cre ┆ Num ┆ Cha ┆ Num ┆ Cre ┆ Amo ┆ Mon ┆ Occ ┆ Typ ┆ Cre ┆ Pay ┆ med ┆ Loa ┆ Loa ┆ Loa ┆ Loa ┆ Loa ┆ Loa ┆ Loa ┆ Loa ┆ Loa │\n",
       "│ tis ┆ --- ┆ tom ┆ th  ┆ e   ┆ --- ┆ --- ┆ upa ┆ ual ┆ thl ┆ _Ba ┆ _Cr ┆ ere ┆ _of ┆ e_o ┆ ay_ ┆ _of ┆ nge ┆ _Cr ┆ dit ┆ sta ┆ dit ┆ dit ┆ men ┆ al_ ┆ unt ┆ men ┆ thl ┆ dit ┆ _of ┆ nge ┆ _Cr ┆ dit ┆ unt ┆ thl ┆ upa ┆ e_o ┆ dit ┆ men ┆ ian ┆ n_H ┆ n_D ┆ n_C ┆ n_P ┆ n_A ┆ n_S ┆ n_M ┆ n_N ┆ n_P │\n",
       "│ tic ┆ str ┆ er_ ┆ --- ┆ --- ┆ f64 ┆ str ┆ tio ┆ _In ┆ y_I ┆ nk_ ┆ edi ┆ st_ ┆ _Lo ┆ f_L ┆ fro ┆ _De ┆ d_C ┆ edi ┆ _Mi ┆ ndi ┆ _Ut ┆ _Hi ┆ t_o ┆ EMI ┆ _in ┆ t_B ┆ y_B ┆ _Sc ┆ _De ┆ d_C ┆ edi ┆ _Hi ┆ _in ┆ y_B ┆ tio ┆ f_L ┆ _Mi ┆ t_B ┆ _ag ┆ ome ┆ ebt ┆ red ┆ ers ┆ uto ┆ tud ┆ ort ┆ ot_ ┆ ayd │\n",
       "│ --- ┆     ┆ ID  ┆ str ┆ str ┆     ┆     ┆ n   ┆ com ┆ nha ┆ Acc ┆ t_C ┆ Rat ┆ an  ┆ oan ┆ m_d ┆ lay ┆ red ┆ t_I ┆ x   ┆ ng_ ┆ ili ┆ sto ┆ f_M ┆ _pe ┆ ves ┆ eha ┆ ala ┆ ore ┆ lay ┆ red ┆ t_I ┆ sto ┆ ves ┆ ala ┆ n_m ┆ oan ┆ x_m ┆ eha ┆ e_p ┆ _Eq ┆ _Co ┆ itB ┆ ona ┆ _Lo ┆ ent ┆ gag ┆ Spe ┆ ay_ │\n",
       "│ str ┆     ┆ --- ┆     ┆     ┆     ┆     ┆ --- ┆ e   ┆ nd_ ┆ oun ┆ ard ┆ e   ┆ --- ┆ --- ┆ ue_ ┆ ed_ ┆ it_ ┆ nqu ┆ --- ┆ Deb ┆ zat ┆ ry_ ┆ in_ ┆ r_m ┆ ted ┆ vio ┆ nce ┆ --- ┆ ed_ ┆ it_ ┆ nqu ┆ ry_ ┆ ted ┆ nce ┆ ode ┆ _mo ┆ ode ┆ vio ┆ er_ ┆ uit ┆ nso ┆ uil ┆ l_L ┆ an  ┆ _Lo ┆ e_L ┆ cif ┆ Loa │\n",
       "│     ┆     ┆ str ┆     ┆     ┆     ┆     ┆ str ┆ --- ┆ Sal ┆ ts  ┆ --- ┆ --- ┆ f64 ┆ str ┆ dat ┆ Pay ┆ Lim ┆ iri ┆ str ┆ t   ┆ ion ┆ Age ┆ Amo ┆ ont ┆ _mo ┆ ur  ┆ --- ┆ str ┆ Pay ┆ Lim ┆ iri ┆ Age ┆ _mo ┆ _me ┆ --- ┆ de  ┆ --- ┆ ur_ ┆ occ ┆ y_L ┆ lid ┆ der ┆ oan ┆ --- ┆ an  ┆ oan ┆ ied ┆ n   │\n",
       "│     ┆     ┆     ┆     ┆     ┆     ┆     ┆     ┆ f64 ┆ ary ┆ --- ┆ f64 ┆ f64 ┆     ┆     ┆ e   ┆ men ┆ it  ┆ es  ┆     ┆ --- ┆ _Ra ┆ --- ┆ unt ┆ h   ┆ nth ┆ --- ┆ f64 ┆     ┆ men ┆ it_ ┆ es_ ┆ _me ┆ nth ┆ dia ┆ str ┆ --- ┆ str ┆ mod ┆ --- ┆ oan ┆ ati ┆ _Lo ┆ --- ┆ f64 ┆ --- ┆ --- ┆ --- ┆ --- │\n",
       "│     ┆     ┆     ┆     ┆     ┆     ┆     ┆     ┆     ┆ --- ┆ f64 ┆     ┆     ┆     ┆     ┆ --- ┆ t   ┆ --- ┆ --- ┆     ┆ f64 ┆ tio ┆ f64 ┆ --- ┆ --- ┆ ly  ┆ str ┆     ┆     ┆ t_m ┆ med ┆ med ┆ dia ┆ ly_ ┆ n   ┆     ┆ str ┆     ┆ e   ┆ f64 ┆ --- ┆ on_ ┆ an  ┆ f64 ┆     ┆ f64 ┆ f64 ┆ f64 ┆ f64 │\n",
       "│     ┆     ┆     ┆     ┆     ┆     ┆     ┆     ┆     ┆ f64 ┆     ┆     ┆     ┆     ┆     ┆ f64 ┆ --- ┆ f64 ┆ f64 ┆     ┆     ┆ --- ┆     ┆ str ┆ f64 ┆ --- ┆     ┆     ┆     ┆ edi ┆ ian ┆ ian ┆ n   ┆ med ┆ --- ┆     ┆     ┆     ┆ --- ┆     ┆ f64 ┆ Loa ┆ --- ┆     ┆     ┆     ┆     ┆     ┆     │\n",
       "│     ┆     ┆     ┆     ┆     ┆     ┆     ┆     ┆     ┆     ┆     ┆     ┆     ┆     ┆     ┆     ┆ f64 ┆     ┆     ┆     ┆     ┆ f64 ┆     ┆     ┆     ┆ f64 ┆     ┆     ┆     ┆ an  ┆ --- ┆ --- ┆ --- ┆ ian ┆ f64 ┆     ┆     ┆     ┆ str ┆     ┆     ┆ n   ┆ f64 ┆     ┆     ┆     ┆     ┆     ┆     │\n",
       "│     ┆     ┆     ┆     ┆     ┆     ┆     ┆     ┆     ┆     ┆     ┆     ┆     ┆     ┆     ┆     ┆     ┆     ┆     ┆     ┆     ┆     ┆     ┆     ┆     ┆     ┆     ┆     ┆     ┆ --- ┆ f64 ┆ f64 ┆ f64 ┆ --- ┆     ┆     ┆     ┆     ┆     ┆     ┆     ┆ --- ┆     ┆     ┆     ┆     ┆     ┆     ┆     │\n",
       "│     ┆     ┆     ┆     ┆     ┆     ┆     ┆     ┆     ┆     ┆     ┆     ┆     ┆     ┆     ┆     ┆     ┆     ┆     ┆     ┆     ┆     ┆     ┆     ┆     ┆     ┆     ┆     ┆     ┆ f64 ┆     ┆     ┆     ┆ f64 ┆     ┆     ┆     ┆     ┆     ┆     ┆     ┆ f64 ┆     ┆     ┆     ┆     ┆     ┆     ┆     │\n",
       "╞═════╪═════╪═════╪═════╪═════╪═════╪═════╪═════╪═════╪═════╪═════╪═════╪═════╪═════╪═════╪═════╪═════╪═════╪═════╪═════╪═════╪═════╪═════╪═════╪═════╪═════╪═════╪═════╪═════╪═════╪═════╪═════╪═════╪═════╪═════╪═════╪═════╪═════╪═════╪═════╪═════╪═════╪═════╪═════╪═════╪═════╪═════╪═════╪═════╡\n",
       "│ cou ┆ 100 ┆ 100 ┆ 100 ┆ 900 ┆ 100 ┆ 100 ┆ 100 ┆ 100 ┆ 100 ┆ 100 ┆ 100 ┆ 100 ┆ 100 ┆ 100 ┆ 100 ┆ 100 ┆ 100 ┆ 100 ┆ 100 ┆ 100 ┆ 100 ┆ 100 ┆ 100 ┆ 100 ┆ 100 ┆ 100 ┆ 100 ┆ 100 ┆ 100 ┆ 100 ┆ 100 ┆ 100 ┆ 100 ┆ 100 ┆ 100 ┆ 885 ┆ 100 ┆ 100 ┆ 100 ┆ 100 ┆ 100 ┆ 100 ┆ 100 ┆ 100 ┆ 100 ┆ 100 ┆ 100 ┆ 100 │\n",
       "│ nt  ┆ 000 ┆ 000 ┆ 000 ┆ 15  ┆ 000 ┆ 000 ┆ 000 ┆ 000 ┆ 000 ┆ 000 ┆ 000 ┆ 000 ┆ 000 ┆ 000 ┆ 000 ┆ 000 ┆ 000 ┆ 000 ┆ 000 ┆ 000 ┆ 000 ┆ 000 ┆ 000 ┆ 000 ┆ 000 ┆ 000 ┆ 000 ┆ 000 ┆ 000 ┆ 000 ┆ 000 ┆ 000 ┆ 000 ┆ 000 ┆ 000 ┆ 92  ┆ 000 ┆ 000 ┆ 000 ┆ 000 ┆ 000 ┆ 000 ┆ 000 ┆ 000 ┆ 000 ┆ 000 ┆ 000 ┆ 000 │\n",
       "│     ┆     ┆     ┆     ┆     ┆ .0  ┆     ┆     ┆ .0  ┆ .0  ┆ .0  ┆ .0  ┆ .0  ┆ .0  ┆     ┆ .0  ┆ .0  ┆ .0  ┆ .0  ┆     ┆ .0  ┆ .0  ┆ .0  ┆     ┆ .0  ┆ .0  ┆     ┆ .0  ┆     ┆ .0  ┆ .0  ┆ .0  ┆ .0  ┆ .0  ┆ .0  ┆     ┆     ┆     ┆     ┆ .0  ┆ .0  ┆ .0  ┆ .0  ┆ .0  ┆ .0  ┆ .0  ┆ .0  ┆ .0  ┆ .0  │\n",
       "│ nul ┆ 0   ┆ 0   ┆ 0   ┆ 998 ┆ 0.0 ┆ 0   ┆ 0   ┆ 0.0 ┆ 0.0 ┆ 0.0 ┆ 0.0 ┆ 0.0 ┆ 0.0 ┆ 0   ┆ 0.0 ┆ 0.0 ┆ 0.0 ┆ 0.0 ┆ 0   ┆ 0.0 ┆ 0.0 ┆ 0.0 ┆ 0   ┆ 0.0 ┆ 0.0 ┆ 0   ┆ 0.0 ┆ 0   ┆ 0.0 ┆ 0.0 ┆ 0.0 ┆ 0.0 ┆ 0.0 ┆ 0.0 ┆ 0   ┆ 114 ┆ 0   ┆ 0   ┆ 0.0 ┆ 0.0 ┆ 0.0 ┆ 0.0 ┆ 0.0 ┆ 0.0 ┆ 0.0 ┆ 0.0 ┆ 0.0 ┆ 0.0 │\n",
       "│ l_c ┆     ┆     ┆     ┆ 5   ┆     ┆     ┆     ┆     ┆     ┆     ┆     ┆     ┆     ┆     ┆     ┆     ┆     ┆     ┆     ┆     ┆     ┆     ┆     ┆     ┆     ┆     ┆     ┆     ┆     ┆     ┆     ┆     ┆     ┆     ┆     ┆ 08  ┆     ┆     ┆     ┆     ┆     ┆     ┆     ┆     ┆     ┆     ┆     ┆     │\n",
       "│ oun ┆     ┆     ┆     ┆     ┆     ┆     ┆     ┆     ┆     ┆     ┆     ┆     ┆     ┆     ┆     ┆     ┆     ┆     ┆     ┆     ┆     ┆     ┆     ┆     ┆     ┆     ┆     ┆     ┆     ┆     ┆     ┆     ┆     ┆     ┆     ┆     ┆     ┆     ┆     ┆     ┆     ┆     ┆     ┆     ┆     ┆     ┆     ┆     │\n",
       "│ t   ┆     ┆     ┆     ┆     ┆     ┆     ┆     ┆     ┆     ┆     ┆     ┆     ┆     ┆     ┆     ┆     ┆     ┆     ┆     ┆     ┆     ┆     ┆     ┆     ┆     ┆     ┆     ┆     ┆     ┆     ┆     ┆     ┆     ┆     ┆     ┆     ┆     ┆     ┆     ┆     ┆     ┆     ┆     ┆     ┆     ┆     ┆     ┆     │\n",
       "│ mea ┆ nul ┆ nul ┆ nul ┆ nul ┆ 34. ┆ nul ┆ nul ┆ 176 ┆ 574 ┆ 17. ┆ 22. ┆ 72. ┆ 3.0 ┆ nul ┆ 21. ┆ 29. ┆ 10. ┆ 27. ┆ nul ┆ 142 ┆ 32. ┆ 221 ┆ nul ┆ 140 ┆ 617 ┆ nul ┆ -3. ┆ nul ┆ 13. ┆ 10. ┆ 5.7 ┆ 221 ┆ 182 ┆ 424 ┆ nul ┆ nul ┆ nul ┆ nul ┆ 33. ┆ 0.3 ┆ 0.3 ┆ 0.3 ┆ 0.3 ┆ 0.3 ┆ 0.3 ┆ 0.3 ┆ 0.3 ┆ 0.3 │\n",
       "│ n   ┆ l   ┆ l   ┆ l   ┆ l   ┆ 381 ┆ l   ┆ l   ┆ 415 ┆ 3.2 ┆ 091 ┆ 474 ┆ 466 ┆ 099 ┆ l   ┆ 068 ┆ 693 ┆ 389 ┆ 321 ┆ l   ┆ 6.2 ┆ 285 ┆ .20 ┆ l   ┆ 3.1 ┆ .25 ┆ l   ┆ 000 ┆ l   ┆ 317 ┆ 396 ┆ 946 ┆ .20 ┆ .30 ┆ .69 ┆ l   ┆ l   ┆ l   ┆ l   ┆ 867 ┆ 14  ┆ 104 ┆ 172 ┆ 110 ┆ 056 ┆ 104 ┆ 136 ┆ 168 ┆ 194 │\n",
       "│     ┆     ┆     ┆     ┆     ┆ 97  ┆     ┆     ┆ .70 ┆ 586 ┆ 28  ┆ 43  ┆ 04  ┆ 6   ┆     ┆ 78  ┆ 8   ┆ 113 ┆ 85  ┆     ┆ 203 ┆ 173 ┆ 593 ┆     ┆ 182 ┆ 761 ┆     ┆ 0e2 ┆     ┆ 6   ┆ 023 ┆     ┆ 648 ┆ 088 ┆ 171 ┆     ┆     ┆     ┆     ┆ 04  ┆     ┆     ┆ 8   ┆ 4   ┆     ┆     ┆     ┆     ┆ 4   │\n",
       "│     ┆     ┆     ┆     ┆     ┆     ┆     ┆     ┆ 129 ┆ 11  ┆     ┆     ┆     ┆     ┆     ┆     ┆     ┆     ┆     ┆     ┆ 76  ┆     ┆     ┆     ┆ 17  ┆     ┆     ┆ 2   ┆     ┆     ┆     ┆     ┆     ┆     ┆ 2   ┆     ┆     ┆     ┆     ┆     ┆     ┆     ┆     ┆     ┆     ┆     ┆     ┆     ┆     │\n",
       "│     ┆     ┆     ┆     ┆     ┆     ┆     ┆     ┆ 8   ┆     ┆     ┆     ┆     ┆     ┆     ┆     ┆     ┆     ┆     ┆     ┆     ┆     ┆     ┆     ┆     ┆     ┆     ┆     ┆     ┆     ┆     ┆     ┆     ┆     ┆     ┆     ┆     ┆     ┆     ┆     ┆     ┆     ┆     ┆     ┆     ┆     ┆     ┆     ┆     │\n",
       "│ std ┆ nul ┆ nul ┆ nul ┆ nul ┆ 9.6 ┆ nul ┆ nul ┆ 1.4 ┆ 458 ┆ 117 ┆ 129 ┆ 466 ┆ 62. ┆ nul ┆ 14. ┆ 218 ┆ 6.7 ┆ 191 ┆ nul ┆ 115 ┆ 5.1 ┆ 99. ┆ nul ┆ 830 ┆ 199 ┆ nul ┆ 3.1 ┆ nul ┆ 6.1 ┆ 6.5 ┆ 3.8 ┆ 99. ┆ 168 ┆ 195 ┆ nul ┆ nul ┆ nul ┆ nul ┆ 0.3 ┆ 0.4 ┆ 0.4 ┆ 0.4 ┆ 0.4 ┆ 0.4 ┆ 0.4 ┆ 0.4 ┆ 0.4 ┆ 0.4 │\n",
       "│     ┆ l   ┆ l   ┆ l   ┆ l   ┆ 867 ┆ l   ┆ l   ┆ 296 ┆ 14. ┆ .40 ┆ .05 ┆ .42 ┆ 647 ┆ l   ┆ 860 ┆ .02 ┆ 834 ┆ .29 ┆ l   ┆ 5.1 ┆ 168 ┆ 678 ┆ l   ┆ 6.0 ┆ 9.6 ┆ l   ┆ 622 ┆ l   ┆ 889 ┆ 099 ┆ 316 ┆ 655 ┆ .25 ┆ .64 ┆ l   ┆ l   ┆ l   ┆ l   ┆ 395 ┆ 641 ┆ 626 ┆ 654 ┆ 629 ┆ 606 ┆ 626 ┆ 639 ┆ 652 ┆ 662 │\n",
       "│     ┆     ┆     ┆     ┆     ┆ 43  ┆     ┆     ┆ e6  ┆ 694 ┆ 483 ┆ 741 ┆ 262 ┆ 879 ┆     ┆ 104 ┆ 704 ┆ 21  ┆ 509 ┆     ┆ 290 ┆ 75  ┆ 342 ┆     ┆ 412 ┆ 771 ┆     ┆ e24 ┆     ┆ 67  ┆ 21  ┆ 18  ┆ 997 ┆ 540 ┆ 234 ┆     ┆     ┆     ┆     ┆ 33  ┆ 19  ┆ 6   ┆ 2   ┆ 21  ┆ 63  ┆ 6   ┆ 58  ┆ 31  ┆ 62  │\n",
       "│     ┆     ┆     ┆     ┆     ┆     ┆     ┆     ┆     ┆ 657 ┆ 4   ┆     ┆ 1   ┆     ┆     ┆     ┆ 2   ┆     ┆ 2   ┆     ┆ 26  ┆     ┆     ┆     ┆ 7   ┆ 46  ┆     ┆     ┆     ┆     ┆     ┆     ┆     ┆ 8   ┆ 3   ┆     ┆     ┆     ┆     ┆     ┆     ┆     ┆     ┆     ┆     ┆     ┆     ┆     ┆     │\n",
       "│ min ┆ 0x1 ┆ CUS ┆ Apr ┆ Mat ┆ 18. ┆ #F% ┆ Acc ┆ 700 ┆ 303 ┆ -1. ┆ 0.0 ┆ 1.0 ┆ -10 ┆     ┆ -5. ┆ -3. ┆ -6. ┆ 0.0 ┆ Bad ┆ 0.2 ┆ 20. ┆ 1.0 ┆ NM  ┆ 0.0 ┆ 0.0 ┆ Hig ┆ -3. ┆ Goo ┆ -1. ┆ -0. ┆ 0.0 ┆ 4.5 ┆ 10. ┆ 81. ┆ Acc ┆ Aut ┆ Bad ┆ Hig ┆ 33. ┆ 0.0 ┆ 0.0 ┆ 0.0 ┆ 0.0 ┆ 0.0 ┆ 0.0 ┆ 0.0 ┆ 0.0 ┆ 0.0 │\n",
       "│     ┆ 000 ┆ _0x ┆ il  ┆ tr  ┆ 0   ┆ $D@ ┆ oun ┆ 5.9 ┆ .64 ┆ 0   ┆     ┆     ┆ 0.0 ┆     ┆ 0   ┆ 0   ┆ 49  ┆     ┆     ┆ 3   ┆ 0   ┆     ┆     ┆     ┆     ┆ h_s ┆ 333 ┆ d   ┆ 5   ┆ 16  ┆     ┆     ┆ 659 ┆ 381 ┆ oun ┆ o   ┆     ┆ h_s ┆ 0   ┆     ┆     ┆     ┆     ┆     ┆     ┆     ┆     ┆     │\n",
       "│     ┆ 2   ┆ 100 ┆     ┆     ┆     ┆ *&8 ┆ tan ┆ 3   ┆ 541 ┆     ┆     ┆     ┆     ┆     ┆     ┆     ┆     ┆     ┆     ┆     ┆     ┆     ┆     ┆     ┆     ┆ pen ┆ 3e2 ┆     ┆     ┆     ┆     ┆     ┆ 493 ┆ 619 ┆ tan ┆ Loa ┆     ┆ pen ┆     ┆     ┆     ┆     ┆     ┆     ┆     ┆     ┆     ┆     │\n",
       "│     ┆     ┆ 0   ┆     ┆     ┆     ┆     ┆ t   ┆     ┆ 7   ┆     ┆     ┆     ┆     ┆     ┆     ┆     ┆     ┆     ┆     ┆     ┆     ┆     ┆     ┆     ┆     ┆ t_L ┆ 6   ┆     ┆     ┆     ┆     ┆     ┆     ┆     ┆ t   ┆ n   ┆     ┆ t_L ┆     ┆     ┆     ┆     ┆     ┆     ┆     ┆     ┆     ┆     │\n",
       "│     ┆     ┆     ┆     ┆     ┆     ┆     ┆     ┆     ┆     ┆     ┆     ┆     ┆     ┆     ┆     ┆     ┆     ┆     ┆     ┆     ┆     ┆     ┆     ┆     ┆     ┆ arg ┆     ┆     ┆     ┆     ┆     ┆     ┆     ┆     ┆     ┆     ┆     ┆ arg ┆     ┆     ┆     ┆     ┆     ┆     ┆     ┆     ┆     ┆     │\n",
       "│     ┆     ┆     ┆     ┆     ┆     ┆     ┆     ┆     ┆     ┆     ┆     ┆     ┆     ┆     ┆     ┆     ┆     ┆     ┆     ┆     ┆     ┆     ┆     ┆     ┆     ┆ e_v ┆     ┆     ┆     ┆     ┆     ┆     ┆     ┆     ┆     ┆     ┆     ┆ e_v ┆     ┆     ┆     ┆     ┆     ┆     ┆     ┆     ┆     ┆     │\n",
       "│     ┆     ┆     ┆     ┆     ┆     ┆     ┆     ┆     ┆     ┆     ┆     ┆     ┆     ┆     ┆     ┆     ┆     ┆     ┆     ┆     ┆     ┆     ┆     ┆     ┆     ┆ alu ┆     ┆     ┆     ┆     ┆     ┆     ┆     ┆     ┆     ┆     ┆     ┆ alu ┆     ┆     ┆     ┆     ┆     ┆     ┆     ┆     ┆     ┆     │\n",
       "│     ┆     ┆     ┆     ┆     ┆     ┆     ┆     ┆     ┆     ┆     ┆     ┆     ┆     ┆     ┆     ┆     ┆     ┆     ┆     ┆     ┆     ┆     ┆     ┆     ┆     ┆ e_p ┆     ┆     ┆     ┆     ┆     ┆     ┆     ┆     ┆     ┆     ┆     ┆ e_p ┆     ┆     ┆     ┆     ┆     ┆     ┆     ┆     ┆     ┆     │\n",
       "│     ┆     ┆     ┆     ┆     ┆     ┆     ┆     ┆     ┆     ┆     ┆     ┆     ┆     ┆     ┆     ┆     ┆     ┆     ┆     ┆     ┆     ┆     ┆     ┆     ┆     ┆ aym ┆     ┆     ┆     ┆     ┆     ┆     ┆     ┆     ┆     ┆     ┆     ┆ aym ┆     ┆     ┆     ┆     ┆     ┆     ┆     ┆     ┆     ┆     │\n",
       "│     ┆     ┆     ┆     ┆     ┆     ┆     ┆     ┆     ┆     ┆     ┆     ┆     ┆     ┆     ┆     ┆     ┆     ┆     ┆     ┆     ┆     ┆     ┆     ┆     ┆     ┆ ent ┆     ┆     ┆     ┆     ┆     ┆     ┆     ┆     ┆     ┆     ┆     ┆ ent ┆     ┆     ┆     ┆     ┆     ┆     ┆     ┆     ┆     ┆     │\n",
       "│     ┆     ┆     ┆     ┆     ┆     ┆     ┆     ┆     ┆     ┆     ┆     ┆     ┆     ┆     ┆     ┆     ┆     ┆     ┆     ┆     ┆     ┆     ┆     ┆     ┆     ┆ …   ┆     ┆     ┆     ┆     ┆     ┆     ┆     ┆     ┆     ┆     ┆     ┆ …   ┆     ┆     ┆     ┆     ┆     ┆     ┆     ┆     ┆     ┆     │\n",
       "│ 25% ┆ nul ┆ nul ┆ nul ┆ nul ┆ 27. ┆ nul ┆ nul ┆ 194 ┆ 162 ┆ 3.0 ┆ 4.0 ┆ 8.0 ┆ 1.0 ┆ nul ┆ 10. ┆ 9.0 ┆ 5.3 ┆ 3.0 ┆ nul ┆ 566 ┆ 28. ┆ 144 ┆ nul ┆ 30. ┆ 75. ┆ nul ┆ 270 ┆ nul ┆ 9.0 ┆ 5.5 ┆ 3.0 ┆ 144 ┆ 91. ┆ 290 ┆ nul ┆ nul ┆ nul ┆ nul ┆ 34. ┆ 0.0 ┆ 0.0 ┆ 0.0 ┆ 0.0 ┆ 0.0 ┆ 0.0 ┆ 0.0 ┆ 0.0 ┆ 0.0 │\n",
       "│     ┆ l   ┆ l   ┆ l   ┆ l   ┆ 0   ┆ l   ┆ l   ┆ 57. ┆ 5.7 ┆     ┆     ┆     ┆     ┆ l   ┆ 0   ┆     ┆ 4   ┆     ┆ l   ┆ .08 ┆ 052 ┆ .5  ┆ l   ┆ 306 ┆ 356 ┆ l   ┆ .30 ┆ l   ┆     ┆     ┆     ┆ .5  ┆ 362 ┆ .38 ┆ l   ┆ l   ┆ l   ┆ l   ┆ 0   ┆     ┆     ┆     ┆     ┆     ┆     ┆     ┆     ┆     │\n",
       "│     ┆     ┆     ┆     ┆     ┆     ┆     ┆     ┆ 5   ┆ 933 ┆     ┆     ┆     ┆     ┆     ┆     ┆     ┆     ┆     ┆     ┆     ┆ 568 ┆     ┆     ┆ 66  ┆ 436 ┆     ┆ 830 ┆     ┆     ┆     ┆     ┆     ┆ 276 ┆ 755 ┆     ┆     ┆     ┆     ┆     ┆     ┆     ┆     ┆     ┆     ┆     ┆     ┆     ┆     │\n",
       "│     ┆     ┆     ┆     ┆     ┆     ┆     ┆     ┆     ┆ 33  ┆     ┆     ┆     ┆     ┆     ┆     ┆     ┆     ┆     ┆     ┆     ┆     ┆     ┆     ┆     ┆     ┆     ┆ 7   ┆     ┆     ┆     ┆     ┆     ┆     ┆ 6   ┆     ┆     ┆     ┆     ┆     ┆     ┆     ┆     ┆     ┆     ┆     ┆     ┆     ┆     │\n",
       "│ 50% ┆ nul ┆ nul ┆ nul ┆ nul ┆ 34. ┆ nul ┆ nul ┆ 375 ┆ 310 ┆ 6.0 ┆ 5.0 ┆ 13. ┆ 3.0 ┆ nul ┆ 18. ┆ 14. ┆ 9.4 ┆ 6.0 ┆ nul ┆ 116 ┆ 32. ┆ 219 ┆ nul ┆ 69. ┆ 136 ┆ nul ┆ 337 ┆ nul ┆ 14. ┆ 9.3 ┆ 5.0 ┆ 219 ┆ 139 ┆ 353 ┆ nul ┆ nul ┆ nul ┆ nul ┆ 34. ┆ 0.0 ┆ 0.0 ┆ 0.0 ┆ 0.0 ┆ 0.0 ┆ 0.0 ┆ 0.0 ┆ 0.0 ┆ 0.0 │\n",
       "│     ┆ l   ┆ l   ┆ l   ┆ l   ┆ 0   ┆ l   ┆ l   ┆ 78. ┆ 1.6 ┆     ┆     ┆ 0   ┆     ┆ l   ┆ 0   ┆ 0   ┆     ┆     ┆ l   ┆ 6.2 ┆ 305 ┆ .0  ┆ l   ┆ 252 ┆ .17 ┆ l   ┆ .25 ┆ l   ┆ 0   ┆ 5   ┆     ┆ .0  ┆ .05 ┆ .77 ┆ l   ┆ l   ┆ l   ┆ l   ┆ 0   ┆     ┆     ┆     ┆     ┆     ┆     ┆     ┆     ┆     │\n",
       "│     ┆     ┆     ┆     ┆     ┆     ┆     ┆     ┆ 61  ┆ 584 ┆     ┆     ┆     ┆     ┆     ┆     ┆     ┆     ┆     ┆     ┆ 3   ┆ 891 ┆     ┆     ┆ 263 ┆ 492 ┆     ┆ 552 ┆     ┆     ┆     ┆     ┆     ┆ 880 ┆ 269 ┆     ┆     ┆     ┆     ┆     ┆     ┆     ┆     ┆     ┆     ┆     ┆     ┆     ┆     │\n",
       "│     ┆     ┆     ┆     ┆     ┆     ┆     ┆     ┆     ┆ 57  ┆     ┆     ┆     ┆     ┆     ┆     ┆     ┆     ┆     ┆     ┆     ┆     ┆     ┆     ┆     ┆ 1   ┆     ┆ 6   ┆     ┆     ┆     ┆     ┆     ┆ 3   ┆ 6   ┆     ┆     ┆     ┆     ┆     ┆     ┆     ┆     ┆     ┆     ┆     ┆     ┆     ┆     │\n",
       "│ 75% ┆ nul ┆ nul ┆ nul ┆ nul ┆ 41. ┆ nul ┆ nul ┆ 727 ┆ 597 ┆ 7.0 ┆ 7.0 ┆ 20. ┆ 5.0 ┆ nul ┆ 28. ┆ 18. ┆ 14. ┆ 9.0 ┆ nul ┆ 194 ┆ 36. ┆ 302 ┆ nul ┆ 161 ┆ 263 ┆ nul ┆ 471 ┆ nul ┆ 18. ┆ 14. ┆ 8.5 ┆ 301 ┆ 227 ┆ 495 ┆ nul ┆ nul ┆ nul ┆ nul ┆ 34. ┆ 1.0 ┆ 1.0 ┆ 1.0 ┆ 1.0 ┆ 1.0 ┆ 1.0 ┆ 1.0 ┆ 1.0 ┆ 1.0 │\n",
       "│     ┆ l   ┆ l   ┆ l   ┆ l   ┆ 0   ┆ l   ┆ l   ┆ 90. ┆ 1.7 ┆     ┆     ┆ 0   ┆     ┆ l   ┆ 0   ┆ 0   ┆ 85  ┆     ┆ l   ┆ 5.6 ┆ 496 ┆ .0  ┆ l   ┆ .22 ┆ .22 ┆ l   ┆ .91 ┆ l   ┆ 0   ┆ 66  ┆     ┆ .5  ┆ .22 ┆ .63 ┆ l   ┆ l   ┆ l   ┆ l   ┆ 0   ┆     ┆     ┆     ┆     ┆     ┆     ┆     ┆     ┆     │\n",
       "│     ┆     ┆     ┆     ┆     ┆     ┆     ┆     ┆ 92  ┆ 766 ┆     ┆     ┆     ┆     ┆     ┆     ┆     ┆     ┆     ┆     ┆ 8   ┆ 612 ┆     ┆     ┆ 424 ┆ 768 ┆     ┆ 656 ┆     ┆     ┆     ┆     ┆     ┆ 430 ┆ 155 ┆     ┆     ┆     ┆     ┆     ┆     ┆     ┆     ┆     ┆     ┆     ┆     ┆     ┆     │\n",
       "│     ┆     ┆     ┆     ┆     ┆     ┆     ┆     ┆     ┆ 67  ┆     ┆     ┆     ┆     ┆     ┆     ┆     ┆     ┆     ┆     ┆     ┆     ┆     ┆     ┆ 9   ┆ 4   ┆     ┆ 9   ┆     ┆     ┆     ┆     ┆     ┆ 4   ┆ 5   ┆     ┆     ┆     ┆     ┆     ┆     ┆     ┆     ┆     ┆     ┆     ┆     ┆     ┆     │\n",
       "│ max ┆ 0xf ┆ CUS ┆ May ┆ yv  ┆ 100 ┆ 999 ┆ Wri ┆ 2.4 ┆ 1.9 ┆ 179 ┆ 149 ┆ 579 ┆ 149 ┆ Stu ┆ 67. ┆ 439 ┆ 36. ┆ 259 ┆ Sta ┆ 499 ┆ 50. ┆ 404 ┆ Yes ┆ 823 ┆ 100 ┆ Low ┆ 160 ┆ Sta ┆ 26. ┆ 29. ┆ 17. ┆ 401 ┆ 100 ┆ 142 ┆ Wri ┆ Stu ┆ Sta ┆ Low ┆ 34. ┆ 1.0 ┆ 1.0 ┆ 1.0 ┆ 1.0 ┆ 1.0 ┆ 1.0 ┆ 1.0 ┆ 1.0 ┆ 1.0 │\n",
       "│     ┆ ffd ┆ _0x ┆     ┆     ┆ .0  ┆ -99 ┆ ter ┆ 198 ┆ 904 ┆ 8.0 ┆ 9.0 ┆ 7.0 ┆ 6.0 ┆ den ┆ 0   ┆ 7.0 ┆ 97  ┆ 7.0 ┆ nda ┆ 8.0 ┆ 0   ┆ .0  ┆     ┆ 31. ┆ 00. ┆ _sp ┆ 2.0 ┆ nda ┆ 5   ┆ 98  ┆ 0   ┆ .0  ┆ 00. ┆ 7.7 ┆ ter ┆ den ┆ nda ┆ _sp ┆ 0   ┆     ┆     ┆     ┆     ┆     ┆     ┆     ┆     ┆     │\n",
       "│     ┆     ┆ ffd ┆     ┆     ┆     ┆ -34 ┆     ┆ 062 ┆ e6  ┆     ┆     ┆     ┆     ┆ t   ┆     ┆     ┆     ┆     ┆ rd  ┆ 7   ┆     ┆     ┆     ┆ 0   ┆ 0   ┆ ent ┆ 405 ┆ rd  ┆     ┆     ┆     ┆     ┆ 0   ┆ 974 ┆     ┆ t   ┆ rd  ┆ ent ┆     ┆     ┆     ┆     ┆     ┆     ┆     ┆     ┆     ┆     │\n",
       "│     ┆     ┆     ┆     ┆     ┆     ┆ 21  ┆     ┆ e7  ┆     ┆     ┆     ┆     ┆     ┆ Loa ┆     ┆     ┆     ┆     ┆     ┆     ┆     ┆     ┆     ┆     ┆     ┆ _Sm ┆ 19  ┆     ┆     ┆     ┆     ┆     ┆     ┆ 64  ┆     ┆ Loa ┆     ┆ _Sm ┆     ┆     ┆     ┆     ┆     ┆     ┆     ┆     ┆     ┆     │\n",
       "│     ┆     ┆     ┆     ┆     ┆     ┆     ┆     ┆     ┆     ┆     ┆     ┆     ┆     ┆ n,  ┆     ┆     ┆     ┆     ┆     ┆     ┆     ┆     ┆     ┆     ┆     ┆ all ┆     ┆     ┆     ┆     ┆     ┆     ┆     ┆     ┆     ┆ n,  ┆     ┆ all ┆     ┆     ┆     ┆     ┆     ┆     ┆     ┆     ┆     ┆     │\n",
       "│     ┆     ┆     ┆     ┆     ┆     ┆     ┆     ┆     ┆     ┆     ┆     ┆     ┆     ┆ and ┆     ┆     ┆     ┆     ┆     ┆     ┆     ┆     ┆     ┆     ┆     ┆ _va ┆     ┆     ┆     ┆     ┆     ┆     ┆     ┆     ┆     ┆ and ┆     ┆ _va ┆     ┆     ┆     ┆     ┆     ┆     ┆     ┆     ┆     ┆     │\n",
       "│     ┆     ┆     ┆     ┆     ┆     ┆     ┆     ┆     ┆     ┆     ┆     ┆     ┆     ┆ Stu ┆     ┆     ┆     ┆     ┆     ┆     ┆     ┆     ┆     ┆     ┆     ┆ lue ┆     ┆     ┆     ┆     ┆     ┆     ┆     ┆     ┆     ┆ Stu ┆     ┆ lue ┆     ┆     ┆     ┆     ┆     ┆     ┆     ┆     ┆     ┆     │\n",
       "│     ┆     ┆     ┆     ┆     ┆     ┆     ┆     ┆     ┆     ┆     ┆     ┆     ┆     ┆ den ┆     ┆     ┆     ┆     ┆     ┆     ┆     ┆     ┆     ┆     ┆     ┆ _pa ┆     ┆     ┆     ┆     ┆     ┆     ┆     ┆     ┆     ┆ den ┆     ┆ _pa ┆     ┆     ┆     ┆     ┆     ┆     ┆     ┆     ┆     ┆     │\n",
       "│     ┆     ┆     ┆     ┆     ┆     ┆     ┆     ┆     ┆     ┆     ┆     ┆     ┆     ┆ t   ┆     ┆     ┆     ┆     ┆     ┆     ┆     ┆     ┆     ┆     ┆     ┆ yme ┆     ┆     ┆     ┆     ┆     ┆     ┆     ┆     ┆     ┆ t   ┆     ┆ yme ┆     ┆     ┆     ┆     ┆     ┆     ┆     ┆     ┆     ┆     │\n",
       "│     ┆     ┆     ┆     ┆     ┆     ┆     ┆     ┆     ┆     ┆     ┆     ┆     ┆     ┆ Loa ┆     ┆     ┆     ┆     ┆     ┆     ┆     ┆     ┆     ┆     ┆     ┆ nts ┆     ┆     ┆     ┆     ┆     ┆     ┆     ┆     ┆     ┆ Loa ┆     ┆ nts ┆     ┆     ┆     ┆     ┆     ┆     ┆     ┆     ┆     ┆     │\n",
       "│     ┆     ┆     ┆     ┆     ┆     ┆     ┆     ┆     ┆     ┆     ┆     ┆     ┆     ┆ n   ┆     ┆     ┆     ┆     ┆     ┆     ┆     ┆     ┆     ┆     ┆     ┆     ┆     ┆     ┆     ┆     ┆     ┆     ┆     ┆     ┆     ┆ n   ┆     ┆     ┆     ┆     ┆     ┆     ┆     ┆     ┆     ┆     ┆     ┆     │\n",
       "└─────┴─────┴─────┴─────┴─────┴─────┴─────┴─────┴─────┴─────┴─────┴─────┴─────┴─────┴─────┴─────┴─────┴─────┴─────┴─────┴─────┴─────┴─────┴─────┴─────┴─────┴─────┴─────┴─────┴─────┴─────┴─────┴─────┴─────┴─────┴─────┴─────┴─────┴─────┴─────┴─────┴─────┴─────┴─────┴─────┴─────┴─────┴─────┴─────┘"
      ]
     },
     "execution_count": 19,
     "metadata": {},
     "output_type": "execute_result"
    }
   ],
   "source": [
    "df.describe()"
   ]
  },
  {
   "cell_type": "code",
   "execution_count": 8,
   "id": "0800cc04",
   "metadata": {},
   "outputs": [
    {
     "data": {
      "text/html": [
       "<div><style>\n",
       ".dataframe > thead > tr,\n",
       ".dataframe > tbody > tr {\n",
       "  text-align: right;\n",
       "  white-space: pre-wrap;\n",
       "}\n",
       "</style>\n",
       "<small>shape: (8, 28)</small><table border=\"1\" class=\"dataframe\"><thead><tr><th>ID</th><th>Customer_ID</th><th>Month</th><th>Name</th><th>Age</th><th>SSN</th><th>Occupation</th><th>Annual_Income</th><th>Monthly_Inhand_Salary</th><th>Num_Bank_Accounts</th><th>Num_Credit_Card</th><th>Interest_Rate</th><th>Num_of_Loan</th><th>Type_of_Loan</th><th>Delay_from_due_date</th><th>Num_of_Delayed_Payment</th><th>Changed_Credit_Limit</th><th>Num_Credit_Inquiries</th><th>Credit_Mix</th><th>Outstanding_Debt</th><th>Credit_Utilization_Ratio</th><th>Credit_History_Age</th><th>Payment_of_Min_Amount</th><th>Total_EMI_per_month</th><th>Amount_invested_monthly</th><th>Payment_Behaviour</th><th>Monthly_Balance</th><th>Credit_Score</th></tr><tr><td>str</td><td>str</td><td>str</td><td>str</td><td>str</td><td>str</td><td>str</td><td>str</td><td>f64</td><td>i64</td><td>i64</td><td>i64</td><td>str</td><td>str</td><td>i64</td><td>str</td><td>str</td><td>f64</td><td>str</td><td>str</td><td>f64</td><td>str</td><td>str</td><td>f64</td><td>str</td><td>str</td><td>str</td><td>str</td></tr></thead><tbody><tr><td>&quot;0x179a&quot;</td><td>&quot;CUS_0xb101&quot;</td><td>&quot;January&quot;</td><td>&quot;Andreas Cremerf&quot;</td><td>&quot;36&quot;</td><td>&quot;253-91-2822&quot;</td><td>&quot;Scientist&quot;</td><td>&quot;42171.98&quot;</td><td>null</td><td>2</td><td>7</td><td>10</td><td>&quot;3&quot;</td><td>&quot;Auto Loan, Auto Loan, and Not …</td><td>4</td><td>&quot;10&quot;</td><td>&quot;9.58&quot;</td><td>4.0</td><td>&quot;Good&quot;</td><td>&quot;556.91&quot;</td><td>33.478952</td><td>&quot;21 Years and 5 Months&quot;</td><td>&quot;No&quot;</td><td>102.762913</td><td>&quot;56.711376692459666&quot;</td><td>&quot;High_spent_Medium_value_paymen…</td><td>&quot;466.95887685711665&quot;</td><td>&quot;Standard&quot;</td></tr><tr><td>&quot;0x179b&quot;</td><td>&quot;CUS_0xb101&quot;</td><td>&quot;February&quot;</td><td>&quot;Andreas Cremerf&quot;</td><td>&quot;36&quot;</td><td>&quot;253-91-2822&quot;</td><td>&quot;Scientist&quot;</td><td>&quot;42171.98&quot;</td><td>3764.331667</td><td>2</td><td>7</td><td>10</td><td>&quot;3&quot;</td><td>&quot;Auto Loan, Auto Loan, and Not …</td><td>4</td><td>&quot;8&quot;</td><td>&quot;2.58&quot;</td><td>4.0</td><td>&quot;Good&quot;</td><td>&quot;556.91&quot;</td><td>26.986115</td><td>&quot;21 Years and 6 Months&quot;</td><td>&quot;No&quot;</td><td>102.762913</td><td>&quot;136.98300144734569&quot;</td><td>&quot;Low_spent_Small_value_payments&quot;</td><td>&quot;426.6872521022305&quot;</td><td>&quot;Standard&quot;</td></tr><tr><td>&quot;0x179c&quot;</td><td>&quot;CUS_0xb101&quot;</td><td>&quot;March&quot;</td><td>&quot;Andreas Cremerf&quot;</td><td>&quot;37&quot;</td><td>&quot;253-91-2822&quot;</td><td>&quot;Scientist&quot;</td><td>&quot;42171.98&quot;</td><td>3764.331667</td><td>2</td><td>7</td><td>10</td><td>&quot;3&quot;</td><td>&quot;Auto Loan, Auto Loan, and Not …</td><td>4</td><td>null</td><td>&quot;2.58&quot;</td><td>4.0</td><td>&quot;Good&quot;</td><td>&quot;556.91&quot;</td><td>40.150583</td><td>&quot;21 Years and 7 Months&quot;</td><td>&quot;NM&quot;</td><td>102.762913</td><td>&quot;97.5667563136885&quot;</td><td>&quot;!@9#%8&quot;</td><td>&quot;446.1034972358877&quot;</td><td>&quot;Standard&quot;</td></tr><tr><td>&quot;0x179d&quot;</td><td>&quot;CUS_0xb101&quot;</td><td>&quot;April&quot;</td><td>&quot;Andreas Cremerf&quot;</td><td>&quot;37&quot;</td><td>&quot;253-91-2822&quot;</td><td>&quot;Scientist&quot;</td><td>&quot;42171.98&quot;</td><td>null</td><td>2</td><td>7</td><td>10</td><td>&quot;3&quot;</td><td>&quot;Auto Loan, Auto Loan, and Not …</td><td>2</td><td>&quot;10&quot;</td><td>&quot;2.58&quot;</td><td>4.0</td><td>&quot;Good&quot;</td><td>&quot;556.91&quot;</td><td>34.429986</td><td>&quot;21 Years and 8 Months&quot;</td><td>&quot;No&quot;</td><td>102.762913</td><td>&quot;255.76582841793282&quot;</td><td>&quot;Low_spent_Large_value_payments&quot;</td><td>&quot;287.9044251316435&quot;</td><td>&quot;Good&quot;</td></tr><tr><td>&quot;0x179e&quot;</td><td>&quot;CUS_0xb101&quot;</td><td>&quot;May&quot;</td><td>&quot;Andreas Cremerf&quot;</td><td>&quot;37&quot;</td><td>&quot;253-91-2822&quot;</td><td>&quot;Scientist&quot;</td><td>&quot;42171.98&quot;</td><td>3764.331667</td><td>2</td><td>7</td><td>10</td><td>&quot;3&quot;</td><td>&quot;Auto Loan, Auto Loan, and Not …</td><td>4</td><td>&quot;10&quot;</td><td>&quot;2.58&quot;</td><td>4.0</td><td>&quot;Good&quot;</td><td>&quot;556.91&quot;</td><td>31.745213</td><td>&quot;21 Years and 9 Months&quot;</td><td>&quot;No&quot;</td><td>102.762913</td><td>&quot;150.3131869839959&quot;</td><td>&quot;!@9#%8&quot;</td><td>&quot;373.3570665655803&quot;</td><td>&quot;Good&quot;</td></tr><tr><td>&quot;0x179f&quot;</td><td>&quot;CUS_0xb101&quot;</td><td>&quot;June&quot;</td><td>&quot;Andreas Cremerf&quot;</td><td>&quot;37_&quot;</td><td>&quot;253-91-2822&quot;</td><td>&quot;Scientist&quot;</td><td>&quot;42171.98&quot;</td><td>3764.331667</td><td>2</td><td>7</td><td>10</td><td>&quot;3&quot;</td><td>&quot;Auto Loan, Auto Loan, and Not …</td><td>2</td><td>&quot;10&quot;</td><td>&quot;2.58&quot;</td><td>4.0</td><td>&quot;_&quot;</td><td>&quot;556.91&quot;</td><td>29.464121</td><td>&quot;21 Years and 10 Months&quot;</td><td>&quot;NM&quot;</td><td>102.762913</td><td>&quot;82.51039863115369&quot;</td><td>&quot;High_spent_Small_value_payment…</td><td>&quot;451.15985491842264&quot;</td><td>&quot;Good&quot;</td></tr><tr><td>&quot;0x17a0&quot;</td><td>&quot;CUS_0xb101&quot;</td><td>&quot;July&quot;</td><td>&quot;Andreas Cremerf&quot;</td><td>&quot;37&quot;</td><td>&quot;253-91-2822&quot;</td><td>&quot;Scientist&quot;</td><td>&quot;42171.98&quot;</td><td>3764.331667</td><td>2</td><td>7</td><td>10</td><td>&quot;3&quot;</td><td>&quot;Auto Loan, Auto Loan, and Not …</td><td>4</td><td>&quot;10&quot;</td><td>&quot;2.58&quot;</td><td>4.0</td><td>&quot;Good&quot;</td><td>&quot;556.91&quot;</td><td>38.692159</td><td>&quot;NA&quot;</td><td>&quot;No&quot;</td><td>102.762913</td><td>&quot;82.5798021342212&quot;</td><td>&quot;High_spent_Large_value_payment…</td><td>&quot;431.0904514153552&quot;</td><td>&quot;Good&quot;</td></tr><tr><td>&quot;0x17a1&quot;</td><td>&quot;CUS_0xb101&quot;</td><td>&quot;August&quot;</td><td>&quot;Andreas Cremerf&quot;</td><td>&quot;37&quot;</td><td>&quot;253-91-2822&quot;</td><td>&quot;Scientist&quot;</td><td>&quot;42171.98&quot;</td><td>null</td><td>2</td><td>7</td><td>10</td><td>&quot;3&quot;</td><td>&quot;Auto Loan, Auto Loan, and Not …</td><td>4</td><td>&quot;10&quot;</td><td>&quot;2.58&quot;</td><td>4.0</td><td>&quot;Good&quot;</td><td>&quot;556.91&quot;</td><td>35.962853</td><td>&quot;22 Years and 0 Months&quot;</td><td>&quot;No&quot;</td><td>102.762913</td><td>&quot;145.39924253815036&quot;</td><td>&quot;High_spent_Medium_value_paymen…</td><td>&quot;378.27101101142586&quot;</td><td>&quot;Standard&quot;</td></tr></tbody></table></div>"
      ],
      "text/plain": [
       "shape: (8, 28)\n",
       "┌─────┬─────┬─────┬─────┬─────┬─────┬─────┬─────┬─────┬─────┬─────┬─────┬─────┬─────┬─────┬─────┬─────┬─────┬─────┬─────┬─────┬─────┬─────┬─────┬─────┬─────┬─────┬─────┐\n",
       "│ ID  ┆ Cus ┆ Mon ┆ Nam ┆ Age ┆ SSN ┆ Occ ┆ Ann ┆ Mon ┆ Num ┆ Num ┆ Int ┆ Num ┆ Typ ┆ Del ┆ Num ┆ Cha ┆ Num ┆ Cre ┆ Out ┆ Cre ┆ Cre ┆ Pay ┆ Tot ┆ Amo ┆ Pay ┆ Mon ┆ Cre │\n",
       "│ --- ┆ tom ┆ th  ┆ e   ┆ --- ┆ --- ┆ upa ┆ ual ┆ thl ┆ _Ba ┆ _Cr ┆ ere ┆ _of ┆ e_o ┆ ay_ ┆ _of ┆ nge ┆ _Cr ┆ dit ┆ sta ┆ dit ┆ dit ┆ men ┆ al_ ┆ unt ┆ men ┆ thl ┆ dit │\n",
       "│ str ┆ er_ ┆ --- ┆ --- ┆ str ┆ str ┆ tio ┆ _In ┆ y_I ┆ nk_ ┆ edi ┆ st_ ┆ _Lo ┆ f_L ┆ fro ┆ _De ┆ d_C ┆ edi ┆ _Mi ┆ ndi ┆ _Ut ┆ _Hi ┆ t_o ┆ EMI ┆ _in ┆ t_B ┆ y_B ┆ _Sc │\n",
       "│     ┆ ID  ┆ str ┆ str ┆     ┆     ┆ n   ┆ com ┆ nha ┆ Acc ┆ t_C ┆ Rat ┆ an  ┆ oan ┆ m_d ┆ lay ┆ red ┆ t_I ┆ x   ┆ ng_ ┆ ili ┆ sto ┆ f_M ┆ _pe ┆ ves ┆ eha ┆ ala ┆ ore │\n",
       "│     ┆ --- ┆     ┆     ┆     ┆     ┆ --- ┆ e   ┆ nd_ ┆ oun ┆ ard ┆ e   ┆ --- ┆ --- ┆ ue_ ┆ ed_ ┆ it_ ┆ nqu ┆ --- ┆ Deb ┆ zat ┆ ry_ ┆ in_ ┆ r_m ┆ ted ┆ vio ┆ nce ┆ --- │\n",
       "│     ┆ str ┆     ┆     ┆     ┆     ┆ str ┆ --- ┆ Sal ┆ ts  ┆ --- ┆ --- ┆ str ┆ str ┆ dat ┆ Pay ┆ Lim ┆ iri ┆ str ┆ t   ┆ ion ┆ Age ┆ Amo ┆ ont ┆ _mo ┆ ur  ┆ --- ┆ str │\n",
       "│     ┆     ┆     ┆     ┆     ┆     ┆     ┆ str ┆ ary ┆ --- ┆ i64 ┆ i64 ┆     ┆     ┆ e   ┆ men ┆ it  ┆ es  ┆     ┆ --- ┆ _Ra ┆ --- ┆ unt ┆ h   ┆ nth ┆ --- ┆ str ┆     │\n",
       "│     ┆     ┆     ┆     ┆     ┆     ┆     ┆     ┆ --- ┆ i64 ┆     ┆     ┆     ┆     ┆ --- ┆ t   ┆ --- ┆ --- ┆     ┆ str ┆ tio ┆ str ┆ --- ┆ --- ┆ ly  ┆ str ┆     ┆     │\n",
       "│     ┆     ┆     ┆     ┆     ┆     ┆     ┆     ┆ f64 ┆     ┆     ┆     ┆     ┆     ┆ i64 ┆ --- ┆ str ┆ f64 ┆     ┆     ┆ --- ┆     ┆ str ┆ f64 ┆ --- ┆     ┆     ┆     │\n",
       "│     ┆     ┆     ┆     ┆     ┆     ┆     ┆     ┆     ┆     ┆     ┆     ┆     ┆     ┆     ┆ str ┆     ┆     ┆     ┆     ┆ f64 ┆     ┆     ┆     ┆ str ┆     ┆     ┆     │\n",
       "╞═════╪═════╪═════╪═════╪═════╪═════╪═════╪═════╪═════╪═════╪═════╪═════╪═════╪═════╪═════╪═════╪═════╪═════╪═════╪═════╪═════╪═════╪═════╪═════╪═════╪═════╪═════╪═════╡\n",
       "│ 0x1 ┆ CUS ┆ Jan ┆ And ┆ 36  ┆ 253 ┆ Sci ┆ 421 ┆ nul ┆ 2   ┆ 7   ┆ 10  ┆ 3   ┆ Aut ┆ 4   ┆ 10  ┆ 9.5 ┆ 4.0 ┆ Goo ┆ 556 ┆ 33. ┆ 21  ┆ No  ┆ 102 ┆ 56. ┆ Hig ┆ 466 ┆ Sta │\n",
       "│ 79a ┆ _0x ┆ uar ┆ rea ┆     ┆ -91 ┆ ent ┆ 71. ┆ l   ┆     ┆     ┆     ┆     ┆ o   ┆     ┆     ┆ 8   ┆     ┆ d   ┆ .91 ┆ 478 ┆ Yea ┆     ┆ .76 ┆ 711 ┆ h_s ┆ .95 ┆ nda │\n",
       "│     ┆ b10 ┆ y   ┆ s   ┆     ┆ -28 ┆ ist ┆ 98  ┆     ┆     ┆     ┆     ┆     ┆ Loa ┆     ┆     ┆     ┆     ┆     ┆     ┆ 952 ┆ rs  ┆     ┆ 291 ┆ 376 ┆ pen ┆ 887 ┆ rd  │\n",
       "│     ┆ 1   ┆     ┆ Cre ┆     ┆ 22  ┆     ┆     ┆     ┆     ┆     ┆     ┆     ┆ n,  ┆     ┆     ┆     ┆     ┆     ┆     ┆     ┆ and ┆     ┆ 3   ┆ 692 ┆ t_M ┆ 685 ┆     │\n",
       "│     ┆     ┆     ┆ mer ┆     ┆     ┆     ┆     ┆     ┆     ┆     ┆     ┆     ┆ Aut ┆     ┆     ┆     ┆     ┆     ┆     ┆     ┆ 5   ┆     ┆     ┆ 459 ┆ edi ┆ 711 ┆     │\n",
       "│     ┆     ┆     ┆ f   ┆     ┆     ┆     ┆     ┆     ┆     ┆     ┆     ┆     ┆ o   ┆     ┆     ┆     ┆     ┆     ┆     ┆     ┆ Mon ┆     ┆     ┆ 666 ┆ um_ ┆ 665 ┆     │\n",
       "│     ┆     ┆     ┆     ┆     ┆     ┆     ┆     ┆     ┆     ┆     ┆     ┆     ┆ Loa ┆     ┆     ┆     ┆     ┆     ┆     ┆     ┆ ths ┆     ┆     ┆     ┆ val ┆     ┆     │\n",
       "│     ┆     ┆     ┆     ┆     ┆     ┆     ┆     ┆     ┆     ┆     ┆     ┆     ┆ n,  ┆     ┆     ┆     ┆     ┆     ┆     ┆     ┆     ┆     ┆     ┆     ┆ ue_ ┆     ┆     │\n",
       "│     ┆     ┆     ┆     ┆     ┆     ┆     ┆     ┆     ┆     ┆     ┆     ┆     ┆ and ┆     ┆     ┆     ┆     ┆     ┆     ┆     ┆     ┆     ┆     ┆     ┆ pay ┆     ┆     │\n",
       "│     ┆     ┆     ┆     ┆     ┆     ┆     ┆     ┆     ┆     ┆     ┆     ┆     ┆ Not ┆     ┆     ┆     ┆     ┆     ┆     ┆     ┆     ┆     ┆     ┆     ┆ men ┆     ┆     │\n",
       "│     ┆     ┆     ┆     ┆     ┆     ┆     ┆     ┆     ┆     ┆     ┆     ┆     ┆ …   ┆     ┆     ┆     ┆     ┆     ┆     ┆     ┆     ┆     ┆     ┆     ┆ …   ┆     ┆     │\n",
       "│ 0x1 ┆ CUS ┆ Feb ┆ And ┆ 36  ┆ 253 ┆ Sci ┆ 421 ┆ 376 ┆ 2   ┆ 7   ┆ 10  ┆ 3   ┆ Aut ┆ 4   ┆ 8   ┆ 2.5 ┆ 4.0 ┆ Goo ┆ 556 ┆ 26. ┆ 21  ┆ No  ┆ 102 ┆ 136 ┆ Low ┆ 426 ┆ Sta │\n",
       "│ 79b ┆ _0x ┆ rua ┆ rea ┆     ┆ -91 ┆ ent ┆ 71. ┆ 4.3 ┆     ┆     ┆     ┆     ┆ o   ┆     ┆     ┆ 8   ┆     ┆ d   ┆ .91 ┆ 986 ┆ Yea ┆     ┆ .76 ┆ .98 ┆ _sp ┆ .68 ┆ nda │\n",
       "│     ┆ b10 ┆ ry  ┆ s   ┆     ┆ -28 ┆ ist ┆ 98  ┆ 316 ┆     ┆     ┆     ┆     ┆ Loa ┆     ┆     ┆     ┆     ┆     ┆     ┆ 115 ┆ rs  ┆     ┆ 291 ┆ 300 ┆ ent ┆ 725 ┆ rd  │\n",
       "│     ┆ 1   ┆     ┆ Cre ┆     ┆ 22  ┆     ┆     ┆ 67  ┆     ┆     ┆     ┆     ┆ n,  ┆     ┆     ┆     ┆     ┆     ┆     ┆     ┆ and ┆     ┆ 3   ┆ 144 ┆ _Sm ┆ 210 ┆     │\n",
       "│     ┆     ┆     ┆ mer ┆     ┆     ┆     ┆     ┆     ┆     ┆     ┆     ┆     ┆ Aut ┆     ┆     ┆     ┆     ┆     ┆     ┆     ┆ 6   ┆     ┆     ┆ 734 ┆ all ┆ 223 ┆     │\n",
       "│     ┆     ┆     ┆ f   ┆     ┆     ┆     ┆     ┆     ┆     ┆     ┆     ┆     ┆ o   ┆     ┆     ┆     ┆     ┆     ┆     ┆     ┆ Mon ┆     ┆     ┆ 569 ┆ _va ┆ 05  ┆     │\n",
       "│     ┆     ┆     ┆     ┆     ┆     ┆     ┆     ┆     ┆     ┆     ┆     ┆     ┆ Loa ┆     ┆     ┆     ┆     ┆     ┆     ┆     ┆ ths ┆     ┆     ┆     ┆ lue ┆     ┆     │\n",
       "│     ┆     ┆     ┆     ┆     ┆     ┆     ┆     ┆     ┆     ┆     ┆     ┆     ┆ n,  ┆     ┆     ┆     ┆     ┆     ┆     ┆     ┆     ┆     ┆     ┆     ┆ _pa ┆     ┆     │\n",
       "│     ┆     ┆     ┆     ┆     ┆     ┆     ┆     ┆     ┆     ┆     ┆     ┆     ┆ and ┆     ┆     ┆     ┆     ┆     ┆     ┆     ┆     ┆     ┆     ┆     ┆ yme ┆     ┆     │\n",
       "│     ┆     ┆     ┆     ┆     ┆     ┆     ┆     ┆     ┆     ┆     ┆     ┆     ┆ Not ┆     ┆     ┆     ┆     ┆     ┆     ┆     ┆     ┆     ┆     ┆     ┆ nts ┆     ┆     │\n",
       "│     ┆     ┆     ┆     ┆     ┆     ┆     ┆     ┆     ┆     ┆     ┆     ┆     ┆ …   ┆     ┆     ┆     ┆     ┆     ┆     ┆     ┆     ┆     ┆     ┆     ┆     ┆     ┆     │\n",
       "│ 0x1 ┆ CUS ┆ Mar ┆ And ┆ 37  ┆ 253 ┆ Sci ┆ 421 ┆ 376 ┆ 2   ┆ 7   ┆ 10  ┆ 3   ┆ Aut ┆ 4   ┆ nul ┆ 2.5 ┆ 4.0 ┆ Goo ┆ 556 ┆ 40. ┆ 21  ┆ NM  ┆ 102 ┆ 97. ┆ !@9 ┆ 446 ┆ Sta │\n",
       "│ 79c ┆ _0x ┆ ch  ┆ rea ┆     ┆ -91 ┆ ent ┆ 71. ┆ 4.3 ┆     ┆     ┆     ┆     ┆ o   ┆     ┆ l   ┆ 8   ┆     ┆ d   ┆ .91 ┆ 150 ┆ Yea ┆     ┆ .76 ┆ 566 ┆ #%8 ┆ .10 ┆ nda │\n",
       "│     ┆ b10 ┆     ┆ s   ┆     ┆ -28 ┆ ist ┆ 98  ┆ 316 ┆     ┆     ┆     ┆     ┆ Loa ┆     ┆     ┆     ┆     ┆     ┆     ┆ 583 ┆ rs  ┆     ┆ 291 ┆ 756 ┆     ┆ 349 ┆ rd  │\n",
       "│     ┆ 1   ┆     ┆ Cre ┆     ┆ 22  ┆     ┆     ┆ 67  ┆     ┆     ┆     ┆     ┆ n,  ┆     ┆     ┆     ┆     ┆     ┆     ┆     ┆ and ┆     ┆ 3   ┆ 313 ┆     ┆ 723 ┆     │\n",
       "│     ┆     ┆     ┆ mer ┆     ┆     ┆     ┆     ┆     ┆     ┆     ┆     ┆     ┆ Aut ┆     ┆     ┆     ┆     ┆     ┆     ┆     ┆ 7   ┆     ┆     ┆ 688 ┆     ┆ 588 ┆     │\n",
       "│     ┆     ┆     ┆ f   ┆     ┆     ┆     ┆     ┆     ┆     ┆     ┆     ┆     ┆ o   ┆     ┆     ┆     ┆     ┆     ┆     ┆     ┆ Mon ┆     ┆     ┆ 5   ┆     ┆ 77  ┆     │\n",
       "│     ┆     ┆     ┆     ┆     ┆     ┆     ┆     ┆     ┆     ┆     ┆     ┆     ┆ Loa ┆     ┆     ┆     ┆     ┆     ┆     ┆     ┆ ths ┆     ┆     ┆     ┆     ┆     ┆     │\n",
       "│     ┆     ┆     ┆     ┆     ┆     ┆     ┆     ┆     ┆     ┆     ┆     ┆     ┆ n,  ┆     ┆     ┆     ┆     ┆     ┆     ┆     ┆     ┆     ┆     ┆     ┆     ┆     ┆     │\n",
       "│     ┆     ┆     ┆     ┆     ┆     ┆     ┆     ┆     ┆     ┆     ┆     ┆     ┆ and ┆     ┆     ┆     ┆     ┆     ┆     ┆     ┆     ┆     ┆     ┆     ┆     ┆     ┆     │\n",
       "│     ┆     ┆     ┆     ┆     ┆     ┆     ┆     ┆     ┆     ┆     ┆     ┆     ┆ Not ┆     ┆     ┆     ┆     ┆     ┆     ┆     ┆     ┆     ┆     ┆     ┆     ┆     ┆     │\n",
       "│     ┆     ┆     ┆     ┆     ┆     ┆     ┆     ┆     ┆     ┆     ┆     ┆     ┆ …   ┆     ┆     ┆     ┆     ┆     ┆     ┆     ┆     ┆     ┆     ┆     ┆     ┆     ┆     │\n",
       "│ 0x1 ┆ CUS ┆ Apr ┆ And ┆ 37  ┆ 253 ┆ Sci ┆ 421 ┆ nul ┆ 2   ┆ 7   ┆ 10  ┆ 3   ┆ Aut ┆ 2   ┆ 10  ┆ 2.5 ┆ 4.0 ┆ Goo ┆ 556 ┆ 34. ┆ 21  ┆ No  ┆ 102 ┆ 255 ┆ Low ┆ 287 ┆ Goo │\n",
       "│ 79d ┆ _0x ┆ il  ┆ rea ┆     ┆ -91 ┆ ent ┆ 71. ┆ l   ┆     ┆     ┆     ┆     ┆ o   ┆     ┆     ┆ 8   ┆     ┆ d   ┆ .91 ┆ 429 ┆ Yea ┆     ┆ .76 ┆ .76 ┆ _sp ┆ .90 ┆ d   │\n",
       "│     ┆ b10 ┆     ┆ s   ┆     ┆ -28 ┆ ist ┆ 98  ┆     ┆     ┆     ┆     ┆     ┆ Loa ┆     ┆     ┆     ┆     ┆     ┆     ┆ 986 ┆ rs  ┆     ┆ 291 ┆ 582 ┆ ent ┆ 442 ┆     │\n",
       "│     ┆ 1   ┆     ┆ Cre ┆     ┆ 22  ┆     ┆     ┆     ┆     ┆     ┆     ┆     ┆ n,  ┆     ┆     ┆     ┆     ┆     ┆     ┆     ┆ and ┆     ┆ 3   ┆ 841 ┆ _La ┆ 513 ┆     │\n",
       "│     ┆     ┆     ┆ mer ┆     ┆     ┆     ┆     ┆     ┆     ┆     ┆     ┆     ┆ Aut ┆     ┆     ┆     ┆     ┆     ┆     ┆     ┆ 8   ┆     ┆     ┆ 793 ┆ rge ┆ 164 ┆     │\n",
       "│     ┆     ┆     ┆ f   ┆     ┆     ┆     ┆     ┆     ┆     ┆     ┆     ┆     ┆ o   ┆     ┆     ┆     ┆     ┆     ┆     ┆     ┆ Mon ┆     ┆     ┆ 282 ┆ _va ┆ 35  ┆     │\n",
       "│     ┆     ┆     ┆     ┆     ┆     ┆     ┆     ┆     ┆     ┆     ┆     ┆     ┆ Loa ┆     ┆     ┆     ┆     ┆     ┆     ┆     ┆ ths ┆     ┆     ┆     ┆ lue ┆     ┆     │\n",
       "│     ┆     ┆     ┆     ┆     ┆     ┆     ┆     ┆     ┆     ┆     ┆     ┆     ┆ n,  ┆     ┆     ┆     ┆     ┆     ┆     ┆     ┆     ┆     ┆     ┆     ┆ _pa ┆     ┆     │\n",
       "│     ┆     ┆     ┆     ┆     ┆     ┆     ┆     ┆     ┆     ┆     ┆     ┆     ┆ and ┆     ┆     ┆     ┆     ┆     ┆     ┆     ┆     ┆     ┆     ┆     ┆ yme ┆     ┆     │\n",
       "│     ┆     ┆     ┆     ┆     ┆     ┆     ┆     ┆     ┆     ┆     ┆     ┆     ┆ Not ┆     ┆     ┆     ┆     ┆     ┆     ┆     ┆     ┆     ┆     ┆     ┆ nts ┆     ┆     │\n",
       "│     ┆     ┆     ┆     ┆     ┆     ┆     ┆     ┆     ┆     ┆     ┆     ┆     ┆ …   ┆     ┆     ┆     ┆     ┆     ┆     ┆     ┆     ┆     ┆     ┆     ┆     ┆     ┆     │\n",
       "│ 0x1 ┆ CUS ┆ May ┆ And ┆ 37  ┆ 253 ┆ Sci ┆ 421 ┆ 376 ┆ 2   ┆ 7   ┆ 10  ┆ 3   ┆ Aut ┆ 4   ┆ 10  ┆ 2.5 ┆ 4.0 ┆ Goo ┆ 556 ┆ 31. ┆ 21  ┆ No  ┆ 102 ┆ 150 ┆ !@9 ┆ 373 ┆ Goo │\n",
       "│ 79e ┆ _0x ┆     ┆ rea ┆     ┆ -91 ┆ ent ┆ 71. ┆ 4.3 ┆     ┆     ┆     ┆     ┆ o   ┆     ┆     ┆ 8   ┆     ┆ d   ┆ .91 ┆ 745 ┆ Yea ┆     ┆ .76 ┆ .31 ┆ #%8 ┆ .35 ┆ d   │\n",
       "│     ┆ b10 ┆     ┆ s   ┆     ┆ -28 ┆ ist ┆ 98  ┆ 316 ┆     ┆     ┆     ┆     ┆ Loa ┆     ┆     ┆     ┆     ┆     ┆     ┆ 213 ┆ rs  ┆     ┆ 291 ┆ 318 ┆     ┆ 706 ┆     │\n",
       "│     ┆ 1   ┆     ┆ Cre ┆     ┆ 22  ┆     ┆     ┆ 67  ┆     ┆     ┆     ┆     ┆ n,  ┆     ┆     ┆     ┆     ┆     ┆     ┆     ┆ and ┆     ┆ 3   ┆ 698 ┆     ┆ 656 ┆     │\n",
       "│     ┆     ┆     ┆ mer ┆     ┆     ┆     ┆     ┆     ┆     ┆     ┆     ┆     ┆ Aut ┆     ┆     ┆     ┆     ┆     ┆     ┆     ┆ 9   ┆     ┆     ┆ 399 ┆     ┆ 558 ┆     │\n",
       "│     ┆     ┆     ┆ f   ┆     ┆     ┆     ┆     ┆     ┆     ┆     ┆     ┆     ┆ o   ┆     ┆     ┆     ┆     ┆     ┆     ┆     ┆ Mon ┆     ┆     ┆ 59  ┆     ┆ 03  ┆     │\n",
       "│     ┆     ┆     ┆     ┆     ┆     ┆     ┆     ┆     ┆     ┆     ┆     ┆     ┆ Loa ┆     ┆     ┆     ┆     ┆     ┆     ┆     ┆ ths ┆     ┆     ┆     ┆     ┆     ┆     │\n",
       "│     ┆     ┆     ┆     ┆     ┆     ┆     ┆     ┆     ┆     ┆     ┆     ┆     ┆ n,  ┆     ┆     ┆     ┆     ┆     ┆     ┆     ┆     ┆     ┆     ┆     ┆     ┆     ┆     │\n",
       "│     ┆     ┆     ┆     ┆     ┆     ┆     ┆     ┆     ┆     ┆     ┆     ┆     ┆ and ┆     ┆     ┆     ┆     ┆     ┆     ┆     ┆     ┆     ┆     ┆     ┆     ┆     ┆     │\n",
       "│     ┆     ┆     ┆     ┆     ┆     ┆     ┆     ┆     ┆     ┆     ┆     ┆     ┆ Not ┆     ┆     ┆     ┆     ┆     ┆     ┆     ┆     ┆     ┆     ┆     ┆     ┆     ┆     │\n",
       "│     ┆     ┆     ┆     ┆     ┆     ┆     ┆     ┆     ┆     ┆     ┆     ┆     ┆ …   ┆     ┆     ┆     ┆     ┆     ┆     ┆     ┆     ┆     ┆     ┆     ┆     ┆     ┆     │\n",
       "│ 0x1 ┆ CUS ┆ Jun ┆ And ┆ 37_ ┆ 253 ┆ Sci ┆ 421 ┆ 376 ┆ 2   ┆ 7   ┆ 10  ┆ 3   ┆ Aut ┆ 2   ┆ 10  ┆ 2.5 ┆ 4.0 ┆ _   ┆ 556 ┆ 29. ┆ 21  ┆ NM  ┆ 102 ┆ 82. ┆ Hig ┆ 451 ┆ Goo │\n",
       "│ 79f ┆ _0x ┆ e   ┆ rea ┆     ┆ -91 ┆ ent ┆ 71. ┆ 4.3 ┆     ┆     ┆     ┆     ┆ o   ┆     ┆     ┆ 8   ┆     ┆     ┆ .91 ┆ 464 ┆ Yea ┆     ┆ .76 ┆ 510 ┆ h_s ┆ .15 ┆ d   │\n",
       "│     ┆ b10 ┆     ┆ s   ┆     ┆ -28 ┆ ist ┆ 98  ┆ 316 ┆     ┆     ┆     ┆     ┆ Loa ┆     ┆     ┆     ┆     ┆     ┆     ┆ 121 ┆ rs  ┆     ┆ 291 ┆ 398 ┆ pen ┆ 985 ┆     │\n",
       "│     ┆ 1   ┆     ┆ Cre ┆     ┆ 22  ┆     ┆     ┆ 67  ┆     ┆     ┆     ┆     ┆ n,  ┆     ┆     ┆     ┆     ┆     ┆     ┆     ┆ and ┆     ┆ 3   ┆ 631 ┆ t_S ┆ 491 ┆     │\n",
       "│     ┆     ┆     ┆ mer ┆     ┆     ┆     ┆     ┆     ┆     ┆     ┆     ┆     ┆ Aut ┆     ┆     ┆     ┆     ┆     ┆     ┆     ┆ 10  ┆     ┆     ┆ 153 ┆ mal ┆ 842 ┆     │\n",
       "│     ┆     ┆     ┆ f   ┆     ┆     ┆     ┆     ┆     ┆     ┆     ┆     ┆     ┆ o   ┆     ┆     ┆     ┆     ┆     ┆     ┆     ┆ Mon ┆     ┆     ┆ 69  ┆ l_v ┆ 264 ┆     │\n",
       "│     ┆     ┆     ┆     ┆     ┆     ┆     ┆     ┆     ┆     ┆     ┆     ┆     ┆ Loa ┆     ┆     ┆     ┆     ┆     ┆     ┆     ┆ ths ┆     ┆     ┆     ┆ alu ┆     ┆     │\n",
       "│     ┆     ┆     ┆     ┆     ┆     ┆     ┆     ┆     ┆     ┆     ┆     ┆     ┆ n,  ┆     ┆     ┆     ┆     ┆     ┆     ┆     ┆     ┆     ┆     ┆     ┆ e_p ┆     ┆     │\n",
       "│     ┆     ┆     ┆     ┆     ┆     ┆     ┆     ┆     ┆     ┆     ┆     ┆     ┆ and ┆     ┆     ┆     ┆     ┆     ┆     ┆     ┆     ┆     ┆     ┆     ┆ aym ┆     ┆     │\n",
       "│     ┆     ┆     ┆     ┆     ┆     ┆     ┆     ┆     ┆     ┆     ┆     ┆     ┆ Not ┆     ┆     ┆     ┆     ┆     ┆     ┆     ┆     ┆     ┆     ┆     ┆ ent ┆     ┆     │\n",
       "│     ┆     ┆     ┆     ┆     ┆     ┆     ┆     ┆     ┆     ┆     ┆     ┆     ┆ …   ┆     ┆     ┆     ┆     ┆     ┆     ┆     ┆     ┆     ┆     ┆     ┆ …   ┆     ┆     │\n",
       "│ 0x1 ┆ CUS ┆ Jul ┆ And ┆ 37  ┆ 253 ┆ Sci ┆ 421 ┆ 376 ┆ 2   ┆ 7   ┆ 10  ┆ 3   ┆ Aut ┆ 4   ┆ 10  ┆ 2.5 ┆ 4.0 ┆ Goo ┆ 556 ┆ 38. ┆ NA  ┆ No  ┆ 102 ┆ 82. ┆ Hig ┆ 431 ┆ Goo │\n",
       "│ 7a0 ┆ _0x ┆ y   ┆ rea ┆     ┆ -91 ┆ ent ┆ 71. ┆ 4.3 ┆     ┆     ┆     ┆     ┆ o   ┆     ┆     ┆ 8   ┆     ┆ d   ┆ .91 ┆ 692 ┆     ┆     ┆ .76 ┆ 579 ┆ h_s ┆ .09 ┆ d   │\n",
       "│     ┆ b10 ┆     ┆ s   ┆     ┆ -28 ┆ ist ┆ 98  ┆ 316 ┆     ┆     ┆     ┆     ┆ Loa ┆     ┆     ┆     ┆     ┆     ┆     ┆ 159 ┆     ┆     ┆ 291 ┆ 802 ┆ pen ┆ 045 ┆     │\n",
       "│     ┆ 1   ┆     ┆ Cre ┆     ┆ 22  ┆     ┆     ┆ 67  ┆     ┆     ┆     ┆     ┆ n,  ┆     ┆     ┆     ┆     ┆     ┆     ┆     ┆     ┆     ┆ 3   ┆ 134 ┆ t_L ┆ 141 ┆     │\n",
       "│     ┆     ┆     ┆ mer ┆     ┆     ┆     ┆     ┆     ┆     ┆     ┆     ┆     ┆ Aut ┆     ┆     ┆     ┆     ┆     ┆     ┆     ┆     ┆     ┆     ┆ 221 ┆ arg ┆ 535 ┆     │\n",
       "│     ┆     ┆     ┆ f   ┆     ┆     ┆     ┆     ┆     ┆     ┆     ┆     ┆     ┆ o   ┆     ┆     ┆     ┆     ┆     ┆     ┆     ┆     ┆     ┆     ┆ 2   ┆ e_v ┆ 52  ┆     │\n",
       "│     ┆     ┆     ┆     ┆     ┆     ┆     ┆     ┆     ┆     ┆     ┆     ┆     ┆ Loa ┆     ┆     ┆     ┆     ┆     ┆     ┆     ┆     ┆     ┆     ┆     ┆ alu ┆     ┆     │\n",
       "│     ┆     ┆     ┆     ┆     ┆     ┆     ┆     ┆     ┆     ┆     ┆     ┆     ┆ n,  ┆     ┆     ┆     ┆     ┆     ┆     ┆     ┆     ┆     ┆     ┆     ┆ e_p ┆     ┆     │\n",
       "│     ┆     ┆     ┆     ┆     ┆     ┆     ┆     ┆     ┆     ┆     ┆     ┆     ┆ and ┆     ┆     ┆     ┆     ┆     ┆     ┆     ┆     ┆     ┆     ┆     ┆ aym ┆     ┆     │\n",
       "│     ┆     ┆     ┆     ┆     ┆     ┆     ┆     ┆     ┆     ┆     ┆     ┆     ┆ Not ┆     ┆     ┆     ┆     ┆     ┆     ┆     ┆     ┆     ┆     ┆     ┆ ent ┆     ┆     │\n",
       "│     ┆     ┆     ┆     ┆     ┆     ┆     ┆     ┆     ┆     ┆     ┆     ┆     ┆ …   ┆     ┆     ┆     ┆     ┆     ┆     ┆     ┆     ┆     ┆     ┆     ┆ …   ┆     ┆     │\n",
       "│ 0x1 ┆ CUS ┆ Aug ┆ And ┆ 37  ┆ 253 ┆ Sci ┆ 421 ┆ nul ┆ 2   ┆ 7   ┆ 10  ┆ 3   ┆ Aut ┆ 4   ┆ 10  ┆ 2.5 ┆ 4.0 ┆ Goo ┆ 556 ┆ 35. ┆ 22  ┆ No  ┆ 102 ┆ 145 ┆ Hig ┆ 378 ┆ Sta │\n",
       "│ 7a1 ┆ _0x ┆ ust ┆ rea ┆     ┆ -91 ┆ ent ┆ 71. ┆ l   ┆     ┆     ┆     ┆     ┆ o   ┆     ┆     ┆ 8   ┆     ┆ d   ┆ .91 ┆ 962 ┆ Yea ┆     ┆ .76 ┆ .39 ┆ h_s ┆ .27 ┆ nda │\n",
       "│     ┆ b10 ┆     ┆ s   ┆     ┆ -28 ┆ ist ┆ 98  ┆     ┆     ┆     ┆     ┆     ┆ Loa ┆     ┆     ┆     ┆     ┆     ┆     ┆ 853 ┆ rs  ┆     ┆ 291 ┆ 924 ┆ pen ┆ 101 ┆ rd  │\n",
       "│     ┆ 1   ┆     ┆ Cre ┆     ┆ 22  ┆     ┆     ┆     ┆     ┆     ┆     ┆     ┆ n,  ┆     ┆     ┆     ┆     ┆     ┆     ┆     ┆ and ┆     ┆ 3   ┆ 253 ┆ t_M ┆ 101 ┆     │\n",
       "│     ┆     ┆     ┆ mer ┆     ┆     ┆     ┆     ┆     ┆     ┆     ┆     ┆     ┆ Aut ┆     ┆     ┆     ┆     ┆     ┆     ┆     ┆ 0   ┆     ┆     ┆ 815 ┆ edi ┆ 142 ┆     │\n",
       "│     ┆     ┆     ┆ f   ┆     ┆     ┆     ┆     ┆     ┆     ┆     ┆     ┆     ┆ o   ┆     ┆     ┆     ┆     ┆     ┆     ┆     ┆ Mon ┆     ┆     ┆ 036 ┆ um_ ┆ 586 ┆     │\n",
       "│     ┆     ┆     ┆     ┆     ┆     ┆     ┆     ┆     ┆     ┆     ┆     ┆     ┆ Loa ┆     ┆     ┆     ┆     ┆     ┆     ┆     ┆ ths ┆     ┆     ┆     ┆ val ┆     ┆     │\n",
       "│     ┆     ┆     ┆     ┆     ┆     ┆     ┆     ┆     ┆     ┆     ┆     ┆     ┆ n,  ┆     ┆     ┆     ┆     ┆     ┆     ┆     ┆     ┆     ┆     ┆     ┆ ue_ ┆     ┆     │\n",
       "│     ┆     ┆     ┆     ┆     ┆     ┆     ┆     ┆     ┆     ┆     ┆     ┆     ┆ and ┆     ┆     ┆     ┆     ┆     ┆     ┆     ┆     ┆     ┆     ┆     ┆ pay ┆     ┆     │\n",
       "│     ┆     ┆     ┆     ┆     ┆     ┆     ┆     ┆     ┆     ┆     ┆     ┆     ┆ Not ┆     ┆     ┆     ┆     ┆     ┆     ┆     ┆     ┆     ┆     ┆     ┆ men ┆     ┆     │\n",
       "│     ┆     ┆     ┆     ┆     ┆     ┆     ┆     ┆     ┆     ┆     ┆     ┆     ┆ …   ┆     ┆     ┆     ┆     ┆     ┆     ┆     ┆     ┆     ┆     ┆     ┆ …   ┆     ┆     │\n",
       "└─────┴─────┴─────┴─────┴─────┴─────┴─────┴─────┴─────┴─────┴─────┴─────┴─────┴─────┴─────┴─────┴─────┴─────┴─────┴─────┴─────┴─────┴─────┴─────┴─────┴─────┴─────┴─────┘"
      ]
     },
     "execution_count": 8,
     "metadata": {},
     "output_type": "execute_result"
    }
   ],
   "source": [
    "df.filter(pl.col(\"Customer_ID\") == \"CUS_0xb101\")"
   ]
  },
  {
   "cell_type": "code",
   "execution_count": 9,
   "id": "28f9bf82",
   "metadata": {},
   "outputs": [
    {
     "data": {
      "text/html": [
       "<div><style>\n",
       ".dataframe > thead > tr,\n",
       ".dataframe > tbody > tr {\n",
       "  text-align: right;\n",
       "  white-space: pre-wrap;\n",
       "}\n",
       "</style>\n",
       "<small>shape: (0, 28)</small><table border=\"1\" class=\"dataframe\"><thead><tr><th>ID</th><th>Customer_ID</th><th>Month</th><th>Name</th><th>Age</th><th>SSN</th><th>Occupation</th><th>Annual_Income</th><th>Monthly_Inhand_Salary</th><th>Num_Bank_Accounts</th><th>Num_Credit_Card</th><th>Interest_Rate</th><th>Num_of_Loan</th><th>Type_of_Loan</th><th>Delay_from_due_date</th><th>Num_of_Delayed_Payment</th><th>Changed_Credit_Limit</th><th>Num_Credit_Inquiries</th><th>Credit_Mix</th><th>Outstanding_Debt</th><th>Credit_Utilization_Ratio</th><th>Credit_History_Age</th><th>Payment_of_Min_Amount</th><th>Total_EMI_per_month</th><th>Amount_invested_monthly</th><th>Payment_Behaviour</th><th>Monthly_Balance</th><th>Credit_Score</th></tr><tr><td>str</td><td>str</td><td>str</td><td>str</td><td>str</td><td>str</td><td>str</td><td>str</td><td>f64</td><td>i64</td><td>i64</td><td>i64</td><td>str</td><td>str</td><td>i64</td><td>str</td><td>str</td><td>f64</td><td>str</td><td>str</td><td>f64</td><td>str</td><td>str</td><td>f64</td><td>str</td><td>str</td><td>str</td><td>str</td></tr></thead><tbody></tbody></table></div>"
      ],
      "text/plain": [
       "shape: (0, 28)\n",
       "┌─────┬─────┬─────┬─────┬─────┬─────┬─────┬─────┬─────┬─────┬─────┬─────┬─────┬─────┬─────┬─────┬─────┬─────┬─────┬─────┬─────┬─────┬─────┬─────┬─────┬─────┬─────┬─────┐\n",
       "│ ID  ┆ Cus ┆ Mon ┆ Nam ┆ Age ┆ SSN ┆ Occ ┆ Ann ┆ Mon ┆ Num ┆ Num ┆ Int ┆ Num ┆ Typ ┆ Del ┆ Num ┆ Cha ┆ Num ┆ Cre ┆ Out ┆ Cre ┆ Cre ┆ Pay ┆ Tot ┆ Amo ┆ Pay ┆ Mon ┆ Cre │\n",
       "│ --- ┆ tom ┆ th  ┆ e   ┆ --- ┆ --- ┆ upa ┆ ual ┆ thl ┆ _Ba ┆ _Cr ┆ ere ┆ _of ┆ e_o ┆ ay_ ┆ _of ┆ nge ┆ _Cr ┆ dit ┆ sta ┆ dit ┆ dit ┆ men ┆ al_ ┆ unt ┆ men ┆ thl ┆ dit │\n",
       "│ str ┆ er_ ┆ --- ┆ --- ┆ str ┆ str ┆ tio ┆ _In ┆ y_I ┆ nk_ ┆ edi ┆ st_ ┆ _Lo ┆ f_L ┆ fro ┆ _De ┆ d_C ┆ edi ┆ _Mi ┆ ndi ┆ _Ut ┆ _Hi ┆ t_o ┆ EMI ┆ _in ┆ t_B ┆ y_B ┆ _Sc │\n",
       "│     ┆ ID  ┆ str ┆ str ┆     ┆     ┆ n   ┆ com ┆ nha ┆ Acc ┆ t_C ┆ Rat ┆ an  ┆ oan ┆ m_d ┆ lay ┆ red ┆ t_I ┆ x   ┆ ng_ ┆ ili ┆ sto ┆ f_M ┆ _pe ┆ ves ┆ eha ┆ ala ┆ ore │\n",
       "│     ┆ --- ┆     ┆     ┆     ┆     ┆ --- ┆ e   ┆ nd_ ┆ oun ┆ ard ┆ e   ┆ --- ┆ --- ┆ ue_ ┆ ed_ ┆ it_ ┆ nqu ┆ --- ┆ Deb ┆ zat ┆ ry_ ┆ in_ ┆ r_m ┆ ted ┆ vio ┆ nce ┆ --- │\n",
       "│     ┆ str ┆     ┆     ┆     ┆     ┆ str ┆ --- ┆ Sal ┆ ts  ┆ --- ┆ --- ┆ str ┆ str ┆ dat ┆ Pay ┆ Lim ┆ iri ┆ str ┆ t   ┆ ion ┆ Age ┆ Amo ┆ ont ┆ _mo ┆ ur  ┆ --- ┆ str │\n",
       "│     ┆     ┆     ┆     ┆     ┆     ┆     ┆ str ┆ ary ┆ --- ┆ i64 ┆ i64 ┆     ┆     ┆ e   ┆ men ┆ it  ┆ es  ┆     ┆ --- ┆ _Ra ┆ --- ┆ unt ┆ h   ┆ nth ┆ --- ┆ str ┆     │\n",
       "│     ┆     ┆     ┆     ┆     ┆     ┆     ┆     ┆ --- ┆ i64 ┆     ┆     ┆     ┆     ┆ --- ┆ t   ┆ --- ┆ --- ┆     ┆ str ┆ tio ┆ str ┆ --- ┆ --- ┆ ly  ┆ str ┆     ┆     │\n",
       "│     ┆     ┆     ┆     ┆     ┆     ┆     ┆     ┆ f64 ┆     ┆     ┆     ┆     ┆     ┆ i64 ┆ --- ┆ str ┆ f64 ┆     ┆     ┆ --- ┆     ┆ str ┆ f64 ┆ --- ┆     ┆     ┆     │\n",
       "│     ┆     ┆     ┆     ┆     ┆     ┆     ┆     ┆     ┆     ┆     ┆     ┆     ┆     ┆     ┆ str ┆     ┆     ┆     ┆     ┆ f64 ┆     ┆     ┆     ┆ str ┆     ┆     ┆     │\n",
       "╞═════╪═════╪═════╪═════╪═════╪═════╪═════╪═════╪═════╪═════╪═════╪═════╪═════╪═════╪═════╪═════╪═════╪═════╪═════╪═════╪═════╪═════╪═════╪═════╪═════╪═════╪═════╪═════╡\n",
       "└─────┴─────┴─────┴─────┴─────┴─────┴─────┴─────┴─────┴─────┴─────┴─────┴─────┴─────┴─────┴─────┴─────┴─────┴─────┴─────┴─────┴─────┴─────┴─────┴─────┴─────┴─────┴─────┘"
      ]
     },
     "execution_count": 9,
     "metadata": {},
     "output_type": "execute_result"
    }
   ],
   "source": [
    "df.filter(pl.col(\"Payment_Behaviour\").is_null()).head(7)"
   ]
  },
  {
   "cell_type": "markdown",
   "id": "2d8e7fe6",
   "metadata": {},
   "source": [
    "# Data Cleaning"
   ]
  },
  {
   "cell_type": "markdown",
   "id": "6a650eab",
   "metadata": {},
   "source": [
    "### Setup"
   ]
  },
  {
   "cell_type": "code",
   "execution_count": 10,
   "id": "9e5f5521",
   "metadata": {},
   "outputs": [],
   "source": [
    "# Transform the credit history age from a sentence to a number of months\n",
    "pattern = re.compile(r\"(?P<years>\\d+) Years and (?P<months>\\d+) Months\")\n",
    "def history_to_months(history):\n",
    "\n",
    "    if history is None:\n",
    "        return None\n",
    "    \n",
    "    match = pattern.match(history)\n",
    "\n",
    "    if not match:\n",
    "        return None\n",
    "    \n",
    "    years = int(match.group(\"years\"))\n",
    "    months = int(match.group(\"months\"))\n",
    "    \n",
    "    return (years * 12) + months"
   ]
  },
  {
   "cell_type": "code",
   "execution_count": 11,
   "id": "5c402e1d",
   "metadata": {},
   "outputs": [
    {
     "data": {
      "text/plain": [
       "['Home Equity Loan',\n",
       " 'Debt Consolidation Loan',\n",
       " 'Credit-Builder Loan',\n",
       " 'Personal Loan',\n",
       " 'Auto Loan',\n",
       " 'Student Loan',\n",
       " 'Mortgage Loan',\n",
       " 'Not Specified',\n",
       " 'Payday Loan']"
      ]
     },
     "execution_count": 11,
     "metadata": {},
     "output_type": "execute_result"
    }
   ],
   "source": [
    "# Create a list of all individual loan types for encoding later\n",
    "loan_types = (df\n",
    "    .select(pl.col(\"Type_of_Loan\").str.replace_all(r\"\\band\\b\\s*\", \"\"))  # clean \"and \"\n",
    "    .select(pl.col(\"Type_of_Loan\").str.split(\",\"))                      # split into lists\n",
    "    .explode(\"Type_of_Loan\")                                            # flatten lists into rows\n",
    "    .select(pl.col(\"Type_of_Loan\").str.strip_chars())                   # strip spaces\n",
    "    .filter(pl.col(\"Type_of_Loan\") != \"\")                               # drop empties\n",
    "    .unique()\n",
    "    .to_series()\n",
    "    .to_list()\n",
    ")\n",
    "\n",
    "loan_types"
   ]
  },
  {
   "cell_type": "markdown",
   "id": "a0773743",
   "metadata": {},
   "source": [
    "### Fix Incorrect Values"
   ]
  },
  {
   "cell_type": "code",
   "execution_count": 12,
   "id": "c7970e3c",
   "metadata": {},
   "outputs": [],
   "source": [
    "# remove the underscore character, and cast to int\n",
    "df = df.with_columns([\n",
    "    pl.col(pl.String).str.strip_chars(\"_\"),\n",
    "])\n",
    "\n",
    "df = df.with_columns([\n",
    "    pl.col(pl.String).replace([\"\", \"_\", \"!@9#%8\"], None),\n",
    "])\n",
    "\n",
    "df = df.with_columns([\n",
    "    pl.col(\"Age\").cast(pl.Float64),\n",
    "    pl.col(\"Annual_Income\").cast(pl.Float64),\n",
    "    pl.col(\"Num_of_Loan\").cast(pl.Float64),\n",
    "    pl.col(\"Num_of_Delayed_Payment\").cast(pl.Float64),\n",
    "    pl.col(\"Changed_Credit_Limit\").cast(pl.Float64),\n",
    "    pl.col(\"Outstanding_Debt\").cast(pl.Float64),\n",
    "    pl.col(\"Amount_invested_monthly\").cast(pl.Float64),\n",
    "    pl.col(\"Monthly_Balance\").cast(pl.Float64),    \n",
    "\n",
    "    # Transform the credit history age to the equivalent number of months\n",
    "    pl.col(\"Credit_History_Age\")\n",
    "    .map_elements(history_to_months, return_dtype=pl.Float64),\n",
    "])\n",
    "\n",
    "df = df.with_columns([\n",
    "    pl.when((pl.col(\"Age\") < 18) | (pl.col(\"Age\") > 100))\n",
    "    .then(None)\n",
    "    .otherwise(pl.col(\"Age\"))\n",
    "    .alias(\"Age\"),\n",
    "])"
   ]
  },
  {
   "cell_type": "markdown",
   "id": "1eb95924",
   "metadata": {},
   "source": [
    "### Fill Nulls"
   ]
  },
  {
   "cell_type": "code",
   "execution_count": 13,
   "id": "eab53ac2",
   "metadata": {},
   "outputs": [],
   "source": [
    "# Impute Null values in these columns found after exploring the data\n",
    "num_cols_to_impute = [\"Num_of_Delayed_Payment\", \"Changed_Credit_Limit\", \"Num_Credit_Inquiries\", \"Credit_History_Age\", \"Amount_invested_monthly\", \"Monthly_Balance\"]\n",
    "cat_cols_to_impute = [\"Occupation\", \"Type_of_Loan\", \"Credit_Mix\", \"Payment_Behaviour\"]"
   ]
  },
  {
   "cell_type": "code",
   "execution_count": 14,
   "id": "45aad907",
   "metadata": {},
   "outputs": [],
   "source": [
    "# Calculates Median per numerical column per customer\n",
    "num_impute = (\n",
    "    df.group_by(\"Customer_ID\")\n",
    "      .median()\n",
    "      .select([\"Customer_ID\"] + num_cols_to_impute)\n",
    ")\n",
    "\n",
    "cat_imputes = [\n",
    "    df.group_by(\"Customer_ID\")\n",
    "      .agg(\n",
    "          pl.col(col).drop_nulls().mode().first().alias(f\"{col}_mode\")\n",
    "      )\n",
    "    for col in cat_cols_to_impute\n",
    "]"
   ]
  },
  {
   "cell_type": "code",
   "execution_count": 15,
   "id": "a1e0f90b",
   "metadata": {},
   "outputs": [],
   "source": [
    "df = df.join(num_impute, on=\"Customer_ID\", how=\"left\", suffix=\"_median\")\n",
    "\n",
    "for impute in cat_imputes:\n",
    "    df = df.join(impute, on=\"Customer_ID\", how=\"left\", suffix=\"_mode\")\n",
    "\n",
    "df = df.with_columns(\n",
    "   pl.coalesce([pl.col(col), pl.col(f\"{col}_median\")]).alias(col)\n",
    "    for col in num_cols_to_impute\n",
    ")\n",
    "\n",
    "df = df.with_columns([\n",
    "    pl.coalesce([pl.col(col), pl.col(f\"{col}_mode\")]).alias(col)\n",
    "    for col in cat_cols_to_impute\n",
    "])"
   ]
  },
  {
   "cell_type": "code",
   "execution_count": 16,
   "id": "cc200125",
   "metadata": {},
   "outputs": [],
   "source": [
    "# Calculate the median age per occupation to fill empty values\n",
    "median_age_per_occ = (\n",
    "    df.group_by(\"Occupation\")\n",
    "    .agg(pl.col(\"Age\").median().alias(\"median_age_per_occ\"))\n",
    ")\n",
    "\n",
    "# Join medians back to original df\n",
    "df = df.join(median_age_per_occ, on=\"Occupation\", how=\"left\")\n",
    "\n",
    "df = df.with_columns([\n",
    "    # Impute using the median age per occupation \n",
    "    # Coalesce did not work fully for some reason\n",
    "    pl.coalesce([pl.col(\"Age\"), pl.col(\"median_age_per_occ\")])\n",
    "    .cast(pl.Float64)\n",
    "    .alias(\"Age\"),\n",
    "\n",
    "    # Impute using the Annual Income to calculate an approximate of the monthly salary\n",
    "    pl.when(pl.col(\"Monthly_Inhand_Salary\").is_null())\n",
    "    .then(pl.col(\"Annual_Income\") / 12)\n",
    "    .otherwise(pl.col(\"Monthly_Inhand_Salary\"))\n",
    "    .alias(\"Monthly_Inhand_Salary\"), \n",
    "])"
   ]
  },
  {
   "cell_type": "code",
   "execution_count": 17,
   "id": "62333346",
   "metadata": {},
   "outputs": [],
   "source": [
    "# Since some people have no loans, the type of loan is None across all its values\n",
    "# fill with empty string for encoding\n",
    "df = df.with_columns([\n",
    "    pl.col(\"Type_of_Loan\").fill_null(\"\")\n",
    "])"
   ]
  },
  {
   "cell_type": "markdown",
   "id": "8bfa35d2",
   "metadata": {},
   "source": [
    "### Encoding Mixed-Value Column"
   ]
  },
  {
   "cell_type": "code",
   "execution_count": 18,
   "id": "6b23de96",
   "metadata": {},
   "outputs": [],
   "source": [
    "# Multi-Hot encoding the Type of Loan\n",
    "df = df.with_columns([\n",
    "    pl.col(\"Type_of_Loan\")\n",
    "      .str.contains(rf\"\\b{loan}\\b\")\n",
    "      .cast(pl.Int8)\n",
    "      .alias(f\"Loan_{loan.replace('-', '').replace(' ', '_')}\")\n",
    "    for loan in loan_types\n",
    "])"
   ]
  },
  {
   "cell_type": "markdown",
   "id": "0dad7f37",
   "metadata": {},
   "source": [
    "### Dropping Unneeded columns"
   ]
  },
  {
   "cell_type": "code",
   "execution_count": 18,
   "id": "2a737570",
   "metadata": {},
   "outputs": [],
   "source": [
    "# Drop the ID columns since theyre no longer needed, type of loan since its been encoded, and any temporary cols created\n",
    "cols_to_drop = [\"ID\", \"Customer_ID\", \"Name\", \"SSN\", \"Type_of_Loan\", \"median_age_per_occ\"]\n",
    "\n",
    "# drop the temporary imputation columns\n",
    "for col in num_cols_to_impute:\n",
    "    cols_to_drop.append(f\"{col}_median\")\n",
    "for col in cat_cols_to_impute:\n",
    "    cols_to_drop.append(f\"{col}_mode\")\n",
    "\n",
    "df = df.drop(cols_to_drop)"
   ]
  },
  {
   "cell_type": "code",
   "execution_count": 17,
   "id": "aea2442e",
   "metadata": {},
   "outputs": [
    {
     "data": {
      "text/html": [
       "<div><style>\n",
       ".dataframe > thead > tr,\n",
       ".dataframe > tbody > tr {\n",
       "  text-align: right;\n",
       "  white-space: pre-wrap;\n",
       "}\n",
       "</style>\n",
       "<small>shape: (5, 32)</small><table border=\"1\" class=\"dataframe\"><thead><tr><th>Month</th><th>Age</th><th>Occupation</th><th>Annual_Income</th><th>Monthly_Inhand_Salary</th><th>Num_Bank_Accounts</th><th>Num_Credit_Card</th><th>Interest_Rate</th><th>Num_of_Loan</th><th>Delay_from_due_date</th><th>Num_of_Delayed_Payment</th><th>Changed_Credit_Limit</th><th>Num_Credit_Inquiries</th><th>Credit_Mix</th><th>Outstanding_Debt</th><th>Credit_Utilization_Ratio</th><th>Credit_History_Age</th><th>Payment_of_Min_Amount</th><th>Total_EMI_per_month</th><th>Amount_invested_monthly</th><th>Payment_Behaviour</th><th>Monthly_Balance</th><th>Credit_Score</th><th>Loan_CreditBuilder_Loan</th><th>Loan_Not_Specified</th><th>Loan_Auto_Loan</th><th>Loan_Mortgage_Loan</th><th>Loan_Debt_Consolidation_Loan</th><th>Loan_Student_Loan</th><th>Loan_Home_Equity_Loan</th><th>Loan_Personal_Loan</th><th>Loan_Payday_Loan</th></tr><tr><td>str</td><td>i64</td><td>str</td><td>f64</td><td>f64</td><td>i64</td><td>i64</td><td>i64</td><td>i64</td><td>i64</td><td>f64</td><td>f64</td><td>f64</td><td>str</td><td>f64</td><td>f64</td><td>f64</td><td>str</td><td>f64</td><td>f64</td><td>str</td><td>f64</td><td>str</td><td>i8</td><td>i8</td><td>i8</td><td>i8</td><td>i8</td><td>i8</td><td>i8</td><td>i8</td><td>i8</td></tr></thead><tbody><tr><td>&quot;January&quot;</td><td>23</td><td>&quot;Scientist&quot;</td><td>19114.12</td><td>1824.843333</td><td>3</td><td>4</td><td>3</td><td>4</td><td>3</td><td>7.0</td><td>11.27</td><td>4.0</td><td>&quot;Good&quot;</td><td>809.98</td><td>26.82262</td><td>265.0</td><td>&quot;No&quot;</td><td>49.574949</td><td>80.415295</td><td>&quot;High_spent_Small_value_payment…</td><td>312.494089</td><td>&quot;Good&quot;</td><td>1</td><td>0</td><td>1</td><td>0</td><td>0</td><td>0</td><td>1</td><td>1</td><td>0</td></tr><tr><td>&quot;February&quot;</td><td>23</td><td>&quot;Scientist&quot;</td><td>19114.12</td><td>1592.843333</td><td>3</td><td>4</td><td>3</td><td>4</td><td>-1</td><td>6.5</td><td>11.27</td><td>4.0</td><td>&quot;Good&quot;</td><td>809.98</td><td>31.94496</td><td>268.5</td><td>&quot;No&quot;</td><td>49.574949</td><td>118.280222</td><td>&quot;Low_spent_Large_value_payments&quot;</td><td>284.629162</td><td>&quot;Good&quot;</td><td>1</td><td>0</td><td>1</td><td>0</td><td>0</td><td>0</td><td>1</td><td>1</td><td>0</td></tr><tr><td>&quot;March&quot;</td><td>34</td><td>&quot;Scientist&quot;</td><td>19114.12</td><td>1592.843333</td><td>3</td><td>4</td><td>3</td><td>4</td><td>3</td><td>7.0</td><td>11.27</td><td>4.0</td><td>&quot;Good&quot;</td><td>809.98</td><td>28.609352</td><td>267.0</td><td>&quot;No&quot;</td><td>49.574949</td><td>81.699521</td><td>&quot;Low_spent_Medium_value_payment…</td><td>331.209863</td><td>&quot;Good&quot;</td><td>1</td><td>0</td><td>1</td><td>0</td><td>0</td><td>0</td><td>1</td><td>1</td><td>0</td></tr><tr><td>&quot;April&quot;</td><td>23</td><td>&quot;Scientist&quot;</td><td>19114.12</td><td>1592.843333</td><td>3</td><td>4</td><td>3</td><td>4</td><td>5</td><td>4.0</td><td>6.27</td><td>4.0</td><td>&quot;Good&quot;</td><td>809.98</td><td>31.377862</td><td>268.0</td><td>&quot;No&quot;</td><td>49.574949</td><td>199.458074</td><td>&quot;Low_spent_Small_value_payments&quot;</td><td>223.45131</td><td>&quot;Good&quot;</td><td>1</td><td>0</td><td>1</td><td>0</td><td>0</td><td>0</td><td>1</td><td>1</td><td>0</td></tr><tr><td>&quot;May&quot;</td><td>23</td><td>&quot;Scientist&quot;</td><td>19114.12</td><td>1824.843333</td><td>3</td><td>4</td><td>3</td><td>4</td><td>6</td><td>6.5</td><td>11.27</td><td>4.0</td><td>&quot;Good&quot;</td><td>809.98</td><td>24.797347</td><td>269.0</td><td>&quot;No&quot;</td><td>49.574949</td><td>41.420153</td><td>&quot;High_spent_Medium_value_paymen…</td><td>341.489231</td><td>&quot;Good&quot;</td><td>1</td><td>0</td><td>1</td><td>0</td><td>0</td><td>0</td><td>1</td><td>1</td><td>0</td></tr></tbody></table></div>"
      ],
      "text/plain": [
       "shape: (5, 32)\n",
       "┌─────┬─────┬─────┬─────┬─────┬─────┬─────┬─────┬─────┬─────┬─────┬─────┬─────┬─────┬─────┬─────┬─────┬─────┬─────┬─────┬─────┬─────┬─────┬─────┬─────┬─────┬─────┬─────┬─────┬─────┬─────┬─────┐\n",
       "│ Mon ┆ Age ┆ Occ ┆ Ann ┆ Mon ┆ Num ┆ Num ┆ Int ┆ Num ┆ Del ┆ Num ┆ Cha ┆ Num ┆ Cre ┆ Out ┆ Cre ┆ Cre ┆ Pay ┆ Tot ┆ Amo ┆ Pay ┆ Mon ┆ Cre ┆ Loa ┆ Loa ┆ Loa ┆ Loa ┆ Loa ┆ Loa ┆ Loa ┆ Loa ┆ Loa │\n",
       "│ th  ┆ --- ┆ upa ┆ ual ┆ thl ┆ _Ba ┆ _Cr ┆ ere ┆ _of ┆ ay_ ┆ _of ┆ nge ┆ _Cr ┆ dit ┆ sta ┆ dit ┆ dit ┆ men ┆ al_ ┆ unt ┆ men ┆ thl ┆ dit ┆ n_C ┆ n_N ┆ n_A ┆ n_M ┆ n_D ┆ n_S ┆ n_H ┆ n_P ┆ n_P │\n",
       "│ --- ┆ i64 ┆ tio ┆ _In ┆ y_I ┆ nk_ ┆ edi ┆ st_ ┆ _Lo ┆ fro ┆ _De ┆ d_C ┆ edi ┆ _Mi ┆ ndi ┆ _Ut ┆ _Hi ┆ t_o ┆ EMI ┆ _in ┆ t_B ┆ y_B ┆ _Sc ┆ red ┆ ot_ ┆ uto ┆ ort ┆ ebt ┆ tud ┆ ome ┆ ers ┆ ayd │\n",
       "│ str ┆     ┆ n   ┆ com ┆ nha ┆ Acc ┆ t_C ┆ Rat ┆ an  ┆ m_d ┆ lay ┆ red ┆ t_I ┆ x   ┆ ng_ ┆ ili ┆ sto ┆ f_M ┆ _pe ┆ ves ┆ eha ┆ ala ┆ ore ┆ itB ┆ Spe ┆ _Lo ┆ gag ┆ _Co ┆ ent ┆ _Eq ┆ ona ┆ ay_ │\n",
       "│     ┆     ┆ --- ┆ e   ┆ nd_ ┆ oun ┆ ard ┆ e   ┆ --- ┆ ue_ ┆ ed_ ┆ it_ ┆ nqu ┆ --- ┆ Deb ┆ zat ┆ ry_ ┆ in_ ┆ r_m ┆ ted ┆ vio ┆ nce ┆ --- ┆ uil ┆ cif ┆ an  ┆ e_L ┆ nso ┆ _Lo ┆ uit ┆ l_L ┆ Loa │\n",
       "│     ┆     ┆ str ┆ --- ┆ Sal ┆ ts  ┆ --- ┆ --- ┆ i64 ┆ dat ┆ Pay ┆ Lim ┆ iri ┆ str ┆ t   ┆ ion ┆ Age ┆ Amo ┆ ont ┆ _mo ┆ ur  ┆ --- ┆ str ┆ der ┆ ied ┆ --- ┆ oan ┆ lid ┆ an  ┆ y_L ┆ oan ┆ n   │\n",
       "│     ┆     ┆     ┆ f64 ┆ ary ┆ --- ┆ i64 ┆ i64 ┆     ┆ e   ┆ men ┆ it  ┆ es  ┆     ┆ --- ┆ _Ra ┆ --- ┆ unt ┆ h   ┆ nth ┆ --- ┆ f64 ┆     ┆ _Lo ┆ --- ┆ i8  ┆ --- ┆ ati ┆ --- ┆ oan ┆ --- ┆ --- │\n",
       "│     ┆     ┆     ┆     ┆ --- ┆ i64 ┆     ┆     ┆     ┆ --- ┆ t   ┆ --- ┆ --- ┆     ┆ f64 ┆ tio ┆ f64 ┆ --- ┆ --- ┆ ly  ┆ str ┆     ┆     ┆ an  ┆ i8  ┆     ┆ i8  ┆ on_ ┆ i8  ┆ --- ┆ i8  ┆ i8  │\n",
       "│     ┆     ┆     ┆     ┆ f64 ┆     ┆     ┆     ┆     ┆ i64 ┆ --- ┆ f64 ┆ f64 ┆     ┆     ┆ --- ┆     ┆ str ┆ f64 ┆ --- ┆     ┆     ┆     ┆ --- ┆     ┆     ┆     ┆ Loa ┆     ┆ i8  ┆     ┆     │\n",
       "│     ┆     ┆     ┆     ┆     ┆     ┆     ┆     ┆     ┆     ┆ f64 ┆     ┆     ┆     ┆     ┆ f64 ┆     ┆     ┆     ┆ f64 ┆     ┆     ┆     ┆ i8  ┆     ┆     ┆     ┆ n   ┆     ┆     ┆     ┆     │\n",
       "│     ┆     ┆     ┆     ┆     ┆     ┆     ┆     ┆     ┆     ┆     ┆     ┆     ┆     ┆     ┆     ┆     ┆     ┆     ┆     ┆     ┆     ┆     ┆     ┆     ┆     ┆     ┆ --- ┆     ┆     ┆     ┆     │\n",
       "│     ┆     ┆     ┆     ┆     ┆     ┆     ┆     ┆     ┆     ┆     ┆     ┆     ┆     ┆     ┆     ┆     ┆     ┆     ┆     ┆     ┆     ┆     ┆     ┆     ┆     ┆     ┆ i8  ┆     ┆     ┆     ┆     │\n",
       "╞═════╪═════╪═════╪═════╪═════╪═════╪═════╪═════╪═════╪═════╪═════╪═════╪═════╪═════╪═════╪═════╪═════╪═════╪═════╪═════╪═════╪═════╪═════╪═════╪═════╪═════╪═════╪═════╪═════╪═════╪═════╪═════╡\n",
       "│ Jan ┆ 23  ┆ Sci ┆ 191 ┆ 182 ┆ 3   ┆ 4   ┆ 3   ┆ 4   ┆ 3   ┆ 7.0 ┆ 11. ┆ 4.0 ┆ Goo ┆ 809 ┆ 26. ┆ 265 ┆ No  ┆ 49. ┆ 80. ┆ Hig ┆ 312 ┆ Goo ┆ 1   ┆ 0   ┆ 1   ┆ 0   ┆ 0   ┆ 0   ┆ 1   ┆ 1   ┆ 0   │\n",
       "│ uar ┆     ┆ ent ┆ 14. ┆ 4.8 ┆     ┆     ┆     ┆     ┆     ┆     ┆ 27  ┆     ┆ d   ┆ .98 ┆ 822 ┆ .0  ┆     ┆ 574 ┆ 415 ┆ h_s ┆ .49 ┆ d   ┆     ┆     ┆     ┆     ┆     ┆     ┆     ┆     ┆     │\n",
       "│ y   ┆     ┆ ist ┆ 12  ┆ 433 ┆     ┆     ┆     ┆     ┆     ┆     ┆     ┆     ┆     ┆     ┆ 62  ┆     ┆     ┆ 949 ┆ 295 ┆ pen ┆ 408 ┆     ┆     ┆     ┆     ┆     ┆     ┆     ┆     ┆     ┆     │\n",
       "│     ┆     ┆     ┆     ┆ 33  ┆     ┆     ┆     ┆     ┆     ┆     ┆     ┆     ┆     ┆     ┆     ┆     ┆     ┆     ┆     ┆ t_S ┆ 9   ┆     ┆     ┆     ┆     ┆     ┆     ┆     ┆     ┆     ┆     │\n",
       "│     ┆     ┆     ┆     ┆     ┆     ┆     ┆     ┆     ┆     ┆     ┆     ┆     ┆     ┆     ┆     ┆     ┆     ┆     ┆     ┆ mal ┆     ┆     ┆     ┆     ┆     ┆     ┆     ┆     ┆     ┆     ┆     │\n",
       "│     ┆     ┆     ┆     ┆     ┆     ┆     ┆     ┆     ┆     ┆     ┆     ┆     ┆     ┆     ┆     ┆     ┆     ┆     ┆     ┆ l_v ┆     ┆     ┆     ┆     ┆     ┆     ┆     ┆     ┆     ┆     ┆     │\n",
       "│     ┆     ┆     ┆     ┆     ┆     ┆     ┆     ┆     ┆     ┆     ┆     ┆     ┆     ┆     ┆     ┆     ┆     ┆     ┆     ┆ alu ┆     ┆     ┆     ┆     ┆     ┆     ┆     ┆     ┆     ┆     ┆     │\n",
       "│     ┆     ┆     ┆     ┆     ┆     ┆     ┆     ┆     ┆     ┆     ┆     ┆     ┆     ┆     ┆     ┆     ┆     ┆     ┆     ┆ e_p ┆     ┆     ┆     ┆     ┆     ┆     ┆     ┆     ┆     ┆     ┆     │\n",
       "│     ┆     ┆     ┆     ┆     ┆     ┆     ┆     ┆     ┆     ┆     ┆     ┆     ┆     ┆     ┆     ┆     ┆     ┆     ┆     ┆ aym ┆     ┆     ┆     ┆     ┆     ┆     ┆     ┆     ┆     ┆     ┆     │\n",
       "│     ┆     ┆     ┆     ┆     ┆     ┆     ┆     ┆     ┆     ┆     ┆     ┆     ┆     ┆     ┆     ┆     ┆     ┆     ┆     ┆ ent ┆     ┆     ┆     ┆     ┆     ┆     ┆     ┆     ┆     ┆     ┆     │\n",
       "│     ┆     ┆     ┆     ┆     ┆     ┆     ┆     ┆     ┆     ┆     ┆     ┆     ┆     ┆     ┆     ┆     ┆     ┆     ┆     ┆ …   ┆     ┆     ┆     ┆     ┆     ┆     ┆     ┆     ┆     ┆     ┆     │\n",
       "│ Feb ┆ 23  ┆ Sci ┆ 191 ┆ 159 ┆ 3   ┆ 4   ┆ 3   ┆ 4   ┆ -1  ┆ 6.5 ┆ 11. ┆ 4.0 ┆ Goo ┆ 809 ┆ 31. ┆ 268 ┆ No  ┆ 49. ┆ 118 ┆ Low ┆ 284 ┆ Goo ┆ 1   ┆ 0   ┆ 1   ┆ 0   ┆ 0   ┆ 0   ┆ 1   ┆ 1   ┆ 0   │\n",
       "│ rua ┆     ┆ ent ┆ 14. ┆ 2.8 ┆     ┆     ┆     ┆     ┆     ┆     ┆ 27  ┆     ┆ d   ┆ .98 ┆ 944 ┆ .5  ┆     ┆ 574 ┆ .28 ┆ _sp ┆ .62 ┆ d   ┆     ┆     ┆     ┆     ┆     ┆     ┆     ┆     ┆     │\n",
       "│ ry  ┆     ┆ ist ┆ 12  ┆ 433 ┆     ┆     ┆     ┆     ┆     ┆     ┆     ┆     ┆     ┆     ┆ 96  ┆     ┆     ┆ 949 ┆ 022 ┆ ent ┆ 916 ┆     ┆     ┆     ┆     ┆     ┆     ┆     ┆     ┆     ┆     │\n",
       "│     ┆     ┆     ┆     ┆ 33  ┆     ┆     ┆     ┆     ┆     ┆     ┆     ┆     ┆     ┆     ┆     ┆     ┆     ┆     ┆ 2   ┆ _La ┆ 2   ┆     ┆     ┆     ┆     ┆     ┆     ┆     ┆     ┆     ┆     │\n",
       "│     ┆     ┆     ┆     ┆     ┆     ┆     ┆     ┆     ┆     ┆     ┆     ┆     ┆     ┆     ┆     ┆     ┆     ┆     ┆     ┆ rge ┆     ┆     ┆     ┆     ┆     ┆     ┆     ┆     ┆     ┆     ┆     │\n",
       "│     ┆     ┆     ┆     ┆     ┆     ┆     ┆     ┆     ┆     ┆     ┆     ┆     ┆     ┆     ┆     ┆     ┆     ┆     ┆     ┆ _va ┆     ┆     ┆     ┆     ┆     ┆     ┆     ┆     ┆     ┆     ┆     │\n",
       "│     ┆     ┆     ┆     ┆     ┆     ┆     ┆     ┆     ┆     ┆     ┆     ┆     ┆     ┆     ┆     ┆     ┆     ┆     ┆     ┆ lue ┆     ┆     ┆     ┆     ┆     ┆     ┆     ┆     ┆     ┆     ┆     │\n",
       "│     ┆     ┆     ┆     ┆     ┆     ┆     ┆     ┆     ┆     ┆     ┆     ┆     ┆     ┆     ┆     ┆     ┆     ┆     ┆     ┆ _pa ┆     ┆     ┆     ┆     ┆     ┆     ┆     ┆     ┆     ┆     ┆     │\n",
       "│     ┆     ┆     ┆     ┆     ┆     ┆     ┆     ┆     ┆     ┆     ┆     ┆     ┆     ┆     ┆     ┆     ┆     ┆     ┆     ┆ yme ┆     ┆     ┆     ┆     ┆     ┆     ┆     ┆     ┆     ┆     ┆     │\n",
       "│     ┆     ┆     ┆     ┆     ┆     ┆     ┆     ┆     ┆     ┆     ┆     ┆     ┆     ┆     ┆     ┆     ┆     ┆     ┆     ┆ nts ┆     ┆     ┆     ┆     ┆     ┆     ┆     ┆     ┆     ┆     ┆     │\n",
       "│ Mar ┆ 34  ┆ Sci ┆ 191 ┆ 159 ┆ 3   ┆ 4   ┆ 3   ┆ 4   ┆ 3   ┆ 7.0 ┆ 11. ┆ 4.0 ┆ Goo ┆ 809 ┆ 28. ┆ 267 ┆ No  ┆ 49. ┆ 81. ┆ Low ┆ 331 ┆ Goo ┆ 1   ┆ 0   ┆ 1   ┆ 0   ┆ 0   ┆ 0   ┆ 1   ┆ 1   ┆ 0   │\n",
       "│ ch  ┆     ┆ ent ┆ 14. ┆ 2.8 ┆     ┆     ┆     ┆     ┆     ┆     ┆ 27  ┆     ┆ d   ┆ .98 ┆ 609 ┆ .0  ┆     ┆ 574 ┆ 699 ┆ _sp ┆ .20 ┆ d   ┆     ┆     ┆     ┆     ┆     ┆     ┆     ┆     ┆     │\n",
       "│     ┆     ┆ ist ┆ 12  ┆ 433 ┆     ┆     ┆     ┆     ┆     ┆     ┆     ┆     ┆     ┆     ┆ 352 ┆     ┆     ┆ 949 ┆ 521 ┆ ent ┆ 986 ┆     ┆     ┆     ┆     ┆     ┆     ┆     ┆     ┆     ┆     │\n",
       "│     ┆     ┆     ┆     ┆ 33  ┆     ┆     ┆     ┆     ┆     ┆     ┆     ┆     ┆     ┆     ┆     ┆     ┆     ┆     ┆     ┆ _Me ┆ 3   ┆     ┆     ┆     ┆     ┆     ┆     ┆     ┆     ┆     ┆     │\n",
       "│     ┆     ┆     ┆     ┆     ┆     ┆     ┆     ┆     ┆     ┆     ┆     ┆     ┆     ┆     ┆     ┆     ┆     ┆     ┆     ┆ diu ┆     ┆     ┆     ┆     ┆     ┆     ┆     ┆     ┆     ┆     ┆     │\n",
       "│     ┆     ┆     ┆     ┆     ┆     ┆     ┆     ┆     ┆     ┆     ┆     ┆     ┆     ┆     ┆     ┆     ┆     ┆     ┆     ┆ m_v ┆     ┆     ┆     ┆     ┆     ┆     ┆     ┆     ┆     ┆     ┆     │\n",
       "│     ┆     ┆     ┆     ┆     ┆     ┆     ┆     ┆     ┆     ┆     ┆     ┆     ┆     ┆     ┆     ┆     ┆     ┆     ┆     ┆ alu ┆     ┆     ┆     ┆     ┆     ┆     ┆     ┆     ┆     ┆     ┆     │\n",
       "│     ┆     ┆     ┆     ┆     ┆     ┆     ┆     ┆     ┆     ┆     ┆     ┆     ┆     ┆     ┆     ┆     ┆     ┆     ┆     ┆ e_p ┆     ┆     ┆     ┆     ┆     ┆     ┆     ┆     ┆     ┆     ┆     │\n",
       "│     ┆     ┆     ┆     ┆     ┆     ┆     ┆     ┆     ┆     ┆     ┆     ┆     ┆     ┆     ┆     ┆     ┆     ┆     ┆     ┆ aym ┆     ┆     ┆     ┆     ┆     ┆     ┆     ┆     ┆     ┆     ┆     │\n",
       "│     ┆     ┆     ┆     ┆     ┆     ┆     ┆     ┆     ┆     ┆     ┆     ┆     ┆     ┆     ┆     ┆     ┆     ┆     ┆     ┆ ent ┆     ┆     ┆     ┆     ┆     ┆     ┆     ┆     ┆     ┆     ┆     │\n",
       "│     ┆     ┆     ┆     ┆     ┆     ┆     ┆     ┆     ┆     ┆     ┆     ┆     ┆     ┆     ┆     ┆     ┆     ┆     ┆     ┆ …   ┆     ┆     ┆     ┆     ┆     ┆     ┆     ┆     ┆     ┆     ┆     │\n",
       "│ Apr ┆ 23  ┆ Sci ┆ 191 ┆ 159 ┆ 3   ┆ 4   ┆ 3   ┆ 4   ┆ 5   ┆ 4.0 ┆ 6.2 ┆ 4.0 ┆ Goo ┆ 809 ┆ 31. ┆ 268 ┆ No  ┆ 49. ┆ 199 ┆ Low ┆ 223 ┆ Goo ┆ 1   ┆ 0   ┆ 1   ┆ 0   ┆ 0   ┆ 0   ┆ 1   ┆ 1   ┆ 0   │\n",
       "│ il  ┆     ┆ ent ┆ 14. ┆ 2.8 ┆     ┆     ┆     ┆     ┆     ┆     ┆ 7   ┆     ┆ d   ┆ .98 ┆ 377 ┆ .0  ┆     ┆ 574 ┆ .45 ┆ _sp ┆ .45 ┆ d   ┆     ┆     ┆     ┆     ┆     ┆     ┆     ┆     ┆     │\n",
       "│     ┆     ┆ ist ┆ 12  ┆ 433 ┆     ┆     ┆     ┆     ┆     ┆     ┆     ┆     ┆     ┆     ┆ 862 ┆     ┆     ┆ 949 ┆ 807 ┆ ent ┆ 131 ┆     ┆     ┆     ┆     ┆     ┆     ┆     ┆     ┆     ┆     │\n",
       "│     ┆     ┆     ┆     ┆ 33  ┆     ┆     ┆     ┆     ┆     ┆     ┆     ┆     ┆     ┆     ┆     ┆     ┆     ┆     ┆ 4   ┆ _Sm ┆     ┆     ┆     ┆     ┆     ┆     ┆     ┆     ┆     ┆     ┆     │\n",
       "│     ┆     ┆     ┆     ┆     ┆     ┆     ┆     ┆     ┆     ┆     ┆     ┆     ┆     ┆     ┆     ┆     ┆     ┆     ┆     ┆ all ┆     ┆     ┆     ┆     ┆     ┆     ┆     ┆     ┆     ┆     ┆     │\n",
       "│     ┆     ┆     ┆     ┆     ┆     ┆     ┆     ┆     ┆     ┆     ┆     ┆     ┆     ┆     ┆     ┆     ┆     ┆     ┆     ┆ _va ┆     ┆     ┆     ┆     ┆     ┆     ┆     ┆     ┆     ┆     ┆     │\n",
       "│     ┆     ┆     ┆     ┆     ┆     ┆     ┆     ┆     ┆     ┆     ┆     ┆     ┆     ┆     ┆     ┆     ┆     ┆     ┆     ┆ lue ┆     ┆     ┆     ┆     ┆     ┆     ┆     ┆     ┆     ┆     ┆     │\n",
       "│     ┆     ┆     ┆     ┆     ┆     ┆     ┆     ┆     ┆     ┆     ┆     ┆     ┆     ┆     ┆     ┆     ┆     ┆     ┆     ┆ _pa ┆     ┆     ┆     ┆     ┆     ┆     ┆     ┆     ┆     ┆     ┆     │\n",
       "│     ┆     ┆     ┆     ┆     ┆     ┆     ┆     ┆     ┆     ┆     ┆     ┆     ┆     ┆     ┆     ┆     ┆     ┆     ┆     ┆ yme ┆     ┆     ┆     ┆     ┆     ┆     ┆     ┆     ┆     ┆     ┆     │\n",
       "│     ┆     ┆     ┆     ┆     ┆     ┆     ┆     ┆     ┆     ┆     ┆     ┆     ┆     ┆     ┆     ┆     ┆     ┆     ┆     ┆ nts ┆     ┆     ┆     ┆     ┆     ┆     ┆     ┆     ┆     ┆     ┆     │\n",
       "│ May ┆ 23  ┆ Sci ┆ 191 ┆ 182 ┆ 3   ┆ 4   ┆ 3   ┆ 4   ┆ 6   ┆ 6.5 ┆ 11. ┆ 4.0 ┆ Goo ┆ 809 ┆ 24. ┆ 269 ┆ No  ┆ 49. ┆ 41. ┆ Hig ┆ 341 ┆ Goo ┆ 1   ┆ 0   ┆ 1   ┆ 0   ┆ 0   ┆ 0   ┆ 1   ┆ 1   ┆ 0   │\n",
       "│     ┆     ┆ ent ┆ 14. ┆ 4.8 ┆     ┆     ┆     ┆     ┆     ┆     ┆ 27  ┆     ┆ d   ┆ .98 ┆ 797 ┆ .0  ┆     ┆ 574 ┆ 420 ┆ h_s ┆ .48 ┆ d   ┆     ┆     ┆     ┆     ┆     ┆     ┆     ┆     ┆     │\n",
       "│     ┆     ┆ ist ┆ 12  ┆ 433 ┆     ┆     ┆     ┆     ┆     ┆     ┆     ┆     ┆     ┆     ┆ 347 ┆     ┆     ┆ 949 ┆ 153 ┆ pen ┆ 923 ┆     ┆     ┆     ┆     ┆     ┆     ┆     ┆     ┆     ┆     │\n",
       "│     ┆     ┆     ┆     ┆ 33  ┆     ┆     ┆     ┆     ┆     ┆     ┆     ┆     ┆     ┆     ┆     ┆     ┆     ┆     ┆     ┆ t_M ┆ 1   ┆     ┆     ┆     ┆     ┆     ┆     ┆     ┆     ┆     ┆     │\n",
       "│     ┆     ┆     ┆     ┆     ┆     ┆     ┆     ┆     ┆     ┆     ┆     ┆     ┆     ┆     ┆     ┆     ┆     ┆     ┆     ┆ edi ┆     ┆     ┆     ┆     ┆     ┆     ┆     ┆     ┆     ┆     ┆     │\n",
       "│     ┆     ┆     ┆     ┆     ┆     ┆     ┆     ┆     ┆     ┆     ┆     ┆     ┆     ┆     ┆     ┆     ┆     ┆     ┆     ┆ um_ ┆     ┆     ┆     ┆     ┆     ┆     ┆     ┆     ┆     ┆     ┆     │\n",
       "│     ┆     ┆     ┆     ┆     ┆     ┆     ┆     ┆     ┆     ┆     ┆     ┆     ┆     ┆     ┆     ┆     ┆     ┆     ┆     ┆ val ┆     ┆     ┆     ┆     ┆     ┆     ┆     ┆     ┆     ┆     ┆     │\n",
       "│     ┆     ┆     ┆     ┆     ┆     ┆     ┆     ┆     ┆     ┆     ┆     ┆     ┆     ┆     ┆     ┆     ┆     ┆     ┆     ┆ ue_ ┆     ┆     ┆     ┆     ┆     ┆     ┆     ┆     ┆     ┆     ┆     │\n",
       "│     ┆     ┆     ┆     ┆     ┆     ┆     ┆     ┆     ┆     ┆     ┆     ┆     ┆     ┆     ┆     ┆     ┆     ┆     ┆     ┆ pay ┆     ┆     ┆     ┆     ┆     ┆     ┆     ┆     ┆     ┆     ┆     │\n",
       "│     ┆     ┆     ┆     ┆     ┆     ┆     ┆     ┆     ┆     ┆     ┆     ┆     ┆     ┆     ┆     ┆     ┆     ┆     ┆     ┆ men ┆     ┆     ┆     ┆     ┆     ┆     ┆     ┆     ┆     ┆     ┆     │\n",
       "│     ┆     ┆     ┆     ┆     ┆     ┆     ┆     ┆     ┆     ┆     ┆     ┆     ┆     ┆     ┆     ┆     ┆     ┆     ┆     ┆ …   ┆     ┆     ┆     ┆     ┆     ┆     ┆     ┆     ┆     ┆     ┆     │\n",
       "└─────┴─────┴─────┴─────┴─────┴─────┴─────┴─────┴─────┴─────┴─────┴─────┴─────┴─────┴─────┴─────┴─────┴─────┴─────┴─────┴─────┴─────┴─────┴─────┴─────┴─────┴─────┴─────┴─────┴─────┴─────┴─────┘"
      ]
     },
     "execution_count": 17,
     "metadata": {},
     "output_type": "execute_result"
    }
   ],
   "source": [
    "df.head()"
   ]
  },
  {
   "cell_type": "code",
   "execution_count": 13,
   "id": "053586ae",
   "metadata": {},
   "outputs": [
    {
     "data": {
      "text/plain": [
       "Schema([('Month', String),\n",
       "        ('Age', Int64),\n",
       "        ('Occupation', String),\n",
       "        ('Annual_Income', Float64),\n",
       "        ('Monthly_Inhand_Salary', Float64),\n",
       "        ('Num_Bank_Accounts', Int64),\n",
       "        ('Num_Credit_Card', Int64),\n",
       "        ('Interest_Rate', Int64),\n",
       "        ('Num_of_Loan', Int64),\n",
       "        ('Type_of_Loan', String),\n",
       "        ('Delay_from_due_date', Int64),\n",
       "        ('Num_of_Delayed_Payment', Int64),\n",
       "        ('Changed_Credit_Limit', Float64),\n",
       "        ('Num_Credit_Inquiries', Float64),\n",
       "        ('Credit_Mix', String),\n",
       "        ('Outstanding_Debt', Float64),\n",
       "        ('Credit_Utilization_Ratio', Float64),\n",
       "        ('Credit_History_Age', Int64),\n",
       "        ('Payment_of_Min_Amount', String),\n",
       "        ('Total_EMI_per_month', Float64),\n",
       "        ('Amount_invested_monthly', Float64),\n",
       "        ('Payment_Behaviour', String),\n",
       "        ('Monthly_Balance', Float64),\n",
       "        ('Credit_Score', String),\n",
       "        ('median_age_per_occ', Float64)])"
      ]
     },
     "execution_count": 13,
     "metadata": {},
     "output_type": "execute_result"
    }
   ],
   "source": [
    "df.schema"
   ]
  },
  {
   "cell_type": "code",
   "execution_count": 13,
   "id": "7a6d0137",
   "metadata": {},
   "outputs": [
    {
     "data": {
      "text/plain": [
       "['Month',\n",
       " 'Occupation',\n",
       " 'Type_of_Loan',\n",
       " 'Credit_Mix',\n",
       " 'Credit_History_Age',\n",
       " 'Payment_of_Min_Amount',\n",
       " 'Payment_Behaviour',\n",
       " 'Credit_Score']"
      ]
     },
     "execution_count": 13,
     "metadata": {},
     "output_type": "execute_result"
    }
   ],
   "source": [
    "cat_cols = df.select(pl.col(pl.String)).columns\n",
    "cat_cols "
   ]
  }
 ],
 "metadata": {
  "kernelspec": {
   "display_name": "Python 3",
   "language": "python",
   "name": "python3"
  },
  "language_info": {
   "codemirror_mode": {
    "name": "ipython",
    "version": 3
   },
   "file_extension": ".py",
   "mimetype": "text/x-python",
   "name": "python",
   "nbconvert_exporter": "python",
   "pygments_lexer": "ipython3",
   "version": "3.13.5"
  }
 },
 "nbformat": 4,
 "nbformat_minor": 5
}
